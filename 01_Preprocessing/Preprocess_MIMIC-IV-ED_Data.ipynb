{
 "cells": [
  {
   "cell_type": "markdown",
   "metadata": {
    "collapsed": false
   },
   "source": [
    "# MIMIC IV ED Data\n",
    "We use data from the MIMIC IV ED dataset. In particular, we use the following tables:\n",
    "- `triage.csv` - contains triage information for each patient visit, the `chief_complaint` column is the free-text column of interest\n",
    "- `pyxis.csv` - contains medication information for each patient visit, we filter `gsn` column for antibiotics"
   ]
  },
  {
   "cell_type": "markdown",
   "metadata": {
    "collapsed": false
   },
   "source": [
    "## Load libraries and data"
   ]
  },
  {
   "cell_type": "code",
   "execution_count": 1,
   "metadata": {
    "ExecuteTime": {
     "end_time": "2023-05-15T14:11:12.810274621Z",
     "start_time": "2023-05-15T14:11:12.111797980Z"
    },
    "collapsed": false
   },
   "outputs": [
    {
     "name": "stdout",
     "output_type": "stream",
     "text": [
      "/home/kevin/DPhil/Projects/EHR-Indication-Processing/01_Preprocessing\n"
     ]
    }
   ],
   "source": [
    "# Load libraries\n",
    "import os\n",
    "import pandas as pd\n",
    "\n",
    "from pathlib import Path\n",
    "\n",
    "# Print current working directory\n",
    "print(os.getcwd())"
   ]
  },
  {
   "cell_type": "code",
   "execution_count": 2,
   "metadata": {
    "ExecuteTime": {
     "end_time": "2023-05-15T14:22:33.327754948Z",
     "start_time": "2023-05-15T14:22:31.216315210Z"
    },
    "collapsed": false
   },
   "outputs": [],
   "source": [
    "# Load the data\n",
    "data_dir = Path(\"../00_Data/\")\n",
    "mimic_ed_dir = data_dir / \"MIMIC-IV-ED/\"\n",
    "lut_dir = data_dir / \"LUTs/\"\n",
    "\n",
    "# MIMIC IV ED data\n",
    "triage = pd.read_csv(mimic_ed_dir / \"triage.csv\")\n",
    "pyxis = pd.read_csv(mimic_ed_dir / \"pyxis.csv\")\n",
    "\n",
    "# LUTs to filter the medication for ABX\n",
    "nddf_to_rxcui = pd.read_csv(lut_dir / \"nddf_to_rxcui.csv\")\\\n",
    "    .astype({\"NDDF\": int})\n",
    "rxcui_abx_list = pd.read_csv(lut_dir / \"abx_rxcui.csv\")"
   ]
  },
  {
   "cell_type": "markdown",
   "metadata": {
    "collapsed": false
   },
   "source": [
    "## Data pre-processing & exploratory data analysis"
   ]
  },
  {
   "cell_type": "markdown",
   "metadata": {
    "collapsed": false
   },
   "source": [
    "Match the antibiotics with RxNorm IDs to NDDF (GSN) indentifiers"
   ]
  },
  {
   "cell_type": "code",
   "execution_count": 3,
   "metadata": {
    "ExecuteTime": {
     "end_time": "2023-05-15T14:25:45.106903709Z",
     "start_time": "2023-05-15T14:25:45.061721358Z"
    },
    "collapsed": false
   },
   "outputs": [
    {
     "data": {
      "text/html": [
       "<div>\n",
       "<style scoped>\n",
       "    .dataframe tbody tr th:only-of-type {\n",
       "        vertical-align: middle;\n",
       "    }\n",
       "\n",
       "    .dataframe tbody tr th {\n",
       "        vertical-align: top;\n",
       "    }\n",
       "\n",
       "    .dataframe thead th {\n",
       "        text-align: right;\n",
       "    }\n",
       "</style>\n",
       "<table border=\"1\" class=\"dataframe\">\n",
       "  <thead>\n",
       "    <tr style=\"text-align: right;\">\n",
       "      <th></th>\n",
       "      <th>RXCUI</th>\n",
       "      <th>NDDF</th>\n",
       "    </tr>\n",
       "  </thead>\n",
       "  <tbody>\n",
       "    <tr>\n",
       "      <th>0</th>\n",
       "      <td>211</td>\n",
       "      <td>NaN</td>\n",
       "    </tr>\n",
       "    <tr>\n",
       "      <th>1</th>\n",
       "      <td>239</td>\n",
       "      <td>NaN</td>\n",
       "    </tr>\n",
       "    <tr>\n",
       "      <th>2</th>\n",
       "      <td>268</td>\n",
       "      <td>NaN</td>\n",
       "    </tr>\n",
       "    <tr>\n",
       "      <th>3</th>\n",
       "      <td>270</td>\n",
       "      <td>NaN</td>\n",
       "    </tr>\n",
       "    <tr>\n",
       "      <th>4</th>\n",
       "      <td>388</td>\n",
       "      <td>NaN</td>\n",
       "    </tr>\n",
       "    <tr>\n",
       "      <th>...</th>\n",
       "      <td>...</td>\n",
       "      <td>...</td>\n",
       "    </tr>\n",
       "    <tr>\n",
       "      <th>4983</th>\n",
       "      <td>2198370</td>\n",
       "      <td>80112.0</td>\n",
       "    </tr>\n",
       "    <tr>\n",
       "      <th>4984</th>\n",
       "      <td>2265706</td>\n",
       "      <td>80508.0</td>\n",
       "    </tr>\n",
       "    <tr>\n",
       "      <th>4985</th>\n",
       "      <td>2265711</td>\n",
       "      <td>NaN</td>\n",
       "    </tr>\n",
       "    <tr>\n",
       "      <th>4986</th>\n",
       "      <td>2375333</td>\n",
       "      <td>81111.0</td>\n",
       "    </tr>\n",
       "    <tr>\n",
       "      <th>4987</th>\n",
       "      <td>2375338</td>\n",
       "      <td>NaN</td>\n",
       "    </tr>\n",
       "  </tbody>\n",
       "</table>\n",
       "<p>4988 rows × 2 columns</p>\n",
       "</div>"
      ],
      "text/plain": [
       "        RXCUI     NDDF\n",
       "0         211      NaN\n",
       "1         239      NaN\n",
       "2         268      NaN\n",
       "3         270      NaN\n",
       "4         388      NaN\n",
       "...       ...      ...\n",
       "4983  2198370  80112.0\n",
       "4984  2265706  80508.0\n",
       "4985  2265711      NaN\n",
       "4986  2375333  81111.0\n",
       "4987  2375338      NaN\n",
       "\n",
       "[4988 rows x 2 columns]"
      ]
     },
     "execution_count": 3,
     "metadata": {},
     "output_type": "execute_result"
    }
   ],
   "source": [
    "rxcui_abx_nddf = rxcui_abx_list.merge(nddf_to_rxcui, how=\"left\", on=\"RXCUI\")\n",
    "rxcui_abx_nddf"
   ]
  },
  {
   "attachments": {},
   "cell_type": "markdown",
   "metadata": {},
   "source": [
    "Create an overview of the joined table"
   ]
  },
  {
   "cell_type": "code",
   "execution_count": 4,
   "metadata": {
    "ExecuteTime": {
     "end_time": "2023-05-15T14:36:04.146183345Z",
     "start_time": "2023-05-15T14:36:04.098619223Z"
    },
    "collapsed": false
   },
   "outputs": [
    {
     "name": "stdout",
     "output_type": "stream",
     "text": [
      "Number of antibiotics without NDDF ID: 3916\n",
      "Percentage of antibiotics without NDDF ID: 0.785084202085004\n"
     ]
    }
   ],
   "source": [
    "abx_no_nddf = rxcui_abx_nddf.query(\n",
    "    \"NDDF.isnull()\"\n",
    ")  # antibiotics do not have a NDDF ID\n",
    "\n",
    "print(f\"Number of antibiotics without NDDF ID: {abx_no_nddf.shape[0]}\")\n",
    "print(f\"Percentage of antibiotics without NDDF ID: {abx_no_nddf.shape[0]/rxcui_abx_nddf.shape[0]}\")"
   ]
  },
  {
   "cell_type": "markdown",
   "metadata": {
    "collapsed": false
   },
   "source": [
    "Check the MIMIC dataset for missing NDDF (GSN) IDs"
   ]
  },
  {
   "cell_type": "code",
   "execution_count": 5,
   "metadata": {
    "ExecuteTime": {
     "end_time": "2023-05-15T14:41:30.323529173Z",
     "start_time": "2023-05-15T14:41:30.268051661Z"
    },
    "collapsed": false
   },
   "outputs": [
    {
     "name": "stdout",
     "output_type": "stream",
     "text": [
      "Number of pyxis entries without NDDF ID: 35452\n",
      "Percentage of pyxis entries without NDDF ID: 0.02235234257619386\n",
      "name\n",
      "CefTRIAXone 1gm/100mL 100mL Bag           4312\n",
      "CefePIME                                  3508\n",
      "Ampicillin-Sulbactam                      3384\n",
      "Readi-Cat 2  (Barium Sul 2%)*             3207\n",
      "CeftriaXONE (Mini Bag Plus)               2863\n",
      "                                          ... \n",
      "Morphine Sulfate (Pharmacy Compounded)       2\n",
      "Cyano KIT                                    1\n",
      "LACOsamide 100mg/100mL 100mL Bag             1\n",
      "LACOsamide 150mg/100mL 100mL Bag             1\n",
      "Ledipasvir/Sofosbuvir                        1\n",
      "Length: 62, dtype: int64\n"
     ]
    }
   ],
   "source": [
    "# Check the MIMIC dataset for missing NDDF (GSN) IDs\n",
    "pyxis_no_nddf = pyxis.query(\"gsn.isnull()\")\n",
    "\n",
    "# Summarise the medication name with missing GSN IDs, sort by frequency\n",
    "medication_no_nddf = pyxis_no_nddf.groupby(\"name\").size().sort_values(ascending=False)\n",
    "\n",
    "print(f\"Number of pyxis entries without NDDF ID: {pyxis_no_nddf.shape[0]}\")\n",
    "print(f\"Percentage of pyxis entries without NDDF ID: {pyxis_no_nddf.shape[0]/pyxis.shape[0]}\")\n",
    "print(medication_no_nddf)"
   ]
  },
  {
   "cell_type": "markdown",
   "metadata": {
    "collapsed": false
   },
   "source": [
    "-> Requires cleanup..."
   ]
  },
  {
   "cell_type": "markdown",
   "metadata": {
    "collapsed": false
   },
   "source": [
    "## Filter for visists with antibiotics"
   ]
  },
  {
   "attachments": {},
   "cell_type": "markdown",
   "metadata": {},
   "source": [
    "Filter for antibiotics in the prescription system"
   ]
  },
  {
   "cell_type": "code",
   "execution_count": 6,
   "metadata": {},
   "outputs": [
    {
     "data": {
      "text/html": [
       "<div>\n",
       "<style scoped>\n",
       "    .dataframe tbody tr th:only-of-type {\n",
       "        vertical-align: middle;\n",
       "    }\n",
       "\n",
       "    .dataframe tbody tr th {\n",
       "        vertical-align: top;\n",
       "    }\n",
       "\n",
       "    .dataframe thead th {\n",
       "        text-align: right;\n",
       "    }\n",
       "</style>\n",
       "<table border=\"1\" class=\"dataframe\">\n",
       "  <thead>\n",
       "    <tr style=\"text-align: right;\">\n",
       "      <th></th>\n",
       "      <th>subject_id</th>\n",
       "      <th>stay_id</th>\n",
       "      <th>charttime</th>\n",
       "      <th>med_rn</th>\n",
       "      <th>name</th>\n",
       "      <th>gsn_rn</th>\n",
       "      <th>gsn</th>\n",
       "      <th>RXCUI</th>\n",
       "      <th>NDDF</th>\n",
       "    </tr>\n",
       "  </thead>\n",
       "  <tbody>\n",
       "    <tr>\n",
       "      <th>0</th>\n",
       "      <td>10000108</td>\n",
       "      <td>39513268</td>\n",
       "      <td>2163-09-24 20:45:00</td>\n",
       "      <td>1</td>\n",
       "      <td>Penicillin V Potassium</td>\n",
       "      <td>1</td>\n",
       "      <td>8879.0</td>\n",
       "      <td>834061</td>\n",
       "      <td>8879.0</td>\n",
       "    </tr>\n",
       "    <tr>\n",
       "      <th>1</th>\n",
       "      <td>10000108</td>\n",
       "      <td>39513268</td>\n",
       "      <td>2163-09-24 20:46:00</td>\n",
       "      <td>2</td>\n",
       "      <td>Penicillin V Potassium</td>\n",
       "      <td>1</td>\n",
       "      <td>8879.0</td>\n",
       "      <td>834061</td>\n",
       "      <td>8879.0</td>\n",
       "    </tr>\n",
       "    <tr>\n",
       "      <th>2</th>\n",
       "      <td>10021784</td>\n",
       "      <td>30314424</td>\n",
       "      <td>2189-03-11 00:32:00</td>\n",
       "      <td>2</td>\n",
       "      <td>Penicillin V Potassium</td>\n",
       "      <td>1</td>\n",
       "      <td>8879.0</td>\n",
       "      <td>834061</td>\n",
       "      <td>8879.0</td>\n",
       "    </tr>\n",
       "    <tr>\n",
       "      <th>3</th>\n",
       "      <td>10021784</td>\n",
       "      <td>30314424</td>\n",
       "      <td>2189-03-11 00:37:00</td>\n",
       "      <td>3</td>\n",
       "      <td>Penicillin V Potassium</td>\n",
       "      <td>1</td>\n",
       "      <td>8879.0</td>\n",
       "      <td>834061</td>\n",
       "      <td>8879.0</td>\n",
       "    </tr>\n",
       "    <tr>\n",
       "      <th>4</th>\n",
       "      <td>10027100</td>\n",
       "      <td>33852641</td>\n",
       "      <td>2155-09-28 20:50:00</td>\n",
       "      <td>1</td>\n",
       "      <td>Penicillin V Potassium</td>\n",
       "      <td>1</td>\n",
       "      <td>8879.0</td>\n",
       "      <td>834061</td>\n",
       "      <td>8879.0</td>\n",
       "    </tr>\n",
       "    <tr>\n",
       "      <th>...</th>\n",
       "      <td>...</td>\n",
       "      <td>...</td>\n",
       "      <td>...</td>\n",
       "      <td>...</td>\n",
       "      <td>...</td>\n",
       "      <td>...</td>\n",
       "      <td>...</td>\n",
       "      <td>...</td>\n",
       "      <td>...</td>\n",
       "    </tr>\n",
       "    <tr>\n",
       "      <th>131964</th>\n",
       "      <td>18001762</td>\n",
       "      <td>32047990</td>\n",
       "      <td>2160-10-11 04:41:00</td>\n",
       "      <td>8</td>\n",
       "      <td>Cortisporin Otic Susp</td>\n",
       "      <td>1</td>\n",
       "      <td>48559.0</td>\n",
       "      <td>310687</td>\n",
       "      <td>48559.0</td>\n",
       "    </tr>\n",
       "    <tr>\n",
       "      <th>131965</th>\n",
       "      <td>18567594</td>\n",
       "      <td>35615182</td>\n",
       "      <td>2206-03-05 23:20:00</td>\n",
       "      <td>2</td>\n",
       "      <td>Cortisporin Otic Susp 10mL DBTL</td>\n",
       "      <td>1</td>\n",
       "      <td>48559.0</td>\n",
       "      <td>310687</td>\n",
       "      <td>48559.0</td>\n",
       "    </tr>\n",
       "    <tr>\n",
       "      <th>131966</th>\n",
       "      <td>18724442</td>\n",
       "      <td>30826477</td>\n",
       "      <td>2152-10-22 21:17:00</td>\n",
       "      <td>1</td>\n",
       "      <td>Cortisporin Otic Susp</td>\n",
       "      <td>1</td>\n",
       "      <td>48559.0</td>\n",
       "      <td>310687</td>\n",
       "      <td>48559.0</td>\n",
       "    </tr>\n",
       "    <tr>\n",
       "      <th>131967</th>\n",
       "      <td>18852043</td>\n",
       "      <td>31889721</td>\n",
       "      <td>2185-10-15 11:20:00</td>\n",
       "      <td>4</td>\n",
       "      <td>Cortisporin Otic Susp</td>\n",
       "      <td>1</td>\n",
       "      <td>48559.0</td>\n",
       "      <td>310687</td>\n",
       "      <td>48559.0</td>\n",
       "    </tr>\n",
       "    <tr>\n",
       "      <th>131968</th>\n",
       "      <td>18925991</td>\n",
       "      <td>33308029</td>\n",
       "      <td>2167-08-27 20:32:00</td>\n",
       "      <td>2</td>\n",
       "      <td>Cortisporin Otic Susp</td>\n",
       "      <td>1</td>\n",
       "      <td>48559.0</td>\n",
       "      <td>310687</td>\n",
       "      <td>48559.0</td>\n",
       "    </tr>\n",
       "  </tbody>\n",
       "</table>\n",
       "<p>131969 rows × 9 columns</p>\n",
       "</div>"
      ],
      "text/plain": [
       "        subject_id   stay_id            charttime  med_rn  \\\n",
       "0         10000108  39513268  2163-09-24 20:45:00       1   \n",
       "1         10000108  39513268  2163-09-24 20:46:00       2   \n",
       "2         10021784  30314424  2189-03-11 00:32:00       2   \n",
       "3         10021784  30314424  2189-03-11 00:37:00       3   \n",
       "4         10027100  33852641  2155-09-28 20:50:00       1   \n",
       "...            ...       ...                  ...     ...   \n",
       "131964    18001762  32047990  2160-10-11 04:41:00       8   \n",
       "131965    18567594  35615182  2206-03-05 23:20:00       2   \n",
       "131966    18724442  30826477  2152-10-22 21:17:00       1   \n",
       "131967    18852043  31889721  2185-10-15 11:20:00       4   \n",
       "131968    18925991  33308029  2167-08-27 20:32:00       2   \n",
       "\n",
       "                                   name  gsn_rn      gsn   RXCUI     NDDF  \n",
       "0                Penicillin V Potassium       1   8879.0  834061   8879.0  \n",
       "1                Penicillin V Potassium       1   8879.0  834061   8879.0  \n",
       "2                Penicillin V Potassium       1   8879.0  834061   8879.0  \n",
       "3                Penicillin V Potassium       1   8879.0  834061   8879.0  \n",
       "4                Penicillin V Potassium       1   8879.0  834061   8879.0  \n",
       "...                                 ...     ...      ...     ...      ...  \n",
       "131964            Cortisporin Otic Susp       1  48559.0  310687  48559.0  \n",
       "131965  Cortisporin Otic Susp 10mL DBTL       1  48559.0  310687  48559.0  \n",
       "131966            Cortisporin Otic Susp       1  48559.0  310687  48559.0  \n",
       "131967            Cortisporin Otic Susp       1  48559.0  310687  48559.0  \n",
       "131968            Cortisporin Otic Susp       1  48559.0  310687  48559.0  \n",
       "\n",
       "[131969 rows x 9 columns]"
      ]
     },
     "execution_count": 6,
     "metadata": {},
     "output_type": "execute_result"
    }
   ],
   "source": [
    "# Deduplicate the source datasets before joining\n",
    "nddf_abx = rxcui_abx_nddf[~rxcui_abx_nddf.NDDF.isna()].drop_duplicates(subset=\"NDDF\")\n",
    "pyxis_nafree = pyxis[~pyxis.gsn.isna()]\n",
    "\n",
    "pysis_abx = pyxis_nafree.merge(\n",
    "    nddf_abx, how=\"inner\", left_on=\"gsn\", right_on=\"NDDF\", validate=\"many_to_one\"\n",
    ")\n",
    "pysis_abx"
   ]
  },
  {
   "attachments": {},
   "cell_type": "markdown",
   "metadata": {},
   "source": [
    "Get `subject_id` and `stay_id`s with prescribed antibiotics"
   ]
  },
  {
   "cell_type": "code",
   "execution_count": 7,
   "metadata": {
    "ExecuteTime": {
     "end_time": "2023-05-15T14:45:11.093760743Z",
     "start_time": "2023-05-15T14:45:11.050139373Z"
    },
    "collapsed": false
   },
   "outputs": [],
   "source": [
    "pysis_abx_patient = pysis_abx.drop_duplicates(subset=[\"subject_id\", \"stay_id\"])\n",
    "triage_abx = triage.merge(pysis_abx_patient, how=\"inner\", on=[\"subject_id\", \"stay_id\"])"
   ]
  },
  {
   "cell_type": "code",
   "execution_count": 8,
   "metadata": {},
   "outputs": [],
   "source": [
    "complaints_table = triage_abx.chiefcomplaint"
   ]
  },
  {
   "attachments": {},
   "cell_type": "markdown",
   "metadata": {},
   "source": [
    "## Export the data"
   ]
  },
  {
   "cell_type": "code",
   "execution_count": 9,
   "metadata": {},
   "outputs": [],
   "source": [
    "# Output path\n",
    "mimic_complaint_path = mimic_ed_dir / \"mimic_abx_complaint.csv\""
   ]
  },
  {
   "cell_type": "code",
   "execution_count": null,
   "metadata": {},
   "outputs": [],
   "source": [
    "# Write the data\n",
    "complaints_table.to_csv(mimic_complaint_path, index=False)"
   ]
  }
 ],
 "metadata": {
  "kernelspec": {
   "display_name": "Python 3",
   "language": "python",
   "name": "python3"
  },
  "language_info": {
   "codemirror_mode": {
    "name": "ipython",
    "version": 3
   },
   "file_extension": ".py",
   "mimetype": "text/x-python",
   "name": "python",
   "nbconvert_exporter": "python",
   "pygments_lexer": "ipython3",
   "version": "3.11.3"
  }
 },
 "nbformat": 4,
 "nbformat_minor": 0
}
