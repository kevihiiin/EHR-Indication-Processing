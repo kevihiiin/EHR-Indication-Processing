{
 "cells": [
  {
   "attachments": {},
   "cell_type": "markdown",
   "metadata": {},
   "source": [
    "# OpenAI Models - Zero Shot model\n",
    "Test the classification perfomance of OpenAI LLMs.\n",
    "\n",
    "Test cases will include:\n",
    "- **Zero Shot Models**\n",
    "- Embedding + XGBoost (or Cosine Similarity)\n",
    "- Finetuned model\n",
    "\n",
    "This notebook will attempt to create achieve multi-class classification by leaveraging the JSON output functionality."
   ]
  },
  {
   "cell_type": "markdown",
   "metadata": {},
   "source": [
    "## TODO\n",
    "- [x] The new preview model supports setting a seed to make \"reproducable\" runs\n",
    "- [ ] Run model multiple rounds and check reproducability\n",
    "- [x] Use .env files to set API keys\n",
    "- Implement token counter and optimise supplied prompts\n",
    "- Return number of used promts"
   ]
  },
  {
   "attachments": {},
   "cell_type": "markdown",
   "metadata": {},
   "source": [
    "## Setup & Study Parameters"
   ]
  },
  {
   "cell_type": "markdown",
   "metadata": {},
   "source": [
    "### Load Libraries\n",
    "Load libraries and the API key"
   ]
  },
  {
   "cell_type": "code",
   "execution_count": 1,
   "metadata": {},
   "outputs": [
    {
     "name": "stdout",
     "output_type": "stream",
     "text": [
      "Current work directory: /home/kevinyuan/EHR-Indication-Processing/02_Models/03_LLMs/OpenAI\n"
     ]
    }
   ],
   "source": [
    "# --- Load libraries\n",
    "# Standard libraries\n",
    "import glob\n",
    "import json\n",
    "import os\n",
    "import sys\n",
    "import logging\n",
    "import pickle\n",
    "\n",
    "# Misc\n",
    "import jinja2\n",
    "from dotenv import load_dotenv\n",
    "from tqdm.notebook import tqdm\n",
    "\n",
    "# DS libs\n",
    "import matplotlib.pyplot as plt\n",
    "import numpy as np\n",
    "import pandas as pd\n",
    "import seaborn as sns\n",
    "\n",
    "from pathlib import Path\n",
    "from tqdm.notebook import tqdm\n",
    "\n",
    "# ML libs\n",
    "from openai import OpenAI\n",
    "from sklearn.model_selection import train_test_split\n",
    "from sklearn.metrics import f1_score, roc_auc_score, accuracy_score\n",
    "\n",
    "# --- Specify logging level\n",
    "logging.basicConfig(level=logging.INFO)\n",
    "\n",
    "# --- Check the environment and load API key\n",
    "print(\"Current work directory:\", Path.cwd())\n",
    "\n",
    "# Load API key (DO NOT HARDCODE)\n",
    "load_dotenv()\n",
    "\n",
    "if _SECRET_KEY := os.getenv(\"OPENAI_API_KEY\"):\n",
    "    logging.debug(\"API key found.\")\n",
    "    client = OpenAI(\n",
    "        # defaults to os.environ.get(\"OPENAI_API_KEY\")\n",
    "        api_key=_SECRET_KEY\n",
    "    )\n",
    "else:\n",
    "    logging.error(\"API key not found. Please set the environment variable OPENAI_API_KEY\")"
   ]
  },
  {
   "attachments": {},
   "cell_type": "markdown",
   "metadata": {},
   "source": [
    "### Specify Study Parameters\n",
    "Data paths and model to use"
   ]
  },
  {
   "cell_type": "code",
   "execution_count": 2,
   "metadata": {},
   "outputs": [],
   "source": [
    "# Model parameters\n",
    "model_selection = \"GPT4\"  # \"Davinci\" or \"Curie\" or \"Babbage\" or \"Ada\"\n",
    "\n",
    "model_dict = {\n",
    "    \"GPT4\": \"gpt-4-1106-preview\",\n",
    "    # Only the following are made for chats\n",
    "    \"GPT3.5 Turbo\": \"gpt-3.5-turbo\",\n",
    "    # Only the following supports pure completion and text substitution\n",
    "    \"GPT3.5 Davinci\": \"text-davinci-003\",\n",
    "    # Only the following support finetuning, decreasing in performance and cost\n",
    "    \"Davinci\": \"davinci\",\n",
    "    \"Curie\": \"curie\",\n",
    "    \"Babbage\": \"babbage\",\n",
    "    \"Ada\": \"ada\",    \n",
    "}\n",
    "\n",
    "# --- Misc settings\n",
    "# Model names\n",
    "model_name_display = model_selection\n",
    "model_openai_id = model_dict[model_selection]  # OpenAI name/identifier\n",
    "\n",
    "# --- Paths\n",
    "# Base data path\n",
    "base_data_path = Path(\"../../../00_Data/\")\n",
    "# Data Path (training, testing, etc.)\n",
    "data_path =  base_data_path / \"publication_ready\"\n",
    "# Export Path (model checkpoints, predictions, etc.)\n",
    "export_path = base_data_path / \"export\" / f\"Zero_Shot_Table-{model_openai_id}\"\n",
    "\n",
    "\n",
    "assert base_data_path.is_dir(),\\\n",
    "  f\"{base_data_path} either doesn't exist or is not a directory.\"\n",
    "export_path.mkdir(exist_ok=True)\n",
    "\n",
    "seed = 42"
   ]
  },
  {
   "attachments": {},
   "cell_type": "markdown",
   "metadata": {},
   "source": [
    "## Import and clean data\n",
    "Import the test and validation data"
   ]
  },
  {
   "cell_type": "code",
   "execution_count": 3,
   "metadata": {},
   "outputs": [
    {
     "name": "stdout",
     "output_type": "stream",
     "text": [
      "Data set size overview:\n",
      "- Training set: 3400\n",
      "- Evaluation set: 600\n",
      "- Testing Oxford set: 2000\n",
      "- Testing Banbury set: 2000\n",
      "\n"
     ]
    }
   ],
   "source": [
    "# Import data --> upload into \"Files\" on the left-hand panel\n",
    "train_eval_df = pd.read_csv(\n",
    "    data_path / 'training_oxford_2023-08-23.csv',\n",
    "    dtype={\"Indication\": str},\n",
    "    keep_default_na=False,\n",
    "    na_values=[\"NA\"],\n",
    ")\n",
    "\n",
    "test_oxford_df = pd.read_csv(\n",
    "    data_path / 'testing_oxford_2023-08-23.csv',\n",
    "    dtype={\"Indication\": str},\n",
    "    keep_default_na=False,\n",
    "    na_values=[\"NA\"],\n",
    ")\n",
    "\n",
    "test_banbury_df = pd.read_csv(\n",
    "    data_path / 'testing_banbury_2023-08-23.csv',\n",
    "    dtype={\"Indication\": str},\n",
    "    keep_default_na=False,\n",
    "    na_values=[\"NA\"],\n",
    ")\n",
    "\n",
    "# --- Split into train and eval\n",
    "train_df, eval_df = train_test_split(\n",
    "    train_eval_df, \n",
    "    test_size=0.15,\n",
    "    random_state=42,\n",
    "    shuffle=True)\n",
    "\n",
    "print(\"Data set size overview:\")\n",
    "print(f\"- Training set: {train_df.shape[0]}\")\n",
    "print(f\"- Evaluation set: {eval_df.shape[0]}\")\n",
    "print(f\"- Testing Oxford set: {test_oxford_df.shape[0]}\")\n",
    "print(f\"- Testing Banbury set: {test_banbury_df.shape[0]}\")\n",
    "print()"
   ]
  },
  {
   "attachments": {},
   "cell_type": "markdown",
   "metadata": {},
   "source": [
    "### Define labels and mappers\n",
    "Convert labels to numbers and get prettier labels"
   ]
  },
  {
   "cell_type": "code",
   "execution_count": 4,
   "metadata": {},
   "outputs": [
    {
     "data": {
      "text/plain": [
       "['Urinary',\n",
       " 'Respiratory',\n",
       " 'Abdominal',\n",
       " 'Neurological',\n",
       " 'Skin Soft Tissue',\n",
       " 'Ent',\n",
       " 'Orthopaedic',\n",
       " 'Other Specific',\n",
       " 'No Specific Source',\n",
       " 'Prophylaxis',\n",
       " 'Uncertainty',\n",
       " 'Not Informative']"
      ]
     },
     "execution_count": 4,
     "metadata": {},
     "output_type": "execute_result"
    }
   ],
   "source": [
    "# labels\n",
    "labels = [label for label in train_df.columns if label not in [\"Indication\"]]\n",
    "labels_pretty = [\" \".join(word.capitalize() for word in label.split(\"_\")) for label in labels]\n",
    "id2label = {idx:label for idx, label in enumerate(labels)}\n",
    "label2id = {label:idx for idx, label in enumerate(labels)}\n",
    "labels2labels_pretty = {old:pretty for old, pretty in zip(labels, labels_pretty)}\n",
    "\n",
    "labels_pretty"
   ]
  },
  {
   "attachments": {},
   "cell_type": "markdown",
   "metadata": {},
   "source": [
    "### Preprocess data\n",
    "\n",
    "Not sure what's needed yet"
   ]
  },
  {
   "cell_type": "markdown",
   "metadata": {},
   "source": [
    "For now get a subset of the training data:\n",
    "- Extract some indications as validation data"
   ]
  },
  {
   "cell_type": "code",
   "execution_count": 5,
   "metadata": {},
   "outputs": [],
   "source": [
    "test_subsample = train_df.sample(n=100)\n",
    "test_subsample_indications = test_subsample.Indication"
   ]
  },
  {
   "attachments": {},
   "cell_type": "markdown",
   "metadata": {},
   "source": [
    "## Zero Shot Model\n",
    "Create a good query to use for Zero Shot predictions"
   ]
  },
  {
   "cell_type": "code",
   "execution_count": 6,
   "metadata": {},
   "outputs": [],
   "source": [
    "def request_completion(client, system_prompt, user_prompt, model_openai_id, max_tokens=100):\n",
    "    \"\"\"Sends the promt to the OpenAI API and returns the response.\n",
    "    Specify parameters for the model in the function call.\n",
    "    \"\"\"\n",
    "    # --- Fetch Chat Completion\n",
    "    chat_completion = client.chat.completions.create(\n",
    "        messages=[\n",
    "            {\n",
    "                \"role\": \"system\",\n",
    "                \"content\": system_prompt,\n",
    "            },\n",
    "            {\n",
    "                \"role\": \"user\",\n",
    "                \"content\": user_prompt,\n",
    "            }\n",
    "        ],\n",
    "        temperature=0,  # Set lower temperature (default 0)\n",
    "        max_tokens=max_tokens,\n",
    "        top_p=1,  # Return only the most likely completion (save tokens)\n",
    "        frequency_penalty=0,  # Default of 0, repeating sequences are ok and wanted\n",
    "        presence_penalty=0,  # Set to lower value to decrease the likelyhood if the model inveting new words/categories\n",
    "        model=model_openai_id,\n",
    "        response_format={ \"type\": \"json_object\" },\n",
    "        seed=seed,  # Set seed for reproducibility (check the API documentation for more details)\n",
    "        #logit_bias  # Force the model to only reply with the specified labels?\n",
    "        #logprobs  # Can it be used for evaluation?\n",
    "    )\n",
    "    # --- Process the response\n",
    "    # -- Content\n",
    "    # There will only be one completion given the parameter `top_p=1`\n",
    "    chat_completion_content = chat_completion.choices[0]\n",
    "\n",
    "    # Check whether the completion was truncated\n",
    "    if (finish_reason := chat_completion_content.finish_reason) != \"stop\":\n",
    "        logging.warning(f\"Completion was truncated. Finish reason: {finish_reason}\")\n",
    "    \n",
    "    chat_completion_message = chat_completion_content.message.content\n",
    "\n",
    "    # -- Metadata\n",
    "    # Gather general metadata\n",
    "    chat_completion_metadata = {\n",
    "        \"model\": chat_completion.model,\n",
    "        \"created\": chat_completion.created,\n",
    "        \"finish_reason\": finish_reason,\n",
    "        \"system_fingerprint\": chat_completion.system_fingerprint,\n",
    "    }\n",
    "\n",
    "    # Get usage metadata\n",
    "    chat_completion_usage = {\n",
    "        \"completion_tokens\": chat_completion.usage.completion_tokens,\n",
    "        \"prompt_tokens\": chat_completion.usage.prompt_tokens,\n",
    "        \"total_tokens\": chat_completion.usage.total_tokens,\n",
    "    }\n",
    "    \n",
    "    return chat_completion_message, chat_completion_metadata, chat_completion_usage"
   ]
  },
  {
   "cell_type": "markdown",
   "metadata": {},
   "source": [
    "### Prompt Engineering"
   ]
  },
  {
   "attachments": {},
   "cell_type": "markdown",
   "metadata": {},
   "source": [
    "Promt engineering:"
   ]
  },
  {
   "cell_type": "code",
   "execution_count": 7,
   "metadata": {},
   "outputs": [],
   "source": [
    "# Promt Graveyard, things that didn't quite make it\n",
    "\"\"\"\n",
    "\n",
    "--- The last line, instructing how the output should look like ---\n",
    "The classifications are (one line per indication, indication is not repeated):\n",
    "-> Gives the original indication\n",
    "\n",
    "The classifications are (one line per indication, the original indication is not repeated):\n",
    "-> Better, doesn't repeat the indication but returns only one catetory\n",
    "\n",
    "The classifications are (one line per indication, multiple categories are seperated by a comma, the original indication is not repeated):\n",
    "-> Repeats the indication, doesn't give multiple outputs\n",
    "\n",
    "Return the output as one line per indication, the original indication is not repeated, if multiple categories apply, seperate them by a comma. You have to return at least one of the categories above, if none apply, return \"[NA]\".:\n",
    "The classifications are :\n",
    "-> Repeats the output again\n",
    "\"\"\"\n",
    "pass  # Don't echo the string (for jupyter nbs)"
   ]
  },
  {
   "cell_type": "markdown",
   "metadata": {},
   "source": [
    "### Request formatting\n",
    "The new API (November 2023) allows/requests to specify three messages:\n",
    "1. System Prompt: Task description\n",
    "2. User Prompt User input\n",
    "3. Assistant Prompt: Model response\n",
    "\n",
    "The system prompt is the same for each request (static).\n",
    "The user prompt is dynamically generated and reformats the input into a table."
   ]
  },
  {
   "cell_type": "code",
   "execution_count": 8,
   "metadata": {},
   "outputs": [],
   "source": [
    "prompt_system_template_string = \"\"\"You are a helpful and precise UK medical expert; you have been given a list of indications describing why antibiotics were prescribed to patients in a hospital. You have been asked to **label** these indications into categories.\n",
    "You can only choose from these categories which are: {% for category in categories %}{{ category }}{% if not loop.last %}, {% endif %}{% endfor %}\n",
    "Multiple categories are allowed.\n",
    "{# \"No Spefic Source\" means a source is specified but not specific (e.g. just the word \"sepsis\"). \"Not Informative\" means the field does not reveal the source. #}When returning your answer, please return a json.\n",
    "\"\"\"\n",
    "\n",
    "prompt_user_template_string = \\\n",
    "\"\"\"\n",
    "This is the list of indications, return a json with the categories (multiple allowed) for each indication.\n",
    "{% for indication in indications -%}\n",
    "\"{{ indication }}\",\n",
    "{% endfor %}\n",
    "\n",
    "\"\"\"\n",
    "\n",
    "# Build the template\n",
    "environment = jinja2.Environment()\n",
    "prompt_user_template = environment.from_string(prompt_user_template_string)\n",
    "prompt_system_template = environment.from_string(prompt_system_template_string)"
   ]
  },
  {
   "cell_type": "markdown",
   "metadata": {},
   "source": [
    "Render tempalte with example data"
   ]
  },
  {
   "cell_type": "code",
   "execution_count": 9,
   "metadata": {},
   "outputs": [
    {
     "name": "stdout",
     "output_type": "stream",
     "text": [
      "System Prompt:\n",
      "You are a helpful and precise UK medical expert; you have been given a list of indications describing why antibiotics were prescribed to patients in a hospital. You have been asked to **label** these indications into categories.\n",
      "You can only choose from these categories which are: Urinary, Respiratory, Abdominal, Neurological, Skin Soft Tissue, Ent, Orthopaedic, Other Specific, No Specific Source, Prophylaxis, Uncertainty, Not Informative\n",
      "Multiple categories are allowed.\n",
      "When returning your answer, please return a json.\n",
      "User Prompt:\n",
      "\n",
      "This is the list of indications, return a json with the categories (multiple allowed) for each indication.\n",
      "\"sespsi\",\n",
      "\"mastoiditis\",\n",
      "\"post operative cover\",\n",
      "\"gbs bacteraemia\",\n",
      "\"prophyllaxis\",\n",
      "\"?chest inf\",\n",
      "\"rectovaginal fistula\",\n",
      "\"superadded infection\",\n",
      "\"recurrent uti\",\n",
      "\"antenatal sepsis\",\n",
      "\"fess\",\n",
      "\"surg prophylaxis\",\n",
      "\"inf\",\n",
      "\"herpetic keratitis\",\n",
      "\"erythroderma\",\n",
      "\"?listeria\",\n",
      "\"regular meds\",\n",
      "\"possible wound infection\",\n",
      "\"bi\",\n",
      "\"pre-admission\",\n",
      "\"rx\",\n",
      "\"post appendicectomy\",\n",
      "\"suko\",\n",
      "\"loading dose empiric cns\",\n",
      "\"infected surgical site\",\n",
      "\"oesophageal candidiasis\",\n",
      "\"cholecystostomy\",\n",
      "\"neck laceration\",\n",
      "\"yeast in blood culture\",\n",
      "\"productive cough\",\n",
      "\"sepsis\",\n",
      "\"community acquired pneumo\",\n",
      "\"splenic abscess\",\n",
      "\"curb 2 cap\",\n",
      "\"apendicitis\",\n",
      "\"tb prophylaxis\",\n",
      "\"peri anal abscess\",\n",
      "\"severe urosepsis\",\n",
      "\"wound infx\",\n",
      "\"mssa pji\",\n",
      "\"thumb infection\",\n",
      "\"hap\",\n",
      "\"infective exacerbation co\",\n",
      "\"pjp\",\n",
      "\"sepsis ?chest source\",\n",
      "\"?supraglottitis\",\n",
      "\"?lrti ?uti\",\n",
      "\"post tsa\",\n",
      "\"lrti uti\",\n",
      "\"neutropenia\",\n",
      "\"exacerbation cf\",\n",
      "\"anal sepsis\",\n",
      "\"cellulitis micro advice\",\n",
      "\"influenza a\",\n",
      "\"admission medication\",\n",
      "\"cap/hap\",\n",
      "\"?fungal chest\",\n",
      "\"proteus uti\",\n",
      "\"renal abscess\",\n",
      "\"aspiration pneumonitis\",\n",
      "\"neck space infection\",\n",
      "\"e coli urosepsis\",\n",
      "\"neutropenic fever\",\n",
      "\"cll\",\n",
      "\"abscess dental\",\n",
      "\"cmv colitis\",\n",
      "\"e. faecium\",\n",
      "\"prophylatic\",\n",
      "\"tazocin stepdown\",\n",
      "\"post-op appendicitis\",\n",
      "\"recurrent lrti\",\n",
      "\"presumed infection\",\n",
      "\"abdo pain\",\n",
      "\"sirs\",\n",
      "\"routine\",\n",
      "\"covid pneumonia\",\n",
      "\"h.pylori erradication\",\n",
      "\"ie of cf\",\n",
      "\"chemo prophylaxis\",\n",
      "\"prophylaxis\",\n",
      "\"leg wound\",\n",
      "\"possible cap\",\n",
      "\"?perianal abscess\",\n",
      "\"bacteraemia\",\n",
      "\"post op dair\",\n",
      "\"neck abscess\",\n",
      "\"acute diverticulitis\",\n",
      "\"dental\",\n",
      "\"esbl sepsis\",\n",
      "\"empyaema\",\n",
      "\"bowel perforation\",\n",
      "\"chronic om\",\n",
      "\"abdo infection\",\n",
      "\"?covid\",\n",
      "\"sigmoid perf\",\n",
      "\"gangrene\",\n",
      "\"surgical prophylaxis\",\n",
      "\"suspected hap\",\n",
      "\"appendicular abscess\",\n",
      "\"?anastamotic leak\",\n",
      "\n",
      "\n"
     ]
    }
   ],
   "source": [
    "# Render and display the tempaltes\n",
    "prompt_system = prompt_system_template.render(categories=labels_pretty)\n",
    "prompt_user = prompt_user_template.render(indications=test_subsample_indications, categories=labels_pretty)\n",
    "\n",
    "print(\"System Prompt:\")\n",
    "print(prompt_system)\n",
    "print(\"User Prompt:\")\n",
    "print(prompt_user)"
   ]
  },
  {
   "cell_type": "markdown",
   "metadata": {},
   "source": [
    "### Submit Test Prompt"
   ]
  },
  {
   "attachments": {},
   "cell_type": "markdown",
   "metadata": {},
   "source": [
    "Send the promt to the OpenAI LLM model & wait for the response"
   ]
  },
  {
   "cell_type": "code",
   "execution_count": 10,
   "metadata": {},
   "outputs": [
    {
     "name": "stderr",
     "output_type": "stream",
     "text": [
      "INFO:httpx:HTTP Request: POST https://api.openai.com/v1/chat/completions \"HTTP/1.1 200 OK\"\n"
     ]
    },
    {
     "name": "stdout",
     "output_type": "stream",
     "text": [
      "Output\n",
      "------\n",
      "('{\\n  \"sespsi\": [\"No Specific Source\"],\\n  \"mastoiditis\": [\"Ent\"],\\n  \"post operative cover\": [\"Prophylaxis\"],\\n  \"gbs bacteraemia\": [\"Other Specific\"],\\n  \"prophyllaxis\": [\"Prophylaxis\"],\\n  \"?chest inf\": [\"Respiratory\", \"Uncertainty\"],\\n  \"rectovaginal fistula\": [\"Abdominal\"],\\n  \"superadded infection\": [\"No Specific Source\"],\\n  \"recurrent uti\": [\"Urinary\"],\\n  \"antenatal sepsis\": [\"Other Specific\"],\\n  \"fess\": [\"Ent\"],\\n  \"surg prophylaxis\": [\"Prophylaxis\"],\\n  \"inf\": [\"Not Informative\"],\\n  \"herpetic keratitis\": [\"Other Specific\"],\\n  \"erythroderma\": [\"Skin Soft Tissue\"],\\n  \"?listeria\": [\"Uncertainty\"],\\n  \"regular meds\": [\"Not Informative\"],\\n  \"possible wound infection\": [\"Skin Soft Tissue\", \"Uncertainty\"],\\n  \"bi\": [\"Not Informative\"],\\n  \"pre-admission\": [\"Not Informative\"],\\n  \"rx\": [\"Not Informative\"],\\n  \"post appendicectomy\": [\"Prophylaxis\"],\\n  \"suko\": [\"Not Informative\"],\\n  \"loading dose empiric cns\": [\"Neurological\"],\\n  \"infected surgical site\": [\"Skin Soft Tissue\"],\\n  \"oesophageal candidiasis\": [\"Other Specific\"],\\n  \"cholecystostomy\": [\"Abdominal\"],\\n  \"neck laceration\": [\"Skin Soft Tissue\"],\\n  \"yeast in blood culture\": [\"Other Specific\"],\\n  \"productive cough\": [\"Respiratory\"],\\n  \"sepsis\": [\"No Specific Source\"],\\n  \"community acquired pneumo\": [\"Respiratory\"],\\n  \"splenic abscess\": [\"Abdominal\"],\\n  \"curb 2 cap\": [\"Respiratory\"],\\n  \"apendicitis\": [\"Abdominal\"],\\n  \"tb prophylaxis\": [\"Prophylaxis\"],\\n  \"peri anal abscess\": [\"Abdominal\"],\\n  \"severe urosepsis\": [\"Urinary\"],\\n  \"wound infx\": [\"Skin Soft Tissue\"],\\n  \"mssa pji\": [\"Orthopaedic\"],\\n  \"thumb infection\": [\"Skin Soft Tissue\"],\\n  \"hap\": [\"Respiratory\"],\\n  \"infective exacerbation co\": [\"Respiratory\"],\\n  \"pjp\": [\"Respiratory\"],\\n  \"sepsis ?chest source\": [\"Respiratory\", \"Uncertainty\"],\\n  \"?supraglottitis\": [\"Ent\", \"Uncertainty\"],\\n  \"?lrti ?uti\": [\"Respiratory\", \"Urinary\", \"Uncertainty\"],\\n  \"post tsa\": [\"Orthopaedic\"],\\n  \"lrti uti\": [\"Respiratory\", \"Urinary\"],\\n  \"neutropenia\": [\"Other Specific\"],\\n  \"exacerbation cf\": [\"Respiratory\"],\\n  \"anal sepsis\": [\"Abdominal\"],\\n  \"cellulitis micro advice\": [\"Skin Soft Tissue\"],\\n  \"influenza a\": [\"Respiratory\"],\\n  \"admission medication\": [\"Not Informative\"],\\n  \"cap/hap\": [\"Respiratory\"],\\n  \"?fungal chest\": [\"Respiratory\", \"Uncertainty\"],\\n  \"proteus uti\": [\"Urinary\"],\\n  \"renal abscess\": [\"Urinary\"],\\n  \"aspiration pneumonitis\": [\"Respiratory\"],\\n  \"neck space infection\": [\"Ent\"],\\n  \"e coli urosepsis\": [\"Urinary\"],\\n  \"neutropenic fever\": [\"Other Specific\"],\\n  \"cll\": [\"Other Specific\"],\\n  \"abscess dental\": [\"Ent\"],\\n  \"cmv colitis\": [\"Abdominal\"],\\n  \"e. faecium\": [\"Other Specific\"],\\n  \"prophylatic\": [\"Prophylaxis\"],\\n  \"tazocin stepdown\": [\"Not Informative\"],\\n  \"post-op appendicitis\": [\"Abdominal\"],\\n  \"recurrent lrti\": [\"Respiratory\"],\\n  \"presumed infection\": [\"Uncertainty\"],\\n  \"abdo pain\": [\"Abdominal\", \"Uncertainty\"],\\n  \"sirs\": [\"No Specific Source\"],\\n  \"routine\": [\"Not Informative\"],\\n  \"covid pneumonia\": [\"Respiratory\"],\\n  \"h.pylori erradication\": [\"Abdominal\"],\\n  \"ie of cf\": [\"Other Specific\"],\\n  \"chemo prophylaxis\": [\"Prophylaxis\"],\\n  \"prophylaxis\": [\"Prophylaxis\"],\\n  \"leg wound\": [\"Skin Soft Tissue\"],\\n  \"possible cap\": [\"Respiratory\", \"Uncertainty\"],\\n  \"?perianal abscess\": [\"Abdominal\", \"Uncertainty\"],\\n  \"bacteraemia\": [\"Other Specific\"],\\n  \"post op dair\": [\"Orthopaedic\"],\\n  \"neck abscess\": [\"Ent\"],\\n  \"acute diverticulitis\": [\"Abdominal\"],\\n  \"dental\": [\"Ent\"],\\n  \"esbl sepsis\": [\"Other Specific\"],\\n  \"empyaema\": [\"Respiratory\"],\\n  \"bowel perforation\": [\"Abdominal\"],\\n  \"chronic om\": [\"Ent\"],\\n  \"abdo infection\": [\"Abdominal\"],\\n  \"?covid\": [\"Respiratory\", \"Uncertainty\"],\\n  \"sigmoid perf\": [\"Abdominal\"],\\n  \"gangrene\": [\"Skin Soft Tissue\"],\\n  \"surgical prophylaxis\": [\"Prophylaxis\"],\\n  \"suspected hap\": [\"Respiratory\"],\\n  \"appendicular abscess\": [\"Abdominal\"],\\n  \"?anastamotic leak\": [\"Abdominal\", \"Uncertainty\"]\\n}', {'model': 'gpt-4-1106-preview', 'created': 1712242253, 'finish_reason': 'stop', 'system_fingerprint': 'fp_d986a8d1ba'}, {'completion_tokens': 1209, 'prompt_tokens': 703, 'total_tokens': 1912})\n",
      "------\n"
     ]
    }
   ],
   "source": [
    "chat_completion_message, chat_completion_metadata, chat_completion_usage = request_completion(\n",
    "    client=client,\n",
    "    system_prompt=prompt_system, \n",
    "    user_prompt=prompt_user, \n",
    "    model_openai_id=model_openai_id, \n",
    "    max_tokens=None)\n",
    "\n",
    "print(\"Output\")\n",
    "print(\"------\")\n",
    "print(f\"{chat_completion_message, chat_completion_metadata, chat_completion_usage}\")\n",
    "print(\"------\")"
   ]
  },
  {
   "cell_type": "markdown",
   "metadata": {},
   "source": [
    "### Output parsing\n",
    "Get the completion content"
   ]
  },
  {
   "cell_type": "code",
   "execution_count": 11,
   "metadata": {},
   "outputs": [
    {
     "data": {
      "text/plain": [
       "['{',\n",
       " '  \"sespsi\": [\"No Specific Source\"],',\n",
       " '  \"mastoiditis\": [\"Ent\"],',\n",
       " '  \"post operative cover\": [\"Prophylaxis\"],',\n",
       " '  \"gbs bacteraemia\": [\"Other Specific\"],',\n",
       " '  \"prophyllaxis\": [\"Prophylaxis\"],',\n",
       " '  \"?chest inf\": [\"Respiratory\", \"Uncertainty\"],',\n",
       " '  \"rectovaginal fistula\": [\"Abdominal\"],',\n",
       " '  \"superadded infection\": [\"No Specific Source\"],',\n",
       " '  \"recurrent uti\": [\"Urinary\"],',\n",
       " '  \"antenatal sepsis\": [\"Other Specific\"],',\n",
       " '  \"fess\": [\"Ent\"],',\n",
       " '  \"surg prophylaxis\": [\"Prophylaxis\"],',\n",
       " '  \"inf\": [\"Not Informative\"],',\n",
       " '  \"herpetic keratitis\": [\"Other Specific\"],',\n",
       " '  \"erythroderma\": [\"Skin Soft Tissue\"],',\n",
       " '  \"?listeria\": [\"Uncertainty\"],',\n",
       " '  \"regular meds\": [\"Not Informative\"],',\n",
       " '  \"possible wound infection\": [\"Skin Soft Tissue\", \"Uncertainty\"],',\n",
       " '  \"bi\": [\"Not Informative\"],',\n",
       " '  \"pre-admission\": [\"Not Informative\"],',\n",
       " '  \"rx\": [\"Not Informative\"],',\n",
       " '  \"post appendicectomy\": [\"Prophylaxis\"],',\n",
       " '  \"suko\": [\"Not Informative\"],',\n",
       " '  \"loading dose empiric cns\": [\"Neurological\"],',\n",
       " '  \"infected surgical site\": [\"Skin Soft Tissue\"],',\n",
       " '  \"oesophageal candidiasis\": [\"Other Specific\"],',\n",
       " '  \"cholecystostomy\": [\"Abdominal\"],',\n",
       " '  \"neck laceration\": [\"Skin Soft Tissue\"],',\n",
       " '  \"yeast in blood culture\": [\"Other Specific\"],',\n",
       " '  \"productive cough\": [\"Respiratory\"],',\n",
       " '  \"sepsis\": [\"No Specific Source\"],',\n",
       " '  \"community acquired pneumo\": [\"Respiratory\"],',\n",
       " '  \"splenic abscess\": [\"Abdominal\"],',\n",
       " '  \"curb 2 cap\": [\"Respiratory\"],',\n",
       " '  \"apendicitis\": [\"Abdominal\"],',\n",
       " '  \"tb prophylaxis\": [\"Prophylaxis\"],',\n",
       " '  \"peri anal abscess\": [\"Abdominal\"],',\n",
       " '  \"severe urosepsis\": [\"Urinary\"],',\n",
       " '  \"wound infx\": [\"Skin Soft Tissue\"],',\n",
       " '  \"mssa pji\": [\"Orthopaedic\"],',\n",
       " '  \"thumb infection\": [\"Skin Soft Tissue\"],',\n",
       " '  \"hap\": [\"Respiratory\"],',\n",
       " '  \"infective exacerbation co\": [\"Respiratory\"],',\n",
       " '  \"pjp\": [\"Respiratory\"],',\n",
       " '  \"sepsis ?chest source\": [\"Respiratory\", \"Uncertainty\"],',\n",
       " '  \"?supraglottitis\": [\"Ent\", \"Uncertainty\"],',\n",
       " '  \"?lrti ?uti\": [\"Respiratory\", \"Urinary\", \"Uncertainty\"],',\n",
       " '  \"post tsa\": [\"Orthopaedic\"],',\n",
       " '  \"lrti uti\": [\"Respiratory\", \"Urinary\"],',\n",
       " '  \"neutropenia\": [\"Other Specific\"],',\n",
       " '  \"exacerbation cf\": [\"Respiratory\"],',\n",
       " '  \"anal sepsis\": [\"Abdominal\"],',\n",
       " '  \"cellulitis micro advice\": [\"Skin Soft Tissue\"],',\n",
       " '  \"influenza a\": [\"Respiratory\"],',\n",
       " '  \"admission medication\": [\"Not Informative\"],',\n",
       " '  \"cap/hap\": [\"Respiratory\"],',\n",
       " '  \"?fungal chest\": [\"Respiratory\", \"Uncertainty\"],',\n",
       " '  \"proteus uti\": [\"Urinary\"],',\n",
       " '  \"renal abscess\": [\"Urinary\"],',\n",
       " '  \"aspiration pneumonitis\": [\"Respiratory\"],',\n",
       " '  \"neck space infection\": [\"Ent\"],',\n",
       " '  \"e coli urosepsis\": [\"Urinary\"],',\n",
       " '  \"neutropenic fever\": [\"Other Specific\"],',\n",
       " '  \"cll\": [\"Other Specific\"],',\n",
       " '  \"abscess dental\": [\"Ent\"],',\n",
       " '  \"cmv colitis\": [\"Abdominal\"],',\n",
       " '  \"e. faecium\": [\"Other Specific\"],',\n",
       " '  \"prophylatic\": [\"Prophylaxis\"],',\n",
       " '  \"tazocin stepdown\": [\"Not Informative\"],',\n",
       " '  \"post-op appendicitis\": [\"Abdominal\"],',\n",
       " '  \"recurrent lrti\": [\"Respiratory\"],',\n",
       " '  \"presumed infection\": [\"Uncertainty\"],',\n",
       " '  \"abdo pain\": [\"Abdominal\", \"Uncertainty\"],',\n",
       " '  \"sirs\": [\"No Specific Source\"],',\n",
       " '  \"routine\": [\"Not Informative\"],',\n",
       " '  \"covid pneumonia\": [\"Respiratory\"],',\n",
       " '  \"h.pylori erradication\": [\"Abdominal\"],',\n",
       " '  \"ie of cf\": [\"Other Specific\"],',\n",
       " '  \"chemo prophylaxis\": [\"Prophylaxis\"],',\n",
       " '  \"prophylaxis\": [\"Prophylaxis\"],',\n",
       " '  \"leg wound\": [\"Skin Soft Tissue\"],',\n",
       " '  \"possible cap\": [\"Respiratory\", \"Uncertainty\"],',\n",
       " '  \"?perianal abscess\": [\"Abdominal\", \"Uncertainty\"],',\n",
       " '  \"bacteraemia\": [\"Other Specific\"],',\n",
       " '  \"post op dair\": [\"Orthopaedic\"],',\n",
       " '  \"neck abscess\": [\"Ent\"],',\n",
       " '  \"acute diverticulitis\": [\"Abdominal\"],',\n",
       " '  \"dental\": [\"Ent\"],',\n",
       " '  \"esbl sepsis\": [\"Other Specific\"],',\n",
       " '  \"empyaema\": [\"Respiratory\"],',\n",
       " '  \"bowel perforation\": [\"Abdominal\"],',\n",
       " '  \"chronic om\": [\"Ent\"],',\n",
       " '  \"abdo infection\": [\"Abdominal\"],',\n",
       " '  \"?covid\": [\"Respiratory\", \"Uncertainty\"],',\n",
       " '  \"sigmoid perf\": [\"Abdominal\"],',\n",
       " '  \"gangrene\": [\"Skin Soft Tissue\"],',\n",
       " '  \"surgical prophylaxis\": [\"Prophylaxis\"],',\n",
       " '  \"suspected hap\": [\"Respiratory\"],',\n",
       " '  \"appendicular abscess\": [\"Abdominal\"],',\n",
       " '  \"?anastamotic leak\": [\"Abdominal\", \"Uncertainty\"]',\n",
       " '}']"
      ]
     },
     "execution_count": 11,
     "metadata": {},
     "output_type": "execute_result"
    }
   ],
   "source": [
    "chat_completion_message.split(\"\\n\")"
   ]
  },
  {
   "cell_type": "markdown",
   "metadata": {},
   "source": [
    "Convert the JSON return message into a indicator dataframe"
   ]
  },
  {
   "cell_type": "code",
   "execution_count": 12,
   "metadata": {},
   "outputs": [],
   "source": [
    "def format_message_to_df(return_msg_str):\n",
    "    # Convert the string to a dict/json\n",
    "    return_msg_json = json.loads(return_msg_str)\n",
    "\n",
    "    # Convert the dict to a DataFrame\n",
    "    return_msg_df = pd.DataFrame.from_dict(return_msg_json, orient='index')\n",
    "\n",
    "    # Apply get_dummies and sum along the columns axis, to make indicator matrix\n",
    "    return_msg_df = pd.get_dummies(return_msg_df.stack().reset_index(level=1, drop=True)).groupby(level=0).sum()\n",
    "\n",
    "    return return_msg_df\n",
    "\n",
    "return_msg_df = format_message_to_df(chat_completion_message)"
   ]
  },
  {
   "cell_type": "markdown",
   "metadata": {},
   "source": [
    "### Calculate Performance"
   ]
  },
  {
   "cell_type": "markdown",
   "metadata": {},
   "source": [
    "Rename columns and sort order for the true labels"
   ]
  },
  {
   "cell_type": "code",
   "execution_count": 13,
   "metadata": {},
   "outputs": [],
   "source": [
    "# Rename the labels and sort the values (as the predicted order is also sorted)\n",
    "test_subsample_formatted = test_subsample\\\n",
    "    .rename(columns=labels2labels_pretty)\\\n",
    "    .sort_values(by=\"Indication\")"
   ]
  },
  {
   "cell_type": "code",
   "execution_count": 14,
   "metadata": {},
   "outputs": [
    {
     "data": {
      "text/plain": [
       "({'F1-Score': 0.639312511545157},\n",
       "           Urinary  Respiratory  Abdominal  Neurological  Skin Soft Tissue  \\\n",
       " F1-Score      1.0         0.93       0.91           1.0               0.8   \n",
       " \n",
       "            Ent  Orthopaedic  Other Specific  No Specific Source  Prophylaxis  \\\n",
       " F1-Score  0.71         0.86            0.12                 0.2         0.69   \n",
       " \n",
       "           Uncertainty  Not Informative  \n",
       " F1-Score         0.89              0.0  )"
      ]
     },
     "execution_count": 14,
     "metadata": {},
     "output_type": "execute_result"
    }
   ],
   "source": [
    "metric_categories = [category for category in labels_pretty if category not in [\"No Specific Source\", \"Not Informative\"]]\n",
    "metric_categories = [category for category in labels_pretty if category not in [\"Not Informative\"]]\n",
    "\n",
    "def score_response(return_msg_df, test_subsample_formatted, metric_categories):\n",
    "    # --- Get true labels\n",
    "    y_test_pred = return_msg_df[metric_categories]\n",
    "    y_test_true = test_subsample_formatted[metric_categories]\n",
    "    # --- Calculate per-class metrics (F1 Score and ROC AUC)\n",
    "    scores_per_class = {}\n",
    "    scores_per_class[\"F1-Score\"] = f1_score(y_true=y_test_true, y_pred=y_test_pred, average=None)\n",
    "\n",
    "    scores_per_class = pd.DataFrame.from_dict(scores_per_class,orient='index', columns=metric_categories)\n",
    "\n",
    "    pd.set_option('display.precision', 2)\n",
    "\n",
    "    # --- Calculate overall averages (F1 Score and ROC AUC)\n",
    "    scores_average = {}\n",
    "    averaging_method = \"weighted\"\n",
    "    scores_average[\"F1-Score\"] = f1_score(y_true=y_test_true, y_pred=y_test_pred, average=averaging_method)\n",
    "    return scores_average, scores_per_class\n",
    "\n",
    "score_response(return_msg_df, test_subsample_formatted, labels_pretty)"
   ]
  },
  {
   "cell_type": "markdown",
   "metadata": {},
   "source": [
    "## Determine maximum token input\n",
    "The output of the model is limited to 4096 tokens, what is the ratio of input -> output tokens to not surpass the \n",
    "output token count?\n",
    "\n",
    "More specifically, how many indications can we enter on average to get less than 4k tokens back?"
   ]
  },
  {
   "cell_type": "markdown",
   "metadata": {},
   "source": [
    "### Theoretical Calculation\n",
    "Determine the output token length based on the average number of classes.\n",
    "\n",
    "1. Convert the indicator matrix into text\n",
    "2. Convert to JSON\n",
    "3. Tokenise and count"
   ]
  },
  {
   "cell_type": "code",
   "execution_count": 15,
   "metadata": {},
   "outputs": [],
   "source": [
    "# SKIPPED, as Ticktoken is not exactly how GPT4 tokenises anymore..."
   ]
  },
  {
   "cell_type": "markdown",
   "metadata": {},
   "source": [
    "### Experimental Validation"
   ]
  },
  {
   "cell_type": "markdown",
   "metadata": {},
   "source": [
    "Run chat completion for a range of input sizes. Once run, pickle the results."
   ]
  },
  {
   "cell_type": "code",
   "execution_count": 16,
   "metadata": {},
   "outputs": [],
   "source": [
    "repeat = 1  # It's expensive... maybe just repeat it once:)\n",
    "results_dict = {}\n",
    "\n",
    "pickle_path = Path(\"return_metric_dict.pkl\")\n",
    "load_pickle = True\n",
    "\n",
    "if not load_pickle:\n",
    "    for input_size in range(100, 350, 10):\n",
    "        print(\"Input size:\", input_size)\n",
    "\n",
    "        # Keep track of the results\n",
    "        usage_list = []\n",
    "        \n",
    "        # Repeat the process multiple times\n",
    "        for _ in range(repeat):\n",
    "            # Subset the dataset\n",
    "            test_subsample_indications = train_df.sample(n=input_size).Indication\n",
    "\n",
    "            # Render the templates\n",
    "            prompt_user = prompt_user_template.render(indications=test_subsample_indications, categories=labels_pretty)\n",
    "            prompt_system = prompt_system_template.render(categories=labels_pretty)\n",
    "\n",
    "            # Request the completion\n",
    "            _, _, chat_completion_usage = request_completion(\n",
    "                client=client,\n",
    "                system_prompt=prompt_system, \n",
    "                user_prompt=prompt_user, \n",
    "                model_openai_id=model_openai_id, \n",
    "                max_tokens=None)\n",
    "\n",
    "            # Print the results\n",
    "            print(f\"Usage: {chat_completion_usage}\")\n",
    "            usage_list.append(chat_completion_usage)\n",
    "\n",
    "        results_dict[input_size] = usage_list\n",
    "\n",
    "    pickle.dump(results_dict, open(pickle_path, \"wb\"))\n",
    "\n",
    "else:\n",
    "    results_dict = pickle.load(open(pickle_path, \"rb\"))"
   ]
  },
  {
   "cell_type": "markdown",
   "metadata": {},
   "source": [
    "Convert the results into a usable format"
   ]
  },
  {
   "cell_type": "code",
   "execution_count": 17,
   "metadata": {},
   "outputs": [],
   "source": [
    "# Take the first value in the list for now (we don't have multiple values)\n",
    "results_dict_unpacked = {key: value[0] for key, value in results_dict.items()}\n",
    "\n",
    "results_df = pd.DataFrame\\\n",
    "    .from_dict(results_dict_unpacked, orient='index')\\\n",
    "    .rename(columns={\"completion_tokens\": \"Completion Tokens\", \n",
    "                     \"prompt_tokens\": \"Prompt Tokens\", \n",
    "                     \"total_tokens\": \"Total Tokens\"\n",
    "                     })\n",
    "\n",
    "result_long_df = results_df\\\n",
    "    .rename_axis(\"Input Size\")\\\n",
    "    .reset_index()\\\n",
    "    .melt(\n",
    "        id_vars=[\"Input Size\"], \n",
    "        value_vars=[\"Prompt Tokens\", \"Completion Tokens\"],\n",
    "        value_name=\"Tokens\",\n",
    "        var_name=\"Token Type\")"
   ]
  },
  {
   "cell_type": "markdown",
   "metadata": {},
   "source": [
    "Plot the results"
   ]
  },
  {
   "cell_type": "code",
   "execution_count": 18,
   "metadata": {},
   "outputs": [
    {
     "data": {
      "image/png": "[encoded data removed]",
      "text/plain": [
       "<Figure size 680.625x500 with 1 Axes>"
      ]
     },
     "metadata": {},
     "output_type": "display_data"
    }
   ],
   "source": [
    "g = sns.lmplot(\n",
    "    data=result_long_df,\n",
    "    x=\"Input Size\",\n",
    "    y=\"Tokens\",\n",
    "    hue=\"Token Type\",\n",
    "    # height=6,\n",
    "    # aspect=1.5,\n",
    "    # legend_out=False,\n",
    ")\n",
    "\n",
    "# Add horizontal line at 4k tokens\n",
    "g.refline(y=4096, x=300)\n",
    "g.set(xlabel=\"Input Size (Number of Indications)\", ylabel=\"Tokens Used\", title=\"Input Size vs. Tokens Consumed\")\n",
    "\n",
    "plt.show()"
   ]
  },
  {
   "cell_type": "markdown",
   "metadata": {},
   "source": [
    "Conclusion:\n",
    "\n",
    "~330 input indications hit the return limit of 4k tokens\n",
    "\n",
    "-> 300 input indications seem like a good choice with a 10% safety margin"
   ]
  },
  {
   "cell_type": "markdown",
   "metadata": {},
   "source": [
    "## Run for the entire dataset\n",
    "Use the defined methods and run the model for the whole dataset, chunk it!\n",
    "Add some smartness for reruns and error handling."
   ]
  },
  {
   "cell_type": "code",
   "execution_count": 20,
   "metadata": {},
   "outputs": [],
   "source": [
    "train_pretty = train_df.rename(columns=labels2labels_pretty)[:700]\n",
    "train_pretty = test_subsample.rename(columns=labels2labels_pretty)"
   ]
  },
  {
   "cell_type": "code",
   "execution_count": 21,
   "metadata": {},
   "outputs": [
    {
     "data": {
      "application/vnd.jupyter.widget-view+json": {
       "model_id": "f58a0ff5745748a2ab24ca34a3d16a17",
       "version_major": 2,
       "version_minor": 0
      },
      "text/plain": [
       "  0%|          | 0/100 [00:00<?, ?it/s]"
      ]
     },
     "metadata": {},
     "output_type": "display_data"
    },
    {
     "name": "stderr",
     "output_type": "stream",
     "text": [
      "INFO:root:Processing chunk 0:100 of 100\n"
     ]
    },
    {
     "name": "stderr",
     "output_type": "stream",
     "text": [
      "INFO:httpx:HTTP Request: POST https://api.openai.com/v1/chat/completions \"HTTP/1.1 200 OK\"\n",
      "INFO:root:Usage: {'completion_tokens': 1210, 'prompt_tokens': 703, 'total_tokens': 1913}\n"
     ]
    }
   ],
   "source": [
    "chunksize = 100\n",
    "\n",
    "input_df_length = len(train_pretty)\n",
    "cursor = 0\n",
    "\n",
    "tmp_prediction_df_list = []\n",
    "prediction_metadata_list = []\n",
    "\n",
    "# Setup progress bar\n",
    "with tqdm(total=input_df_length) as p_bar:\n",
    "    # Start batch processing\n",
    "    while cursor < input_df_length:\n",
    "        cursor_end = min(cursor+chunksize, input_df_length)\n",
    "\n",
    "        logging.info(f\"Processing chunk {cursor}:{cursor_end} of {input_df_length}\")\n",
    "\n",
    "        # Subset the dataset\n",
    "        chunk = train_pretty.iloc[cursor:cursor_end]\n",
    "        chunk_indications = chunk.Indication\n",
    "\n",
    "        # Render the templates\n",
    "        prompt_user = prompt_user_template.render(indications=chunk_indications, categories=labels_pretty)\n",
    "        prompt_system = prompt_system_template.render(categories=labels_pretty)\n",
    "\n",
    "        # Request the completion\n",
    "        chat_completion_message, chat_completion_metadata, chat_completion_usage = request_completion(\n",
    "            client=client,\n",
    "            system_prompt=prompt_system, \n",
    "            user_prompt=prompt_user, \n",
    "            model_openai_id=model_openai_id, \n",
    "            max_tokens=None)\n",
    "        \n",
    "        # Check if output is truncated, reduce the maximum chunksize and rerun\n",
    "        if chat_completion_metadata[\"finish_reason\"] != \"stop\":\n",
    "            chunksize = chunksize - 10\n",
    "            logging.warning(f\"Maximum chunksize has been reduced to {chunksize}\")\n",
    "            continue\n",
    "\n",
    "        # Save the results and metadata\n",
    "        chat_completion_metadata[\"chunk_start\"] = cursor\n",
    "        chat_completion_metadata[\"chunk_end\"] = cursor_end\n",
    "\n",
    "        tmp_prediction_df_list.append(format_message_to_df(chat_completion_message))\n",
    "        prediction_metadata_list.append(chat_completion_metadata)\n",
    "        \n",
    "        # Show usage and continue to the next chunk\n",
    "        logging.info(f\"Usage: {chat_completion_usage}\")\n",
    "        p_bar.update(chunksize)\n",
    "        cursor += chunksize\n",
    "\n",
    "# Combine the results\n",
    "prediction_df = pd.concat(tmp_prediction_df_list)\n",
    "prediction_metadata_df = pd.DataFrame(prediction_metadata_list)"
   ]
  },
  {
   "cell_type": "code",
   "execution_count": 22,
   "metadata": {},
   "outputs": [
    {
     "data": {
      "text/plain": [
       "({'F1-Score': 0.6431192738885048},\n",
       "           Urinary  Respiratory  Abdominal  Neurological  Skin Soft Tissue  \\\n",
       " F1-Score      1.0         0.95       0.91           1.0               0.8   \n",
       " \n",
       "            Ent  Orthopaedic  Other Specific  No Specific Source  Prophylaxis  \\\n",
       " F1-Score  0.71         0.86            0.13                 0.2         0.69   \n",
       " \n",
       "           Uncertainty  Not Informative  \n",
       " F1-Score         0.89              0.0  )"
      ]
     },
     "execution_count": 22,
     "metadata": {},
     "output_type": "execute_result"
    }
   ],
   "source": [
    "score_response(prediction_df, train_pretty.sort_values(by=\"Indication\"), labels_pretty)"
   ]
  },
  {
   "cell_type": "code",
   "execution_count": 23,
   "metadata": {},
   "outputs": [
    {
     "data": {
      "text/html": [
       "<div>\n",
       "<style scoped>\n",
       "    .dataframe tbody tr th:only-of-type {\n",
       "        vertical-align: middle;\n",
       "    }\n",
       "\n",
       "    .dataframe tbody tr th {\n",
       "        vertical-align: top;\n",
       "    }\n",
       "\n",
       "    .dataframe thead th {\n",
       "        text-align: right;\n",
       "    }\n",
       "</style>\n",
       "<table border=\"1\" class=\"dataframe\">\n",
       "  <thead>\n",
       "    <tr style=\"text-align: right;\">\n",
       "      <th></th>\n",
       "      <th>Abdominal</th>\n",
       "      <th>Ent</th>\n",
       "      <th>Neurological</th>\n",
       "      <th>No Specific Source</th>\n",
       "      <th>Not Informative</th>\n",
       "      <th>Orthopaedic</th>\n",
       "      <th>Other Specific</th>\n",
       "      <th>Prophylaxis</th>\n",
       "      <th>Respiratory</th>\n",
       "      <th>Skin Soft Tissue</th>\n",
       "      <th>Uncertainty</th>\n",
       "      <th>Urinary</th>\n",
       "    </tr>\n",
       "  </thead>\n",
       "  <tbody>\n",
       "    <tr>\n",
       "      <th>?anastamotic leak</th>\n",
       "      <td>1</td>\n",
       "      <td>0</td>\n",
       "      <td>0</td>\n",
       "      <td>0</td>\n",
       "      <td>0</td>\n",
       "      <td>0</td>\n",
       "      <td>0</td>\n",
       "      <td>0</td>\n",
       "      <td>0</td>\n",
       "      <td>0</td>\n",
       "      <td>1</td>\n",
       "      <td>0</td>\n",
       "    </tr>\n",
       "    <tr>\n",
       "      <th>?chest inf</th>\n",
       "      <td>0</td>\n",
       "      <td>0</td>\n",
       "      <td>0</td>\n",
       "      <td>0</td>\n",
       "      <td>0</td>\n",
       "      <td>0</td>\n",
       "      <td>0</td>\n",
       "      <td>0</td>\n",
       "      <td>1</td>\n",
       "      <td>0</td>\n",
       "      <td>1</td>\n",
       "      <td>0</td>\n",
       "    </tr>\n",
       "    <tr>\n",
       "      <th>?covid</th>\n",
       "      <td>0</td>\n",
       "      <td>0</td>\n",
       "      <td>0</td>\n",
       "      <td>0</td>\n",
       "      <td>0</td>\n",
       "      <td>0</td>\n",
       "      <td>0</td>\n",
       "      <td>0</td>\n",
       "      <td>1</td>\n",
       "      <td>0</td>\n",
       "      <td>1</td>\n",
       "      <td>0</td>\n",
       "    </tr>\n",
       "    <tr>\n",
       "      <th>?fungal chest</th>\n",
       "      <td>0</td>\n",
       "      <td>0</td>\n",
       "      <td>0</td>\n",
       "      <td>0</td>\n",
       "      <td>0</td>\n",
       "      <td>0</td>\n",
       "      <td>0</td>\n",
       "      <td>0</td>\n",
       "      <td>1</td>\n",
       "      <td>0</td>\n",
       "      <td>1</td>\n",
       "      <td>0</td>\n",
       "    </tr>\n",
       "    <tr>\n",
       "      <th>?listeria</th>\n",
       "      <td>0</td>\n",
       "      <td>0</td>\n",
       "      <td>0</td>\n",
       "      <td>0</td>\n",
       "      <td>0</td>\n",
       "      <td>0</td>\n",
       "      <td>0</td>\n",
       "      <td>0</td>\n",
       "      <td>0</td>\n",
       "      <td>0</td>\n",
       "      <td>1</td>\n",
       "      <td>0</td>\n",
       "    </tr>\n",
       "    <tr>\n",
       "      <th>...</th>\n",
       "      <td>...</td>\n",
       "      <td>...</td>\n",
       "      <td>...</td>\n",
       "      <td>...</td>\n",
       "      <td>...</td>\n",
       "      <td>...</td>\n",
       "      <td>...</td>\n",
       "      <td>...</td>\n",
       "      <td>...</td>\n",
       "      <td>...</td>\n",
       "      <td>...</td>\n",
       "      <td>...</td>\n",
       "    </tr>\n",
       "    <tr>\n",
       "      <th>tazocin stepdown</th>\n",
       "      <td>0</td>\n",
       "      <td>0</td>\n",
       "      <td>0</td>\n",
       "      <td>0</td>\n",
       "      <td>1</td>\n",
       "      <td>0</td>\n",
       "      <td>0</td>\n",
       "      <td>0</td>\n",
       "      <td>0</td>\n",
       "      <td>0</td>\n",
       "      <td>0</td>\n",
       "      <td>0</td>\n",
       "    </tr>\n",
       "    <tr>\n",
       "      <th>tb prophylaxis</th>\n",
       "      <td>0</td>\n",
       "      <td>0</td>\n",
       "      <td>0</td>\n",
       "      <td>0</td>\n",
       "      <td>0</td>\n",
       "      <td>0</td>\n",
       "      <td>0</td>\n",
       "      <td>1</td>\n",
       "      <td>0</td>\n",
       "      <td>0</td>\n",
       "      <td>0</td>\n",
       "      <td>0</td>\n",
       "    </tr>\n",
       "    <tr>\n",
       "      <th>thumb infection</th>\n",
       "      <td>0</td>\n",
       "      <td>0</td>\n",
       "      <td>0</td>\n",
       "      <td>0</td>\n",
       "      <td>0</td>\n",
       "      <td>0</td>\n",
       "      <td>0</td>\n",
       "      <td>0</td>\n",
       "      <td>0</td>\n",
       "      <td>1</td>\n",
       "      <td>0</td>\n",
       "      <td>0</td>\n",
       "    </tr>\n",
       "    <tr>\n",
       "      <th>wound infx</th>\n",
       "      <td>0</td>\n",
       "      <td>0</td>\n",
       "      <td>0</td>\n",
       "      <td>0</td>\n",
       "      <td>0</td>\n",
       "      <td>0</td>\n",
       "      <td>0</td>\n",
       "      <td>0</td>\n",
       "      <td>0</td>\n",
       "      <td>1</td>\n",
       "      <td>0</td>\n",
       "      <td>0</td>\n",
       "    </tr>\n",
       "    <tr>\n",
       "      <th>yeast in blood culture</th>\n",
       "      <td>0</td>\n",
       "      <td>0</td>\n",
       "      <td>0</td>\n",
       "      <td>0</td>\n",
       "      <td>0</td>\n",
       "      <td>0</td>\n",
       "      <td>1</td>\n",
       "      <td>0</td>\n",
       "      <td>0</td>\n",
       "      <td>0</td>\n",
       "      <td>0</td>\n",
       "      <td>0</td>\n",
       "    </tr>\n",
       "  </tbody>\n",
       "</table>\n",
       "<p>100 rows × 12 columns</p>\n",
       "</div>"
      ],
      "text/plain": [
       "                        Abdominal  Ent  Neurological  No Specific Source  \\\n",
       "?anastamotic leak               1    0             0                   0   \n",
       "?chest inf                      0    0             0                   0   \n",
       "?covid                          0    0             0                   0   \n",
       "?fungal chest                   0    0             0                   0   \n",
       "?listeria                       0    0             0                   0   \n",
       "...                           ...  ...           ...                 ...   \n",
       "tazocin stepdown                0    0             0                   0   \n",
       "tb prophylaxis                  0    0             0                   0   \n",
       "thumb infection                 0    0             0                   0   \n",
       "wound infx                      0    0             0                   0   \n",
       "yeast in blood culture          0    0             0                   0   \n",
       "\n",
       "                        Not Informative  Orthopaedic  Other Specific  \\\n",
       "?anastamotic leak                     0            0               0   \n",
       "?chest inf                            0            0               0   \n",
       "?covid                                0            0               0   \n",
       "?fungal chest                         0            0               0   \n",
       "?listeria                             0            0               0   \n",
       "...                                 ...          ...             ...   \n",
       "tazocin stepdown                      1            0               0   \n",
       "tb prophylaxis                        0            0               0   \n",
       "thumb infection                       0            0               0   \n",
       "wound infx                            0            0               0   \n",
       "yeast in blood culture                0            0               1   \n",
       "\n",
       "                        Prophylaxis  Respiratory  Skin Soft Tissue  \\\n",
       "?anastamotic leak                 0            0                 0   \n",
       "?chest inf                        0            1                 0   \n",
       "?covid                            0            1                 0   \n",
       "?fungal chest                     0            1                 0   \n",
       "?listeria                         0            0                 0   \n",
       "...                             ...          ...               ...   \n",
       "tazocin stepdown                  0            0                 0   \n",
       "tb prophylaxis                    1            0                 0   \n",
       "thumb infection                   0            0                 1   \n",
       "wound infx                        0            0                 1   \n",
       "yeast in blood culture            0            0                 0   \n",
       "\n",
       "                        Uncertainty  Urinary  \n",
       "?anastamotic leak                 1        0  \n",
       "?chest inf                        1        0  \n",
       "?covid                            1        0  \n",
       "?fungal chest                     1        0  \n",
       "?listeria                         1        0  \n",
       "...                             ...      ...  \n",
       "tazocin stepdown                  0        0  \n",
       "tb prophylaxis                    0        0  \n",
       "thumb infection                   0        0  \n",
       "wound infx                        0        0  \n",
       "yeast in blood culture            0        0  \n",
       "\n",
       "[100 rows x 12 columns]"
      ]
     },
     "execution_count": 23,
     "metadata": {},
     "output_type": "execute_result"
    }
   ],
   "source": [
    "prediction_df"
   ]
  }
 ],
 "metadata": {
  "kernelspec": {
   "display_name": ".venv",
   "language": "python",
   "name": "python3"
  },
  "language_info": {
   "codemirror_mode": {
    "name": "ipython",
    "version": 3
   },
   "file_extension": ".py",
   "mimetype": "text/x-python",
   "name": "python",
   "nbconvert_exporter": "python",
   "pygments_lexer": "ipython3",
   "version": "3.10.4"
  },
  "orig_nbformat": 4
 },
 "nbformat": 4,
 "nbformat_minor": 2
}
