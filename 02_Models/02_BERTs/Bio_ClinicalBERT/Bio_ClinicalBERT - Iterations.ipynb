{
 "cells": [
  {
   "cell_type": "markdown",
   "metadata": {
    "id": "mPAZkFg-3S8X"
   },
   "source": [
    "# Antibiotic Indication Processig - BioClinical_BERT (Subsets)\n",
    "Check the performance of the model on different training set sizes.\n",
    "4000 -> 3200 -> 2800 -> etc.\n",
    "\n",
    "Pre-requisites:\n",
    "\n",
    "1. Set Runtime --> Change Runtime type --> GPUs (or TPUs)\n",
    "2. Copy the data file (indications, labeled) into `/content/`\n",
    "3. Set the model type"
   ]
  },
  {
   "cell_type": "markdown",
   "metadata": {
    "id": "Zv4bj9hM3uP8"
   },
   "source": [
    "Install and load libraries"
   ]
  },
  {
   "cell_type": "code",
   "execution_count": 14,
   "metadata": {
    "id": "CAvzfu_F99ik"
   },
   "outputs": [],
   "source": [
    "# --- Check for Google Colab\n",
    "import sys\n",
    "IN_COLAB = 'google.colab' in sys.modules\n",
    "\n",
    "# --- Install packages\n",
    "if IN_COLAB:\n",
    "  !pip install -q transformers datasets\n",
    "  !pip install -q sacremoses\n",
    "\n",
    "\n",
    "# --- Load libraries\n",
    "# Standard libraries\n",
    "import copy\n",
    "import glob\n",
    "import os\n",
    "\n",
    "# DS libs\n",
    "import datasets\n",
    "import matplotlib.pyplot as plt\n",
    "import numpy as np\n",
    "import pandas as pd\n",
    "import seaborn as sns\n",
    "import torch\n",
    "\n",
    "from pathlib import Path\n",
    "from tqdm.notebook import tqdm\n",
    "\n",
    "from datasets.dataset_dict import DatasetDict\n",
    "from datasets import Dataset\n",
    "\n",
    "from transformers import AutoTokenizer, EvalPrediction, pipeline, \\\n",
    "  AutoModelForSequenceClassification, TrainingArguments, Trainer\n",
    "\n",
    "from transformers.pipelines.pt_utils import KeyDataset\n",
    "from sklearn.model_selection import train_test_split\n",
    "from sklearn.metrics import f1_score, roc_auc_score, accuracy_score"
   ]
  },
  {
   "cell_type": "code",
   "execution_count": 15,
   "metadata": {
    "colab": {
     "base_uri": "https://localhost:8080/"
    },
    "id": "4ulQIuKZZrch",
    "outputId": "8dacbb58-a41e-4486-bda9-e26685fad624"
   },
   "outputs": [
    {
     "name": "stdout",
     "output_type": "stream",
     "text": [
      "Current work directory: /home/kevin/DPhil/Projects/EHR-Indication-Processing/02_Models/02_BERTs/Bio_ClinicalBERT\n"
     ]
    }
   ],
   "source": [
    "# Mounting Google Drive\n",
    "if IN_COLAB:\n",
    "  from google.colab import drive\n",
    "  drive.mount('/content/drive')\n",
    "  print(\"Mounted Google Drive at /content/drive\")\n",
    "else:\n",
    "  print(\"Current work directory:\", os.getcwd())"
   ]
  },
  {
   "cell_type": "code",
   "execution_count": 16,
   "metadata": {
    "colab": {
     "base_uri": "https://localhost:8080/"
    },
    "id": "oz-RdKH-KXyk",
    "outputId": "4f4fdc83-46aa-423a-9d60-11eded51a888"
   },
   "outputs": [
    {
     "name": "stdout",
     "output_type": "stream",
     "text": [
      "Using device: cuda:0\n",
      "huggingface/tokenizers: The current process just got forked, after parallelism has already been used. Disabling parallelism to avoid deadlocks...\n",
      "To disable this warning, you can either:\n",
      "\t- Avoid using `tokenizers` before the fork if possible\n",
      "\t- Explicitly set the environment variable TOKENIZERS_PARALLELISM=(true | false)\n",
      "Mon Oct 23 13:51:00 2023       \n",
      "+---------------------------------------------------------------------------------------+\n",
      "| NVIDIA-SMI 535.113.01             Driver Version: 535.113.01   CUDA Version: 12.2     |\n",
      "|-----------------------------------------+----------------------+----------------------+\n",
      "| GPU  Name                 Persistence-M | Bus-Id        Disp.A | Volatile Uncorr. ECC |\n",
      "| Fan  Temp   Perf          Pwr:Usage/Cap |         Memory-Usage | GPU-Util  Compute M. |\n",
      "|                                         |                      |               MIG M. |\n",
      "|=========================================+======================+======================|\n",
      "|   0  Quadro GV100                   Off | 00000000:65:00.0 Off |                  Off |\n",
      "| 29%   35C    P2              25W / 250W |   1251MiB / 32768MiB |      0%      Default |\n",
      "|                                         |                      |                  N/A |\n",
      "+-----------------------------------------+----------------------+----------------------+\n",
      "                                                                                         \n",
      "+---------------------------------------------------------------------------------------+\n",
      "| Processes:                                                                            |\n",
      "|  GPU   GI   CI        PID   Type   Process name                            GPU Memory |\n",
      "|        ID   ID                                                             Usage      |\n",
      "|=======================================================================================|\n",
      "|    0   N/A  N/A       771      G   /usr/lib/Xorg                               577MiB |\n",
      "|    0   N/A  N/A       928      G   /usr/bin/kwalletd5                            6MiB |\n",
      "|    0   N/A  N/A       995      G   /usr/bin/ksmserver                            6MiB |\n",
      "|    0   N/A  N/A       997      G   /usr/bin/kded5                                6MiB |\n",
      "|    0   N/A  N/A       998      G   /usr/bin/kwin_x11                            15MiB |\n",
      "|    0   N/A  N/A      1034      G   /usr/bin/plasmashell                         52MiB |\n",
      "|    0   N/A  N/A      1049      G   ...b/polkit-kde-authentication-agent-1      150MiB |\n",
      "|    0   N/A  N/A      1051      G   /usr/lib/xdg-desktop-portal-kde               6MiB |\n",
      "|    0   N/A  N/A      1185      G   /usr/bin/msm_kde_notifier                     6MiB |\n",
      "|    0   N/A  N/A      1189      G   /usr/lib/kdeconnectd                          6MiB |\n",
      "|    0   N/A  N/A      1191      G   /usr/bin/yakuake                              6MiB |\n",
      "|    0   N/A  N/A      1208      G   /usr/bin/kaccess                            110MiB |\n",
      "|    0   N/A  N/A      1213      G   /usr/bin/pamac-tray-plasma                    6MiB |\n",
      "|    0   N/A  N/A      1481      G   ...ures=SpareRendererForSitePerProcess      118MiB |\n",
      "|    0   N/A  N/A      2223      G   /usr/lib/kscreenlocker_greet                158MiB |\n",
      "+---------------------------------------------------------------------------------------+\n"
     ]
    }
   ],
   "source": [
    "if torch.cuda.is_available():  \n",
    "  cuda_device = \"cuda:0\" \n",
    "else:  \n",
    "  cuda_device = \"cpu\" \n",
    "\n",
    "print(f'Using device: {cuda_device}')\n",
    "\n",
    "!nvidia-smi"
   ]
  },
  {
   "cell_type": "markdown",
   "metadata": {
    "id": "uzSDyiBm43Ka"
   },
   "source": [
    "## Specify Parameters"
   ]
  },
  {
   "cell_type": "code",
   "execution_count": 17,
   "metadata": {
    "id": "BxCMaHxu47JY"
   },
   "outputs": [],
   "source": [
    "# --- Model parameters\n",
    "model_selection = \"Bio_ClinicalBERT\"\n",
    "\n",
    "model_dict = {\n",
    "    \"Base BERT\": \"bert-base-uncased\",\n",
    "    \"Bio_ClinicalBERT\": \"emilyalsentzer/Bio_ClinicalBERT\",\n",
    "    \n",
    "}\n",
    "\n",
    "# --- Paths\n",
    "# Base data path\n",
    "base_data_path = Path(\"../../../00_Data/\")\n",
    "# Data Path (training, testing, etc.)\n",
    "data_path =  base_data_path / \"publication_ready\"\n",
    "# Export Path (model checkpoints, predictions, etc.)\n",
    "export_path = base_data_path / \"export\" / \"Bio_ClinicalBERT_Iterative\"\n",
    "# Model Path (pre-trained models)\n",
    "# model_weight_path = export_path / \"Weights\"\n",
    "\n",
    "assert base_data_path.is_dir(),\\\n",
    "  f\"{base_data_path} either doesn't exist or is not a directory.\"\n",
    "export_path.mkdir(exist_ok=True)\n",
    "# model_weight_path.mkdir(exist_ok=True)\n",
    "\n",
    "\n",
    "# --- Misc settings\n",
    "# Model names\n",
    "model_name_display = model_selection\n",
    "model_hf_id = model_dict[model_selection]  # Huggingface name/identifier\n",
    "\n",
    "# Training Set Sizes (max 4000)\n",
    "training_set_sizes = (500, 1000, 2000, 4000)\n",
    "# training_set_sizes = tuple(reversed(training_set_sizes))  # Check whether reproducability is set correctly\n"
   ]
  },
  {
   "cell_type": "markdown",
   "metadata": {
    "id": "LhTA_cGw4iPj"
   },
   "source": [
    "## Import and check data\n",
    "Import the training, internal and external test sets & check the splits and data"
   ]
  },
  {
   "cell_type": "code",
   "execution_count": 18,
   "metadata": {
    "colab": {
     "base_uri": "https://localhost:8080/"
    },
    "id": "XCTbMT3vAjON",
    "outputId": "08c7669f-f2c0-49ed-ee42-cc519fe71e5f"
   },
   "outputs": [],
   "source": [
    "# Import data --> upload into \"Files\" on the left-hand panel\n",
    "train_eval_df = pd.read_csv(\n",
    "    data_path / 'training_oxford_2023-08-23.csv',\n",
    "    dtype={\"Indication\": str},\n",
    "    keep_default_na=False,\n",
    "    na_values=[\"NA\"],\n",
    ")\n",
    "\n",
    "test_oxford_df = pd.read_csv(\n",
    "    data_path / 'testing_oxford_2023-08-23.csv',\n",
    "    dtype={\"Indication\": str},\n",
    "    keep_default_na=False,\n",
    "    na_values=[\"NA\"],\n",
    ")\n",
    "\n",
    "test_banbury_df = pd.read_csv(\n",
    "    data_path / 'testing_banbury_2023-08-23.csv',\n",
    "    dtype={\"Indication\": str},\n",
    "    keep_default_na=False,\n",
    "    na_values=[\"NA\"],\n",
    ")"
   ]
  },
  {
   "cell_type": "markdown",
   "metadata": {},
   "source": [
    "House keeping:\n",
    "- Create some nice labels and label<->ID mappers"
   ]
  },
  {
   "cell_type": "code",
   "execution_count": 19,
   "metadata": {},
   "outputs": [],
   "source": [
    "# --- Create some usable labels\n",
    "labels = [label for label in train_eval_df.keys() if label not in ['Indication']]\n",
    "labels_pretty = [\" \".join(word.capitalize() for word in label.split(\"_\")) for label in labels]\n",
    "id2label = {idx:label for idx, label in enumerate(labels)}\n",
    "label2id = {label:idx for idx, label in enumerate(labels)}"
   ]
  },
  {
   "cell_type": "markdown",
   "metadata": {},
   "source": [
    "## Download Pretrained models and tokeniser\n",
    "Download the pretrained model and tokeniser from HuggingFace"
   ]
  },
  {
   "cell_type": "code",
   "execution_count": 20,
   "metadata": {},
   "outputs": [],
   "source": [
    "# Tokeniser\n",
    "tokenizer = AutoTokenizer.from_pretrained(model_hf_id)\n",
    "\n",
    "# Classification model\n",
    "def model_init():\n",
    "     return AutoModelForSequenceClassification.from_pretrained(\n",
    "          model_hf_id,\n",
    "          problem_type=\"multi_label_classification\", \n",
    "          num_labels=len(labels),\n",
    "          id2label=id2label,\n",
    "          label2id=label2id\n",
    "          )\n"
   ]
  },
  {
   "cell_type": "markdown",
   "metadata": {
    "id": "4OUyzdfvRuW5"
   },
   "source": [
    "## Define Data Preprocessing\n",
    "Using AutoTokenizer.\n",
    "\n",
    "NB: labels needs to be *floats*, not integers for PyTorch to work."
   ]
  },
  {
   "cell_type": "code",
   "execution_count": 21,
   "metadata": {},
   "outputs": [],
   "source": [
    "def prepare_datasets(train_eval_df, test_internal_df, test_external_df, \n",
    "                     test_size=0.15, \n",
    "                     random_state=42,\n",
    "                     shuffle=True):\n",
    "    \"\"\"Create Huggingface datasets, split training set into training and evaluation set.\n",
    "    Use sklearn's train_test_split function to split the training set.\n",
    "    \"\"\"\n",
    "    train_df, eval_df = train_test_split(\n",
    "        train_eval_df, \n",
    "        test_size=test_size,\n",
    "        random_state=random_state,\n",
    "        shuffle=shuffle)\n",
    "\n",
    "    print(\"Data set size overview:\")\n",
    "    print(f\"- Training set: {train_df.shape[0]}\")\n",
    "    print(f\"- Evaluation set: {eval_df.shape[0]}\")\n",
    "    print(f\"- Testing Oxford set: {test_oxford_df.shape[0]}\")\n",
    "    print(f\"- Testing Banbury set: {test_banbury_df.shape[0]}\")\n",
    "    print()\n",
    "\n",
    "    # --- Turn into Huggingface datasets\n",
    "    indication_data = datasets.DatasetDict({\n",
    "        \"train\": Dataset.from_pandas(train_df, preserve_index=False),\n",
    "        \"eval\": Dataset.from_pandas(eval_df, preserve_index=False),\n",
    "        \"test\": Dataset.from_pandas(test_internal_df, preserve_index=False),\n",
    "        \"test_external\": Dataset.from_pandas(test_external_df, preserve_index=False),\n",
    "    })\n",
    "\n",
    "    return indication_data"
   ]
  },
  {
   "cell_type": "code",
   "execution_count": 22,
   "metadata": {
    "id": "bHcQtYH0R_jM"
   },
   "outputs": [],
   "source": [
    "def encode_data(data):\n",
    "  \"\"\"Encode the indications and add labels to the data.\n",
    "  \"\"\"\n",
    "  text = data[\"Indication\"]\n",
    "  # encode them\n",
    "  encoding = tokenizer(text, padding=\"max_length\", truncation=True, max_length=128)\n",
    "  # add labels\n",
    "  labels_batch = {k: data[k] for k in data.keys() if k in labels}\n",
    "  # create numpy array of shape (batch_size, num_labels)\n",
    "  labels_matrix = np.zeros((len(text), len(labels)))\n",
    "  # fill numpy array\n",
    "  for idx, label in enumerate(labels):\n",
    "    labels_matrix[:, idx] = labels_batch[label]\n",
    "\n",
    "  encoding[\"labels\"] = labels_matrix.tolist()\n",
    "  \n",
    "  return encoding"
   ]
  },
  {
   "cell_type": "markdown",
   "metadata": {
    "id": "JRRI0SbPTNTN"
   },
   "source": [
    "## Define the Model\n",
    "We load a pre-trained model from the Hugginface portal/hub and fintetune it for our task."
   ]
  },
  {
   "cell_type": "markdown",
   "metadata": {},
   "source": [
    "Set training arguments (for Hugging face trainer API) "
   ]
  },
  {
   "cell_type": "code",
   "execution_count": 23,
   "metadata": {
    "id": "aMI_lbjSTwqO"
   },
   "outputs": [],
   "source": [
    "# --- Training arguments\n",
    "batch_size = 8\n",
    "metric_name = \"f1\"\n",
    "leanring_rate = 2e-5\n",
    "num_train_epochs = 5\n",
    "weight_decay=0.01"
   ]
  },
  {
   "cell_type": "markdown",
   "metadata": {},
   "source": [
    "Define multi label metrics"
   ]
  },
  {
   "cell_type": "code",
   "execution_count": 24,
   "metadata": {
    "id": "JQXliDKTT2TY"
   },
   "outputs": [],
   "source": [
    "# Source: https://jesusleal.io/2021/04/21/Longformer-multilabel-classification/\n",
    "def multi_label_metrics(predictions, labels, threshold=0.5):\n",
    "    # First, apply sigmoid on predictions which are of shape (batch_size, num_labels)\n",
    "    sigmoid = torch.nn.Sigmoid()\n",
    "    probs = sigmoid(torch.Tensor(predictions))\n",
    "    # Next, use threshold to turn them into integer predictions\n",
    "    y_pred = np.zeros(probs.shape)\n",
    "    y_pred[np.where(probs >= threshold)] = 1\n",
    "    # Finally, compute metrics\n",
    "    y_true = labels\n",
    "    f1_micro_average = f1_score(y_true=y_true, y_pred=y_pred, average='micro')\n",
    "    roc_auc = roc_auc_score(y_true, probs, average = 'micro')\n",
    "    accuracy = accuracy_score(y_true, y_pred)\n",
    "    # Return as dictionary\n",
    "    metrics = {'f1': f1_micro_average,\n",
    "               'roc_auc': roc_auc,\n",
    "               'accuracy': accuracy}\n",
    "    return metrics\n",
    "\n",
    "def compute_metrics(p: EvalPrediction):\n",
    "    preds = p.predictions[0] if isinstance(p.predictions, \n",
    "            tuple) else p.predictions\n",
    "    result = multi_label_metrics(\n",
    "        predictions=preds, \n",
    "        labels=p.label_ids)\n",
    "    return result"
   ]
  },
  {
   "cell_type": "markdown",
   "metadata": {},
   "source": [
    "## Define Evaluation & Metrics"
   ]
  },
  {
   "cell_type": "markdown",
   "metadata": {},
   "source": [
    "### Internal test set"
   ]
  },
  {
   "cell_type": "markdown",
   "metadata": {},
   "source": [
    "\n",
    "Apply the signmoid function to convert to probabilities & binarise"
   ]
  },
  {
   "cell_type": "code",
   "execution_count": 25,
   "metadata": {},
   "outputs": [],
   "source": [
    "pred_threshold = 0.5\n",
    "averaging_method = \"weighted\"\n",
    "\n",
    "def calculate_metrics(predictions_raw, true_labels):\n",
    "    \"\"\"Calculate metrics for the predictions.\n",
    "    \"\"\"\n",
    "    # --- Preprocess Predictions\n",
    "    # Binarise the predictions\n",
    "    sigmoid = torch.nn.Sigmoid()\n",
    "    predictions_probs = sigmoid(torch.Tensor(predictions_raw))\n",
    "    predictions_binarised = (predictions_probs > pred_threshold) * 1\n",
    "\n",
    "    # --- Calculate per class metrics\n",
    "    scores_per_class = {}\n",
    "    scores_per_class[\"F1-Score\"] = f1_score(y_true=true_labels, y_pred=predictions_binarised, average=None)\n",
    "    scores_per_class[\"ROC AUC\"] = roc_auc_score(y_true=true_labels, y_score=predictions_binarised, average=None)\n",
    "\n",
    "    scores_per_class = pd.DataFrame.from_dict(scores_per_class, orient='index', columns=labels_pretty)\n",
    "\n",
    "    # --- Calculate overall metrics\n",
    "    scores_average = {}\n",
    "    scores_average[\"F1-Score\"] = f1_score(y_true=true_labels, y_pred=predictions_binarised, average=averaging_method)\n",
    "    scores_average[\"ROC AUC\"] = roc_auc_score(y_true=true_labels, y_score=predictions_probs, average=averaging_method)\n",
    "\n",
    "    # --- Return the results\n",
    "    return scores_per_class, scores_average\n"
   ]
  },
  {
   "cell_type": "markdown",
   "metadata": {},
   "source": [
    "## Run Training & Evaluation Loop"
   ]
  },
  {
   "cell_type": "code",
   "execution_count": 26,
   "metadata": {},
   "outputs": [
    {
     "name": "stdout",
     "output_type": "stream",
     "text": [
      "Training set size: 400\n",
      "Data set size overview:\n",
      "- Training set: 340\n",
      "- Evaluation set: 60\n",
      "- Testing Oxford set: 2000\n",
      "- Testing Banbury set: 2000\n",
      "\n"
     ]
    },
    {
     "data": {
      "application/vnd.jupyter.widget-view+json": {
       "model_id": "eb72fc6301a44246a74c151f6245842e",
       "version_major": 2,
       "version_minor": 0
      },
      "text/plain": [
       "Map:   0%|          | 0/340 [00:00<?, ? examples/s]"
      ]
     },
     "metadata": {},
     "output_type": "display_data"
    },
    {
     "data": {
      "application/vnd.jupyter.widget-view+json": {
       "model_id": "1ddb69e9feda4103bffeada9be49b210",
       "version_major": 2,
       "version_minor": 0
      },
      "text/plain": [
       "Map:   0%|          | 0/60 [00:00<?, ? examples/s]"
      ]
     },
     "metadata": {},
     "output_type": "display_data"
    },
    {
     "data": {
      "application/vnd.jupyter.widget-view+json": {
       "model_id": "3f49c863f0b34f63ba2273ad6c65b221",
       "version_major": 2,
       "version_minor": 0
      },
      "text/plain": [
       "Map:   0%|          | 0/2000 [00:00<?, ? examples/s]"
      ]
     },
     "metadata": {},
     "output_type": "display_data"
    },
    {
     "data": {
      "application/vnd.jupyter.widget-view+json": {
       "model_id": "621be0e7f55f4f90a05276cab6911e5e",
       "version_major": 2,
       "version_minor": 0
      },
      "text/plain": [
       "Map:   0%|          | 0/2000 [00:00<?, ? examples/s]"
      ]
     },
     "metadata": {},
     "output_type": "display_data"
    },
    {
     "name": "stderr",
     "output_type": "stream",
     "text": [
      "Some weights of the model checkpoint at emilyalsentzer/Bio_ClinicalBERT were not used when initializing BertForSequenceClassification: ['cls.predictions.transform.LayerNorm.weight', 'cls.predictions.transform.LayerNorm.bias', 'cls.predictions.bias', 'cls.predictions.decoder.weight', 'cls.predictions.transform.dense.weight', 'cls.predictions.transform.dense.bias', 'cls.seq_relationship.bias', 'cls.seq_relationship.weight']\n",
      "- This IS expected if you are initializing BertForSequenceClassification from the checkpoint of a model trained on another task or with another architecture (e.g. initializing a BertForSequenceClassification model from a BertForPreTraining model).\n",
      "- This IS NOT expected if you are initializing BertForSequenceClassification from the checkpoint of a model that you expect to be exactly identical (initializing a BertForSequenceClassification model from a BertForSequenceClassification model).\n",
      "Some weights of BertForSequenceClassification were not initialized from the model checkpoint at emilyalsentzer/Bio_ClinicalBERT and are newly initialized: ['classifier.weight', 'classifier.bias']\n",
      "You should probably TRAIN this model on a down-stream task to be able to use it for predictions and inference.\n",
      "Some weights of the model checkpoint at emilyalsentzer/Bio_ClinicalBERT were not used when initializing BertForSequenceClassification: ['cls.predictions.transform.LayerNorm.weight', 'cls.predictions.transform.LayerNorm.bias', 'cls.predictions.bias', 'cls.predictions.decoder.weight', 'cls.predictions.transform.dense.weight', 'cls.predictions.transform.dense.bias', 'cls.seq_relationship.bias', 'cls.seq_relationship.weight']\n",
      "- This IS expected if you are initializing BertForSequenceClassification from the checkpoint of a model trained on another task or with another architecture (e.g. initializing a BertForSequenceClassification model from a BertForPreTraining model).\n",
      "- This IS NOT expected if you are initializing BertForSequenceClassification from the checkpoint of a model that you expect to be exactly identical (initializing a BertForSequenceClassification model from a BertForSequenceClassification model).\n",
      "Some weights of BertForSequenceClassification were not initialized from the model checkpoint at emilyalsentzer/Bio_ClinicalBERT and are newly initialized: ['classifier.weight', 'classifier.bias']\n",
      "You should probably TRAIN this model on a down-stream task to be able to use it for predictions and inference.\n",
      "/home/kevin/DPhil/Projects/EHR-Indication-Processing/.venv/lib/python3.11/site-packages/transformers/optimization.py:411: FutureWarning: This implementation of AdamW is deprecated and will be removed in a future version. Use the PyTorch implementation torch.optim.AdamW instead, or set `no_deprecation_warning=True` to disable this warning\n",
      "  warnings.warn(\n",
      "You're using a BertTokenizerFast tokenizer. Please note that with a fast tokenizer, using the `__call__` method is faster than using a method to encode the text followed by a call to the `pad` method to get a padded encoding.\n"
     ]
    },
    {
     "data": {
      "text/html": [
       "\n",
       "    <div>\n",
       "      \n",
       "      <progress value='860' max='860' style='width:300px; height:20px; vertical-align: middle;'></progress>\n",
       "      [860/860 01:09, Epoch 20/20]\n",
       "    </div>\n",
       "    <table border=\"1\" class=\"dataframe\">\n",
       "  <thead>\n",
       " <tr style=\"text-align: left;\">\n",
       "      <th>Epoch</th>\n",
       "      <th>Training Loss</th>\n",
       "      <th>Validation Loss</th>\n",
       "      <th>F1</th>\n",
       "      <th>Roc Auc</th>\n",
       "      <th>Accuracy</th>\n",
       "    </tr>\n",
       "  </thead>\n",
       "  <tbody>\n",
       "    <tr>\n",
       "      <td>1</td>\n",
       "      <td>No log</td>\n",
       "      <td>0.358469</td>\n",
       "      <td>0.000000</td>\n",
       "      <td>0.778213</td>\n",
       "      <td>0.000000</td>\n",
       "    </tr>\n",
       "    <tr>\n",
       "      <td>2</td>\n",
       "      <td>No log</td>\n",
       "      <td>0.296785</td>\n",
       "      <td>0.309278</td>\n",
       "      <td>0.828332</td>\n",
       "      <td>0.066667</td>\n",
       "    </tr>\n",
       "    <tr>\n",
       "      <td>3</td>\n",
       "      <td>No log</td>\n",
       "      <td>0.258960</td>\n",
       "      <td>0.444444</td>\n",
       "      <td>0.870288</td>\n",
       "      <td>0.150000</td>\n",
       "    </tr>\n",
       "    <tr>\n",
       "      <td>4</td>\n",
       "      <td>No log</td>\n",
       "      <td>0.230575</td>\n",
       "      <td>0.585366</td>\n",
       "      <td>0.886918</td>\n",
       "      <td>0.300000</td>\n",
       "    </tr>\n",
       "    <tr>\n",
       "      <td>5</td>\n",
       "      <td>No log</td>\n",
       "      <td>0.215563</td>\n",
       "      <td>0.645669</td>\n",
       "      <td>0.909550</td>\n",
       "      <td>0.416667</td>\n",
       "    </tr>\n",
       "    <tr>\n",
       "      <td>6</td>\n",
       "      <td>No log</td>\n",
       "      <td>0.196264</td>\n",
       "      <td>0.696970</td>\n",
       "      <td>0.919489</td>\n",
       "      <td>0.466667</td>\n",
       "    </tr>\n",
       "    <tr>\n",
       "      <td>7</td>\n",
       "      <td>No log</td>\n",
       "      <td>0.182783</td>\n",
       "      <td>0.750000</td>\n",
       "      <td>0.933233</td>\n",
       "      <td>0.566667</td>\n",
       "    </tr>\n",
       "    <tr>\n",
       "      <td>8</td>\n",
       "      <td>No log</td>\n",
       "      <td>0.168930</td>\n",
       "      <td>0.791367</td>\n",
       "      <td>0.934781</td>\n",
       "      <td>0.616667</td>\n",
       "    </tr>\n",
       "    <tr>\n",
       "      <td>9</td>\n",
       "      <td>No log</td>\n",
       "      <td>0.155018</td>\n",
       "      <td>0.808219</td>\n",
       "      <td>0.962172</td>\n",
       "      <td>0.666667</td>\n",
       "    </tr>\n",
       "    <tr>\n",
       "      <td>10</td>\n",
       "      <td>No log</td>\n",
       "      <td>0.149362</td>\n",
       "      <td>0.829932</td>\n",
       "      <td>0.948964</td>\n",
       "      <td>0.683333</td>\n",
       "    </tr>\n",
       "    <tr>\n",
       "      <td>11</td>\n",
       "      <td>No log</td>\n",
       "      <td>0.142428</td>\n",
       "      <td>0.827586</td>\n",
       "      <td>0.951200</td>\n",
       "      <td>0.683333</td>\n",
       "    </tr>\n",
       "    <tr>\n",
       "      <td>12</td>\n",
       "      <td>0.224200</td>\n",
       "      <td>0.136583</td>\n",
       "      <td>0.832215</td>\n",
       "      <td>0.965173</td>\n",
       "      <td>0.700000</td>\n",
       "    </tr>\n",
       "    <tr>\n",
       "      <td>13</td>\n",
       "      <td>0.224200</td>\n",
       "      <td>0.129807</td>\n",
       "      <td>0.834437</td>\n",
       "      <td>0.964141</td>\n",
       "      <td>0.716667</td>\n",
       "    </tr>\n",
       "    <tr>\n",
       "      <td>14</td>\n",
       "      <td>0.224200</td>\n",
       "      <td>0.130791</td>\n",
       "      <td>0.842105</td>\n",
       "      <td>0.963759</td>\n",
       "      <td>0.733333</td>\n",
       "    </tr>\n",
       "    <tr>\n",
       "      <td>15</td>\n",
       "      <td>0.224200</td>\n",
       "      <td>0.127865</td>\n",
       "      <td>0.842105</td>\n",
       "      <td>0.964867</td>\n",
       "      <td>0.733333</td>\n",
       "    </tr>\n",
       "    <tr>\n",
       "      <td>16</td>\n",
       "      <td>0.224200</td>\n",
       "      <td>0.128562</td>\n",
       "      <td>0.842105</td>\n",
       "      <td>0.962440</td>\n",
       "      <td>0.733333</td>\n",
       "    </tr>\n",
       "    <tr>\n",
       "      <td>17</td>\n",
       "      <td>0.224200</td>\n",
       "      <td>0.127781</td>\n",
       "      <td>0.842105</td>\n",
       "      <td>0.964504</td>\n",
       "      <td>0.733333</td>\n",
       "    </tr>\n",
       "    <tr>\n",
       "      <td>18</td>\n",
       "      <td>0.224200</td>\n",
       "      <td>0.125389</td>\n",
       "      <td>0.849673</td>\n",
       "      <td>0.962554</td>\n",
       "      <td>0.750000</td>\n",
       "    </tr>\n",
       "    <tr>\n",
       "      <td>19</td>\n",
       "      <td>0.224200</td>\n",
       "      <td>0.124304</td>\n",
       "      <td>0.849673</td>\n",
       "      <td>0.964007</td>\n",
       "      <td>0.750000</td>\n",
       "    </tr>\n",
       "    <tr>\n",
       "      <td>20</td>\n",
       "      <td>0.224200</td>\n",
       "      <td>0.123946</td>\n",
       "      <td>0.849673</td>\n",
       "      <td>0.963854</td>\n",
       "      <td>0.750000</td>\n",
       "    </tr>\n",
       "  </tbody>\n",
       "</table><p>"
      ],
      "text/plain": [
       "<IPython.core.display.HTML object>"
      ]
     },
     "metadata": {},
     "output_type": "display_data"
    },
    {
     "data": {
      "text/html": [],
      "text/plain": [
       "<IPython.core.display.HTML object>"
      ]
     },
     "metadata": {},
     "output_type": "display_data"
    },
    {
     "data": {
      "text/html": [],
      "text/plain": [
       "<IPython.core.display.HTML object>"
      ]
     },
     "metadata": {},
     "output_type": "display_data"
    },
    {
     "name": "stdout",
     "output_type": "stream",
     "text": [
      "Internal Test Set\n",
      "(           Urinary  Respiratory  Abdominal  Neurological  Skin Soft Tissue  \\\n",
      "F1-Score  0.933333     0.939058   0.928105      0.756757          0.840000   \n",
      "ROC AUC   0.937500     0.950441   0.943619      0.804348          0.897018   \n",
      "\n",
      "               Ent  Orthopaedic  Other Specific  No Specific Source  \\\n",
      "F1-Score  0.178571     0.690476        0.647059            0.955125   \n",
      "ROC AUC   0.549020     0.763636        0.748954            0.958807   \n",
      "\n",
      "          Prophylaxis  Uncertainty  Not Informative  \n",
      "F1-Score     0.948905     0.928144         0.210526  \n",
      "ROC AUC      0.955475     0.944033         0.558824  , {'F1-Score': 0.9036594189631324, 'ROC AUC': 0.9724819155331631})\n",
      "External Test Set\n",
      "(           Urinary  Respiratory  Abdominal  Neurological  Skin Soft Tissue  \\\n",
      "F1-Score  0.966216     0.967368   0.928571      0.838710          0.888889   \n",
      "ROC AUC   0.968557     0.970061   0.940147      0.861111          0.900000   \n",
      "\n",
      "          Ent  Orthopaedic  Other Specific  No Specific Source  Prophylaxis  \\\n",
      "F1-Score  0.0     0.666667        0.631579            0.971777     0.959885   \n",
      "ROC AUC   0.5     0.750000        0.739747            0.981111     0.965355   \n",
      "\n",
      "          Uncertainty  Not Informative  \n",
      "F1-Score     0.961089         0.409091  \n",
      "ROC AUC      0.974536         0.628571  , {'F1-Score': 0.9407168542942105, 'ROC AUC': 0.9839813944237467})\n",
      "Training set size: 600\n",
      "Data set size overview:\n",
      "- Training set: 510\n",
      "- Evaluation set: 90\n",
      "- Testing Oxford set: 2000\n",
      "- Testing Banbury set: 2000\n",
      "\n"
     ]
    },
    {
     "data": {
      "application/vnd.jupyter.widget-view+json": {
       "model_id": "367e1dc4b5914b21b97d4fe0ed2c0ea9",
       "version_major": 2,
       "version_minor": 0
      },
      "text/plain": [
       "Map:   0%|          | 0/510 [00:00<?, ? examples/s]"
      ]
     },
     "metadata": {},
     "output_type": "display_data"
    },
    {
     "data": {
      "application/vnd.jupyter.widget-view+json": {
       "model_id": "19ca1f9686124104a3f41a00f63d3099",
       "version_major": 2,
       "version_minor": 0
      },
      "text/plain": [
       "Map:   0%|          | 0/90 [00:00<?, ? examples/s]"
      ]
     },
     "metadata": {},
     "output_type": "display_data"
    },
    {
     "data": {
      "application/vnd.jupyter.widget-view+json": {
       "model_id": "be0b555104984e04b1ab02ffc2d240a0",
       "version_major": 2,
       "version_minor": 0
      },
      "text/plain": [
       "Map:   0%|          | 0/2000 [00:00<?, ? examples/s]"
      ]
     },
     "metadata": {},
     "output_type": "display_data"
    },
    {
     "data": {
      "application/vnd.jupyter.widget-view+json": {
       "model_id": "0a20381cb5584f1eb124cf2c65a23f16",
       "version_major": 2,
       "version_minor": 0
      },
      "text/plain": [
       "Map:   0%|          | 0/2000 [00:00<?, ? examples/s]"
      ]
     },
     "metadata": {},
     "output_type": "display_data"
    },
    {
     "name": "stderr",
     "output_type": "stream",
     "text": [
      "Some weights of the model checkpoint at emilyalsentzer/Bio_ClinicalBERT were not used when initializing BertForSequenceClassification: ['cls.predictions.transform.LayerNorm.weight', 'cls.predictions.transform.LayerNorm.bias', 'cls.predictions.bias', 'cls.predictions.decoder.weight', 'cls.predictions.transform.dense.weight', 'cls.predictions.transform.dense.bias', 'cls.seq_relationship.bias', 'cls.seq_relationship.weight']\n",
      "- This IS expected if you are initializing BertForSequenceClassification from the checkpoint of a model trained on another task or with another architecture (e.g. initializing a BertForSequenceClassification model from a BertForPreTraining model).\n",
      "- This IS NOT expected if you are initializing BertForSequenceClassification from the checkpoint of a model that you expect to be exactly identical (initializing a BertForSequenceClassification model from a BertForSequenceClassification model).\n",
      "Some weights of BertForSequenceClassification were not initialized from the model checkpoint at emilyalsentzer/Bio_ClinicalBERT and are newly initialized: ['classifier.weight', 'classifier.bias']\n",
      "You should probably TRAIN this model on a down-stream task to be able to use it for predictions and inference.\n",
      "Some weights of the model checkpoint at emilyalsentzer/Bio_ClinicalBERT were not used when initializing BertForSequenceClassification: ['cls.predictions.transform.LayerNorm.weight', 'cls.predictions.transform.LayerNorm.bias', 'cls.predictions.bias', 'cls.predictions.decoder.weight', 'cls.predictions.transform.dense.weight', 'cls.predictions.transform.dense.bias', 'cls.seq_relationship.bias', 'cls.seq_relationship.weight']\n",
      "- This IS expected if you are initializing BertForSequenceClassification from the checkpoint of a model trained on another task or with another architecture (e.g. initializing a BertForSequenceClassification model from a BertForPreTraining model).\n",
      "- This IS NOT expected if you are initializing BertForSequenceClassification from the checkpoint of a model that you expect to be exactly identical (initializing a BertForSequenceClassification model from a BertForSequenceClassification model).\n",
      "Some weights of BertForSequenceClassification were not initialized from the model checkpoint at emilyalsentzer/Bio_ClinicalBERT and are newly initialized: ['classifier.weight', 'classifier.bias']\n",
      "You should probably TRAIN this model on a down-stream task to be able to use it for predictions and inference.\n",
      "/home/kevin/DPhil/Projects/EHR-Indication-Processing/.venv/lib/python3.11/site-packages/transformers/optimization.py:411: FutureWarning: This implementation of AdamW is deprecated and will be removed in a future version. Use the PyTorch implementation torch.optim.AdamW instead, or set `no_deprecation_warning=True` to disable this warning\n",
      "  warnings.warn(\n"
     ]
    },
    {
     "data": {
      "text/html": [
       "\n",
       "    <div>\n",
       "      \n",
       "      <progress value='1280' max='1280' style='width:300px; height:20px; vertical-align: middle;'></progress>\n",
       "      [1280/1280 01:43, Epoch 20/20]\n",
       "    </div>\n",
       "    <table border=\"1\" class=\"dataframe\">\n",
       "  <thead>\n",
       " <tr style=\"text-align: left;\">\n",
       "      <th>Epoch</th>\n",
       "      <th>Training Loss</th>\n",
       "      <th>Validation Loss</th>\n",
       "      <th>F1</th>\n",
       "      <th>Roc Auc</th>\n",
       "      <th>Accuracy</th>\n",
       "    </tr>\n",
       "  </thead>\n",
       "  <tbody>\n",
       "    <tr>\n",
       "      <td>1</td>\n",
       "      <td>No log</td>\n",
       "      <td>0.327211</td>\n",
       "      <td>0.000000</td>\n",
       "      <td>0.799574</td>\n",
       "      <td>0.000000</td>\n",
       "    </tr>\n",
       "    <tr>\n",
       "      <td>2</td>\n",
       "      <td>No log</td>\n",
       "      <td>0.264581</td>\n",
       "      <td>0.444444</td>\n",
       "      <td>0.871094</td>\n",
       "      <td>0.144444</td>\n",
       "    </tr>\n",
       "    <tr>\n",
       "      <td>3</td>\n",
       "      <td>No log</td>\n",
       "      <td>0.223330</td>\n",
       "      <td>0.645833</td>\n",
       "      <td>0.906717</td>\n",
       "      <td>0.355556</td>\n",
       "    </tr>\n",
       "    <tr>\n",
       "      <td>4</td>\n",
       "      <td>No log</td>\n",
       "      <td>0.193221</td>\n",
       "      <td>0.709360</td>\n",
       "      <td>0.932107</td>\n",
       "      <td>0.455556</td>\n",
       "    </tr>\n",
       "    <tr>\n",
       "      <td>5</td>\n",
       "      <td>No log</td>\n",
       "      <td>0.172357</td>\n",
       "      <td>0.742857</td>\n",
       "      <td>0.945235</td>\n",
       "      <td>0.522222</td>\n",
       "    </tr>\n",
       "    <tr>\n",
       "      <td>6</td>\n",
       "      <td>No log</td>\n",
       "      <td>0.157845</td>\n",
       "      <td>0.818182</td>\n",
       "      <td>0.935185</td>\n",
       "      <td>0.644444</td>\n",
       "    </tr>\n",
       "    <tr>\n",
       "      <td>7</td>\n",
       "      <td>No log</td>\n",
       "      <td>0.149664</td>\n",
       "      <td>0.809091</td>\n",
       "      <td>0.933305</td>\n",
       "      <td>0.633333</td>\n",
       "    </tr>\n",
       "    <tr>\n",
       "      <td>8</td>\n",
       "      <td>0.220800</td>\n",
       "      <td>0.140080</td>\n",
       "      <td>0.805430</td>\n",
       "      <td>0.942315</td>\n",
       "      <td>0.633333</td>\n",
       "    </tr>\n",
       "    <tr>\n",
       "      <td>9</td>\n",
       "      <td>0.220800</td>\n",
       "      <td>0.130486</td>\n",
       "      <td>0.853333</td>\n",
       "      <td>0.944627</td>\n",
       "      <td>0.688889</td>\n",
       "    </tr>\n",
       "    <tr>\n",
       "      <td>10</td>\n",
       "      <td>0.220800</td>\n",
       "      <td>0.126136</td>\n",
       "      <td>0.845815</td>\n",
       "      <td>0.933937</td>\n",
       "      <td>0.688889</td>\n",
       "    </tr>\n",
       "    <tr>\n",
       "      <td>11</td>\n",
       "      <td>0.220800</td>\n",
       "      <td>0.121406</td>\n",
       "      <td>0.841202</td>\n",
       "      <td>0.943887</td>\n",
       "      <td>0.722222</td>\n",
       "    </tr>\n",
       "    <tr>\n",
       "      <td>12</td>\n",
       "      <td>0.220800</td>\n",
       "      <td>0.120265</td>\n",
       "      <td>0.857143</td>\n",
       "      <td>0.938438</td>\n",
       "      <td>0.722222</td>\n",
       "    </tr>\n",
       "    <tr>\n",
       "      <td>13</td>\n",
       "      <td>0.220800</td>\n",
       "      <td>0.114525</td>\n",
       "      <td>0.858369</td>\n",
       "      <td>0.943130</td>\n",
       "      <td>0.733333</td>\n",
       "    </tr>\n",
       "    <tr>\n",
       "      <td>14</td>\n",
       "      <td>0.220800</td>\n",
       "      <td>0.115993</td>\n",
       "      <td>0.862069</td>\n",
       "      <td>0.942115</td>\n",
       "      <td>0.733333</td>\n",
       "    </tr>\n",
       "    <tr>\n",
       "      <td>15</td>\n",
       "      <td>0.220800</td>\n",
       "      <td>0.113976</td>\n",
       "      <td>0.863248</td>\n",
       "      <td>0.942440</td>\n",
       "      <td>0.744444</td>\n",
       "    </tr>\n",
       "    <tr>\n",
       "      <td>16</td>\n",
       "      <td>0.067900</td>\n",
       "      <td>0.113746</td>\n",
       "      <td>0.858369</td>\n",
       "      <td>0.940659</td>\n",
       "      <td>0.733333</td>\n",
       "    </tr>\n",
       "    <tr>\n",
       "      <td>17</td>\n",
       "      <td>0.067900</td>\n",
       "      <td>0.112993</td>\n",
       "      <td>0.866953</td>\n",
       "      <td>0.941416</td>\n",
       "      <td>0.744444</td>\n",
       "    </tr>\n",
       "    <tr>\n",
       "      <td>18</td>\n",
       "      <td>0.067900</td>\n",
       "      <td>0.112681</td>\n",
       "      <td>0.866953</td>\n",
       "      <td>0.941924</td>\n",
       "      <td>0.744444</td>\n",
       "    </tr>\n",
       "    <tr>\n",
       "      <td>19</td>\n",
       "      <td>0.067900</td>\n",
       "      <td>0.112139</td>\n",
       "      <td>0.866953</td>\n",
       "      <td>0.941009</td>\n",
       "      <td>0.744444</td>\n",
       "    </tr>\n",
       "    <tr>\n",
       "      <td>20</td>\n",
       "      <td>0.067900</td>\n",
       "      <td>0.112021</td>\n",
       "      <td>0.866953</td>\n",
       "      <td>0.941283</td>\n",
       "      <td>0.744444</td>\n",
       "    </tr>\n",
       "  </tbody>\n",
       "</table><p>"
      ],
      "text/plain": [
       "<IPython.core.display.HTML object>"
      ]
     },
     "metadata": {},
     "output_type": "display_data"
    },
    {
     "data": {
      "text/html": [],
      "text/plain": [
       "<IPython.core.display.HTML object>"
      ]
     },
     "metadata": {},
     "output_type": "display_data"
    },
    {
     "data": {
      "text/html": [],
      "text/plain": [
       "<IPython.core.display.HTML object>"
      ]
     },
     "metadata": {},
     "output_type": "display_data"
    },
    {
     "name": "stdout",
     "output_type": "stream",
     "text": [
      "Internal Test Set\n",
      "(           Urinary  Respiratory  Abdominal  Neurological  Skin Soft Tissue  \\\n",
      "F1-Score  0.954545     0.957359   0.927473      0.820513          0.884758   \n",
      "ROC AUC   0.959103     0.963703   0.940003      0.847826          0.949116   \n",
      "\n",
      "               Ent  Orthopaedic  Other Specific  No Specific Source  \\\n",
      "F1-Score  0.729412     0.857143        0.756757            0.955075   \n",
      "ROC AUC   0.803152     0.881561        0.817136            0.958712   \n",
      "\n",
      "          Prophylaxis  Uncertainty  Not Informative  \n",
      "F1-Score     0.963610     0.946746         0.300000  \n",
      "ROC AUC      0.967084     0.958675         0.588235  , {'F1-Score': 0.9311912220977812, 'ROC AUC': 0.9774493745163595})\n",
      "External Test Set\n",
      "(           Urinary  Respiratory  Abdominal  Neurological  Skin Soft Tissue  \\\n",
      "F1-Score  0.978441     0.973169   0.893805      0.971429          0.940171   \n",
      "ROC AUC   0.982722     0.974440   0.926106      0.972222          0.945670   \n",
      "\n",
      "               Ent  Orthopaedic  Other Specific  No Specific Source  \\\n",
      "F1-Score  0.880000     0.780488        0.761905            0.978528   \n",
      "ROC AUC   0.892857     0.833080        0.819747            0.984843   \n",
      "\n",
      "          Prophylaxis  Uncertainty  Not Informative  \n",
      "F1-Score     0.970128     0.973180         0.679245  \n",
      "ROC AUC      0.974016     0.987763         0.757143  , {'F1-Score': 0.9609390854988092, 'ROC AUC': 0.9865027473629351})\n",
      "Training set size: 800\n",
      "Data set size overview:\n",
      "- Training set: 680\n",
      "- Evaluation set: 120\n",
      "- Testing Oxford set: 2000\n",
      "- Testing Banbury set: 2000\n",
      "\n"
     ]
    },
    {
     "data": {
      "application/vnd.jupyter.widget-view+json": {
       "model_id": "1037c9df4792421ea51bfc1dd348af1c",
       "version_major": 2,
       "version_minor": 0
      },
      "text/plain": [
       "Map:   0%|          | 0/680 [00:00<?, ? examples/s]"
      ]
     },
     "metadata": {},
     "output_type": "display_data"
    },
    {
     "data": {
      "application/vnd.jupyter.widget-view+json": {
       "model_id": "525ddc8a38e54073b2b6347175ba13d7",
       "version_major": 2,
       "version_minor": 0
      },
      "text/plain": [
       "Map:   0%|          | 0/120 [00:00<?, ? examples/s]"
      ]
     },
     "metadata": {},
     "output_type": "display_data"
    },
    {
     "data": {
      "application/vnd.jupyter.widget-view+json": {
       "model_id": "ed50730f1d5f47069ca570ca399ce4a1",
       "version_major": 2,
       "version_minor": 0
      },
      "text/plain": [
       "Map:   0%|          | 0/2000 [00:00<?, ? examples/s]"
      ]
     },
     "metadata": {},
     "output_type": "display_data"
    },
    {
     "data": {
      "application/vnd.jupyter.widget-view+json": {
       "model_id": "2606d40add454c758c86ab5adeaf0a4c",
       "version_major": 2,
       "version_minor": 0
      },
      "text/plain": [
       "Map:   0%|          | 0/2000 [00:00<?, ? examples/s]"
      ]
     },
     "metadata": {},
     "output_type": "display_data"
    },
    {
     "name": "stderr",
     "output_type": "stream",
     "text": [
      "Some weights of the model checkpoint at emilyalsentzer/Bio_ClinicalBERT were not used when initializing BertForSequenceClassification: ['cls.predictions.transform.LayerNorm.weight', 'cls.predictions.transform.LayerNorm.bias', 'cls.predictions.bias', 'cls.predictions.decoder.weight', 'cls.predictions.transform.dense.weight', 'cls.predictions.transform.dense.bias', 'cls.seq_relationship.bias', 'cls.seq_relationship.weight']\n",
      "- This IS expected if you are initializing BertForSequenceClassification from the checkpoint of a model trained on another task or with another architecture (e.g. initializing a BertForSequenceClassification model from a BertForPreTraining model).\n",
      "- This IS NOT expected if you are initializing BertForSequenceClassification from the checkpoint of a model that you expect to be exactly identical (initializing a BertForSequenceClassification model from a BertForSequenceClassification model).\n",
      "Some weights of BertForSequenceClassification were not initialized from the model checkpoint at emilyalsentzer/Bio_ClinicalBERT and are newly initialized: ['classifier.weight', 'classifier.bias']\n",
      "You should probably TRAIN this model on a down-stream task to be able to use it for predictions and inference.\n",
      "Some weights of the model checkpoint at emilyalsentzer/Bio_ClinicalBERT were not used when initializing BertForSequenceClassification: ['cls.predictions.transform.LayerNorm.weight', 'cls.predictions.transform.LayerNorm.bias', 'cls.predictions.bias', 'cls.predictions.decoder.weight', 'cls.predictions.transform.dense.weight', 'cls.predictions.transform.dense.bias', 'cls.seq_relationship.bias', 'cls.seq_relationship.weight']\n",
      "- This IS expected if you are initializing BertForSequenceClassification from the checkpoint of a model trained on another task or with another architecture (e.g. initializing a BertForSequenceClassification model from a BertForPreTraining model).\n",
      "- This IS NOT expected if you are initializing BertForSequenceClassification from the checkpoint of a model that you expect to be exactly identical (initializing a BertForSequenceClassification model from a BertForSequenceClassification model).\n",
      "Some weights of BertForSequenceClassification were not initialized from the model checkpoint at emilyalsentzer/Bio_ClinicalBERT and are newly initialized: ['classifier.weight', 'classifier.bias']\n",
      "You should probably TRAIN this model on a down-stream task to be able to use it for predictions and inference.\n",
      "/home/kevin/DPhil/Projects/EHR-Indication-Processing/.venv/lib/python3.11/site-packages/transformers/optimization.py:411: FutureWarning: This implementation of AdamW is deprecated and will be removed in a future version. Use the PyTorch implementation torch.optim.AdamW instead, or set `no_deprecation_warning=True` to disable this warning\n",
      "  warnings.warn(\n"
     ]
    },
    {
     "data": {
      "text/html": [
       "\n",
       "    <div>\n",
       "      \n",
       "      <progress value='1700' max='1700' style='width:300px; height:20px; vertical-align: middle;'></progress>\n",
       "      [1700/1700 02:18, Epoch 20/20]\n",
       "    </div>\n",
       "    <table border=\"1\" class=\"dataframe\">\n",
       "  <thead>\n",
       " <tr style=\"text-align: left;\">\n",
       "      <th>Epoch</th>\n",
       "      <th>Training Loss</th>\n",
       "      <th>Validation Loss</th>\n",
       "      <th>F1</th>\n",
       "      <th>Roc Auc</th>\n",
       "      <th>Accuracy</th>\n",
       "    </tr>\n",
       "  </thead>\n",
       "  <tbody>\n",
       "    <tr>\n",
       "      <td>1</td>\n",
       "      <td>No log</td>\n",
       "      <td>0.293464</td>\n",
       "      <td>0.243386</td>\n",
       "      <td>0.830892</td>\n",
       "      <td>0.025000</td>\n",
       "    </tr>\n",
       "    <tr>\n",
       "      <td>2</td>\n",
       "      <td>No log</td>\n",
       "      <td>0.236486</td>\n",
       "      <td>0.613546</td>\n",
       "      <td>0.881573</td>\n",
       "      <td>0.283333</td>\n",
       "    </tr>\n",
       "    <tr>\n",
       "      <td>3</td>\n",
       "      <td>No log</td>\n",
       "      <td>0.192517</td>\n",
       "      <td>0.755396</td>\n",
       "      <td>0.921179</td>\n",
       "      <td>0.500000</td>\n",
       "    </tr>\n",
       "    <tr>\n",
       "      <td>4</td>\n",
       "      <td>No log</td>\n",
       "      <td>0.164048</td>\n",
       "      <td>0.775510</td>\n",
       "      <td>0.941961</td>\n",
       "      <td>0.566667</td>\n",
       "    </tr>\n",
       "    <tr>\n",
       "      <td>5</td>\n",
       "      <td>No log</td>\n",
       "      <td>0.137575</td>\n",
       "      <td>0.845638</td>\n",
       "      <td>0.960337</td>\n",
       "      <td>0.683333</td>\n",
       "    </tr>\n",
       "    <tr>\n",
       "      <td>6</td>\n",
       "      <td>0.225300</td>\n",
       "      <td>0.120838</td>\n",
       "      <td>0.860927</td>\n",
       "      <td>0.969825</td>\n",
       "      <td>0.700000</td>\n",
       "    </tr>\n",
       "    <tr>\n",
       "      <td>7</td>\n",
       "      <td>0.225300</td>\n",
       "      <td>0.109972</td>\n",
       "      <td>0.875817</td>\n",
       "      <td>0.976366</td>\n",
       "      <td>0.725000</td>\n",
       "    </tr>\n",
       "    <tr>\n",
       "      <td>8</td>\n",
       "      <td>0.225300</td>\n",
       "      <td>0.102975</td>\n",
       "      <td>0.885993</td>\n",
       "      <td>0.973162</td>\n",
       "      <td>0.758333</td>\n",
       "    </tr>\n",
       "    <tr>\n",
       "      <td>9</td>\n",
       "      <td>0.225300</td>\n",
       "      <td>0.093293</td>\n",
       "      <td>0.880259</td>\n",
       "      <td>0.979280</td>\n",
       "      <td>0.750000</td>\n",
       "    </tr>\n",
       "    <tr>\n",
       "      <td>10</td>\n",
       "      <td>0.225300</td>\n",
       "      <td>0.090782</td>\n",
       "      <td>0.914826</td>\n",
       "      <td>0.980535</td>\n",
       "      <td>0.825000</td>\n",
       "    </tr>\n",
       "    <tr>\n",
       "      <td>11</td>\n",
       "      <td>0.225300</td>\n",
       "      <td>0.084796</td>\n",
       "      <td>0.905660</td>\n",
       "      <td>0.980406</td>\n",
       "      <td>0.808333</td>\n",
       "    </tr>\n",
       "    <tr>\n",
       "      <td>12</td>\n",
       "      <td>0.070300</td>\n",
       "      <td>0.079398</td>\n",
       "      <td>0.914826</td>\n",
       "      <td>0.983553</td>\n",
       "      <td>0.825000</td>\n",
       "    </tr>\n",
       "    <tr>\n",
       "      <td>13</td>\n",
       "      <td>0.070300</td>\n",
       "      <td>0.078373</td>\n",
       "      <td>0.915361</td>\n",
       "      <td>0.981262</td>\n",
       "      <td>0.825000</td>\n",
       "    </tr>\n",
       "    <tr>\n",
       "      <td>14</td>\n",
       "      <td>0.070300</td>\n",
       "      <td>0.075259</td>\n",
       "      <td>0.921630</td>\n",
       "      <td>0.981186</td>\n",
       "      <td>0.841667</td>\n",
       "    </tr>\n",
       "    <tr>\n",
       "      <td>15</td>\n",
       "      <td>0.070300</td>\n",
       "      <td>0.075328</td>\n",
       "      <td>0.922118</td>\n",
       "      <td>0.986809</td>\n",
       "      <td>0.833333</td>\n",
       "    </tr>\n",
       "    <tr>\n",
       "      <td>16</td>\n",
       "      <td>0.070300</td>\n",
       "      <td>0.073640</td>\n",
       "      <td>0.915888</td>\n",
       "      <td>0.984223</td>\n",
       "      <td>0.825000</td>\n",
       "    </tr>\n",
       "    <tr>\n",
       "      <td>17</td>\n",
       "      <td>0.070300</td>\n",
       "      <td>0.070917</td>\n",
       "      <td>0.922118</td>\n",
       "      <td>0.985412</td>\n",
       "      <td>0.841667</td>\n",
       "    </tr>\n",
       "    <tr>\n",
       "      <td>18</td>\n",
       "      <td>0.040700</td>\n",
       "      <td>0.071680</td>\n",
       "      <td>0.925000</td>\n",
       "      <td>0.983658</td>\n",
       "      <td>0.850000</td>\n",
       "    </tr>\n",
       "    <tr>\n",
       "      <td>19</td>\n",
       "      <td>0.040700</td>\n",
       "      <td>0.070773</td>\n",
       "      <td>0.922118</td>\n",
       "      <td>0.984608</td>\n",
       "      <td>0.841667</td>\n",
       "    </tr>\n",
       "    <tr>\n",
       "      <td>20</td>\n",
       "      <td>0.040700</td>\n",
       "      <td>0.070562</td>\n",
       "      <td>0.925000</td>\n",
       "      <td>0.984537</td>\n",
       "      <td>0.850000</td>\n",
       "    </tr>\n",
       "  </tbody>\n",
       "</table><p>"
      ],
      "text/plain": [
       "<IPython.core.display.HTML object>"
      ]
     },
     "metadata": {},
     "output_type": "display_data"
    },
    {
     "data": {
      "text/html": [],
      "text/plain": [
       "<IPython.core.display.HTML object>"
      ]
     },
     "metadata": {},
     "output_type": "display_data"
    },
    {
     "data": {
      "text/html": [],
      "text/plain": [
       "<IPython.core.display.HTML object>"
      ]
     },
     "metadata": {},
     "output_type": "display_data"
    },
    {
     "name": "stdout",
     "output_type": "stream",
     "text": [
      "Internal Test Set\n",
      "(           Urinary  Respiratory  Abdominal  Neurological  Skin Soft Tissue  \\\n",
      "F1-Score  0.957655     0.963064   0.941935      0.850000          0.892989   \n",
      "ROC AUC   0.959375     0.969051   0.956171      0.869565          0.956749   \n",
      "\n",
      "               Ent  Orthopaedic  Other Specific  No Specific Source  \\\n",
      "F1-Score  0.735632     0.888889        0.756757            0.964563   \n",
      "ROC AUC   0.812699     0.900000        0.817136            0.967430   \n",
      "\n",
      "          Prophylaxis  Uncertainty  Not Informative  \n",
      "F1-Score     0.966763     0.956268         0.716981  \n",
      "ROC AUC      0.970898     0.969895         0.779412  , {'F1-Score': 0.9436299865113692, 'ROC AUC': 0.9842637692529835})\n",
      "External Test Set\n",
      "(           Urinary  Respiratory  Abdominal  Neurological  Skin Soft Tissue  \\\n",
      "F1-Score  0.981697     0.985632   0.913793      0.971429          0.932203   \n",
      "ROC AUC   0.983312     0.985836   0.947027      0.972222          0.944844   \n",
      "\n",
      "               Ent  Orthopaedic  Other Specific  No Specific Source  \\\n",
      "F1-Score  0.846154     0.628571        0.631579            0.981595   \n",
      "ROC AUC   0.892605     0.729167        0.739747            0.987123   \n",
      "\n",
      "          Prophylaxis  Uncertainty  Not Informative  \n",
      "F1-Score     0.978843     0.980695         0.793103  \n",
      "ROC AUC      0.982373     0.988912         0.828571  , {'F1-Score': 0.9662588786248466, 'ROC AUC': 0.9920330800117294})\n",
      "Training set size: 1000\n",
      "Data set size overview:\n",
      "- Training set: 850\n",
      "- Evaluation set: 150\n",
      "- Testing Oxford set: 2000\n",
      "- Testing Banbury set: 2000\n",
      "\n"
     ]
    },
    {
     "data": {
      "application/vnd.jupyter.widget-view+json": {
       "model_id": "6bde71b9a1c047be834c8ebeaa6ff167",
       "version_major": 2,
       "version_minor": 0
      },
      "text/plain": [
       "Map:   0%|          | 0/850 [00:00<?, ? examples/s]"
      ]
     },
     "metadata": {},
     "output_type": "display_data"
    },
    {
     "data": {
      "application/vnd.jupyter.widget-view+json": {
       "model_id": "c5edd137952148589f5ba94d447a0ba3",
       "version_major": 2,
       "version_minor": 0
      },
      "text/plain": [
       "Map:   0%|          | 0/150 [00:00<?, ? examples/s]"
      ]
     },
     "metadata": {},
     "output_type": "display_data"
    },
    {
     "data": {
      "application/vnd.jupyter.widget-view+json": {
       "model_id": "80d6d00de18440be996a2e8cb0a4e624",
       "version_major": 2,
       "version_minor": 0
      },
      "text/plain": [
       "Map:   0%|          | 0/2000 [00:00<?, ? examples/s]"
      ]
     },
     "metadata": {},
     "output_type": "display_data"
    },
    {
     "data": {
      "application/vnd.jupyter.widget-view+json": {
       "model_id": "449a8fec329e4aedb57ab5020234615d",
       "version_major": 2,
       "version_minor": 0
      },
      "text/plain": [
       "Map:   0%|          | 0/2000 [00:00<?, ? examples/s]"
      ]
     },
     "metadata": {},
     "output_type": "display_data"
    },
    {
     "name": "stderr",
     "output_type": "stream",
     "text": [
      "Some weights of the model checkpoint at emilyalsentzer/Bio_ClinicalBERT were not used when initializing BertForSequenceClassification: ['cls.predictions.transform.LayerNorm.weight', 'cls.predictions.transform.LayerNorm.bias', 'cls.predictions.bias', 'cls.predictions.decoder.weight', 'cls.predictions.transform.dense.weight', 'cls.predictions.transform.dense.bias', 'cls.seq_relationship.bias', 'cls.seq_relationship.weight']\n",
      "- This IS expected if you are initializing BertForSequenceClassification from the checkpoint of a model trained on another task or with another architecture (e.g. initializing a BertForSequenceClassification model from a BertForPreTraining model).\n",
      "- This IS NOT expected if you are initializing BertForSequenceClassification from the checkpoint of a model that you expect to be exactly identical (initializing a BertForSequenceClassification model from a BertForSequenceClassification model).\n",
      "Some weights of BertForSequenceClassification were not initialized from the model checkpoint at emilyalsentzer/Bio_ClinicalBERT and are newly initialized: ['classifier.weight', 'classifier.bias']\n",
      "You should probably TRAIN this model on a down-stream task to be able to use it for predictions and inference.\n",
      "Some weights of the model checkpoint at emilyalsentzer/Bio_ClinicalBERT were not used when initializing BertForSequenceClassification: ['cls.predictions.transform.LayerNorm.weight', 'cls.predictions.transform.LayerNorm.bias', 'cls.predictions.bias', 'cls.predictions.decoder.weight', 'cls.predictions.transform.dense.weight', 'cls.predictions.transform.dense.bias', 'cls.seq_relationship.bias', 'cls.seq_relationship.weight']\n",
      "- This IS expected if you are initializing BertForSequenceClassification from the checkpoint of a model trained on another task or with another architecture (e.g. initializing a BertForSequenceClassification model from a BertForPreTraining model).\n",
      "- This IS NOT expected if you are initializing BertForSequenceClassification from the checkpoint of a model that you expect to be exactly identical (initializing a BertForSequenceClassification model from a BertForSequenceClassification model).\n",
      "Some weights of BertForSequenceClassification were not initialized from the model checkpoint at emilyalsentzer/Bio_ClinicalBERT and are newly initialized: ['classifier.weight', 'classifier.bias']\n",
      "You should probably TRAIN this model on a down-stream task to be able to use it for predictions and inference.\n",
      "/home/kevin/DPhil/Projects/EHR-Indication-Processing/.venv/lib/python3.11/site-packages/transformers/optimization.py:411: FutureWarning: This implementation of AdamW is deprecated and will be removed in a future version. Use the PyTorch implementation torch.optim.AdamW instead, or set `no_deprecation_warning=True` to disable this warning\n",
      "  warnings.warn(\n"
     ]
    },
    {
     "data": {
      "text/html": [
       "\n",
       "    <div>\n",
       "      \n",
       "      <progress value='2140' max='2140' style='width:300px; height:20px; vertical-align: middle;'></progress>\n",
       "      [2140/2140 02:53, Epoch 20/20]\n",
       "    </div>\n",
       "    <table border=\"1\" class=\"dataframe\">\n",
       "  <thead>\n",
       " <tr style=\"text-align: left;\">\n",
       "      <th>Epoch</th>\n",
       "      <th>Training Loss</th>\n",
       "      <th>Validation Loss</th>\n",
       "      <th>F1</th>\n",
       "      <th>Roc Auc</th>\n",
       "      <th>Accuracy</th>\n",
       "    </tr>\n",
       "  </thead>\n",
       "  <tbody>\n",
       "    <tr>\n",
       "      <td>1</td>\n",
       "      <td>No log</td>\n",
       "      <td>0.293644</td>\n",
       "      <td>0.355731</td>\n",
       "      <td>0.793856</td>\n",
       "      <td>0.086667</td>\n",
       "    </tr>\n",
       "    <tr>\n",
       "      <td>2</td>\n",
       "      <td>No log</td>\n",
       "      <td>0.229128</td>\n",
       "      <td>0.612903</td>\n",
       "      <td>0.872740</td>\n",
       "      <td>0.366667</td>\n",
       "    </tr>\n",
       "    <tr>\n",
       "      <td>3</td>\n",
       "      <td>No log</td>\n",
       "      <td>0.188785</td>\n",
       "      <td>0.735043</td>\n",
       "      <td>0.912048</td>\n",
       "      <td>0.560000</td>\n",
       "    </tr>\n",
       "    <tr>\n",
       "      <td>4</td>\n",
       "      <td>No log</td>\n",
       "      <td>0.159127</td>\n",
       "      <td>0.779944</td>\n",
       "      <td>0.932772</td>\n",
       "      <td>0.626667</td>\n",
       "    </tr>\n",
       "    <tr>\n",
       "      <td>5</td>\n",
       "      <td>0.230300</td>\n",
       "      <td>0.140433</td>\n",
       "      <td>0.797814</td>\n",
       "      <td>0.943739</td>\n",
       "      <td>0.673333</td>\n",
       "    </tr>\n",
       "    <tr>\n",
       "      <td>6</td>\n",
       "      <td>0.230300</td>\n",
       "      <td>0.129446</td>\n",
       "      <td>0.829396</td>\n",
       "      <td>0.952758</td>\n",
       "      <td>0.740000</td>\n",
       "    </tr>\n",
       "    <tr>\n",
       "      <td>7</td>\n",
       "      <td>0.230300</td>\n",
       "      <td>0.124794</td>\n",
       "      <td>0.832891</td>\n",
       "      <td>0.951161</td>\n",
       "      <td>0.740000</td>\n",
       "    </tr>\n",
       "    <tr>\n",
       "      <td>8</td>\n",
       "      <td>0.230300</td>\n",
       "      <td>0.112475</td>\n",
       "      <td>0.842105</td>\n",
       "      <td>0.956033</td>\n",
       "      <td>0.740000</td>\n",
       "    </tr>\n",
       "    <tr>\n",
       "      <td>9</td>\n",
       "      <td>0.230300</td>\n",
       "      <td>0.106925</td>\n",
       "      <td>0.854167</td>\n",
       "      <td>0.958248</td>\n",
       "      <td>0.773333</td>\n",
       "    </tr>\n",
       "    <tr>\n",
       "      <td>10</td>\n",
       "      <td>0.072200</td>\n",
       "      <td>0.104409</td>\n",
       "      <td>0.859375</td>\n",
       "      <td>0.960391</td>\n",
       "      <td>0.780000</td>\n",
       "    </tr>\n",
       "    <tr>\n",
       "      <td>11</td>\n",
       "      <td>0.072200</td>\n",
       "      <td>0.103199</td>\n",
       "      <td>0.856410</td>\n",
       "      <td>0.958657</td>\n",
       "      <td>0.793333</td>\n",
       "    </tr>\n",
       "    <tr>\n",
       "      <td>12</td>\n",
       "      <td>0.072200</td>\n",
       "      <td>0.096684</td>\n",
       "      <td>0.863049</td>\n",
       "      <td>0.960939</td>\n",
       "      <td>0.793333</td>\n",
       "    </tr>\n",
       "    <tr>\n",
       "      <td>13</td>\n",
       "      <td>0.072200</td>\n",
       "      <td>0.095120</td>\n",
       "      <td>0.873385</td>\n",
       "      <td>0.961853</td>\n",
       "      <td>0.800000</td>\n",
       "    </tr>\n",
       "    <tr>\n",
       "      <td>14</td>\n",
       "      <td>0.072200</td>\n",
       "      <td>0.095406</td>\n",
       "      <td>0.862338</td>\n",
       "      <td>0.961156</td>\n",
       "      <td>0.786667</td>\n",
       "    </tr>\n",
       "    <tr>\n",
       "      <td>15</td>\n",
       "      <td>0.038000</td>\n",
       "      <td>0.093736</td>\n",
       "      <td>0.873385</td>\n",
       "      <td>0.961557</td>\n",
       "      <td>0.806667</td>\n",
       "    </tr>\n",
       "    <tr>\n",
       "      <td>16</td>\n",
       "      <td>0.038000</td>\n",
       "      <td>0.094450</td>\n",
       "      <td>0.870466</td>\n",
       "      <td>0.960089</td>\n",
       "      <td>0.793333</td>\n",
       "    </tr>\n",
       "    <tr>\n",
       "      <td>17</td>\n",
       "      <td>0.038000</td>\n",
       "      <td>0.094487</td>\n",
       "      <td>0.871134</td>\n",
       "      <td>0.960104</td>\n",
       "      <td>0.800000</td>\n",
       "    </tr>\n",
       "    <tr>\n",
       "      <td>18</td>\n",
       "      <td>0.038000</td>\n",
       "      <td>0.094431</td>\n",
       "      <td>0.871134</td>\n",
       "      <td>0.960006</td>\n",
       "      <td>0.800000</td>\n",
       "    </tr>\n",
       "    <tr>\n",
       "      <td>19</td>\n",
       "      <td>0.028300</td>\n",
       "      <td>0.094525</td>\n",
       "      <td>0.871134</td>\n",
       "      <td>0.959945</td>\n",
       "      <td>0.800000</td>\n",
       "    </tr>\n",
       "    <tr>\n",
       "      <td>20</td>\n",
       "      <td>0.028300</td>\n",
       "      <td>0.094356</td>\n",
       "      <td>0.871134</td>\n",
       "      <td>0.960015</td>\n",
       "      <td>0.800000</td>\n",
       "    </tr>\n",
       "  </tbody>\n",
       "</table><p>"
      ],
      "text/plain": [
       "<IPython.core.display.HTML object>"
      ]
     },
     "metadata": {},
     "output_type": "display_data"
    },
    {
     "data": {
      "text/html": [],
      "text/plain": [
       "<IPython.core.display.HTML object>"
      ]
     },
     "metadata": {},
     "output_type": "display_data"
    },
    {
     "data": {
      "text/html": [],
      "text/plain": [
       "<IPython.core.display.HTML object>"
      ]
     },
     "metadata": {},
     "output_type": "display_data"
    },
    {
     "name": "stdout",
     "output_type": "stream",
     "text": [
      "Internal Test Set\n",
      "(           Urinary  Respiratory  Abdominal  Neurological  Skin Soft Tissue  \\\n",
      "F1-Score  0.947368     0.971583    0.95339      0.820513          0.898876   \n",
      "ROC AUC   0.950000     0.978102    0.96844      0.847826          0.953735   \n",
      "\n",
      "               Ent  Orthopaedic  Other Specific  No Specific Source  \\\n",
      "F1-Score  0.826087     0.932039        0.787097            0.966887   \n",
      "ROC AUC   0.871779     0.936364        0.845022            0.969733   \n",
      "\n",
      "          Prophylaxis  Uncertainty  Not Informative  \n",
      "F1-Score     0.976912     0.962319         0.866667  \n",
      "ROC AUC      0.978895     0.975642         0.882353  , {'F1-Score': 0.9536403908542369, 'ROC AUC': 0.9852620705057655})\n",
      "External Test Set\n",
      "(           Urinary  Respiratory  Abdominal  Neurological  Skin Soft Tissue  \\\n",
      "F1-Score  0.968174     0.982079   0.947826      0.971429          0.946479   \n",
      "ROC AUC   0.972886     0.983582   0.961067      0.972222          0.953503   \n",
      "\n",
      "               Ent  Orthopaedic  Other Specific  No Specific Source  \\\n",
      "F1-Score  0.928571     0.909091        0.790698            0.983155   \n",
      "ROC AUC   0.964034     0.916667        0.839747            0.988661   \n",
      "\n",
      "          Prophylaxis  Uncertainty  Not Informative  \n",
      "F1-Score     0.978723     0.982659         0.833333  \n",
      "ROC AUC      0.980197     0.990842         0.857143  , {'F1-Score': 0.9717352800800729, 'ROC AUC': 0.9889628479719156})\n",
      "Training set size: 1500\n",
      "Data set size overview:\n",
      "- Training set: 1275\n",
      "- Evaluation set: 225\n",
      "- Testing Oxford set: 2000\n",
      "- Testing Banbury set: 2000\n",
      "\n"
     ]
    },
    {
     "data": {
      "application/vnd.jupyter.widget-view+json": {
       "model_id": "7f91ea2c9bbc463eb8cf8cc2a5c058f4",
       "version_major": 2,
       "version_minor": 0
      },
      "text/plain": [
       "Map:   0%|          | 0/1275 [00:00<?, ? examples/s]"
      ]
     },
     "metadata": {},
     "output_type": "display_data"
    },
    {
     "data": {
      "application/vnd.jupyter.widget-view+json": {
       "model_id": "8adeb0e70376437298c1279d1878d07f",
       "version_major": 2,
       "version_minor": 0
      },
      "text/plain": [
       "Map:   0%|          | 0/225 [00:00<?, ? examples/s]"
      ]
     },
     "metadata": {},
     "output_type": "display_data"
    },
    {
     "data": {
      "application/vnd.jupyter.widget-view+json": {
       "model_id": "6fd3c4f84da94f258579c76daf670063",
       "version_major": 2,
       "version_minor": 0
      },
      "text/plain": [
       "Map:   0%|          | 0/2000 [00:00<?, ? examples/s]"
      ]
     },
     "metadata": {},
     "output_type": "display_data"
    },
    {
     "data": {
      "application/vnd.jupyter.widget-view+json": {
       "model_id": "52add5e9862e468db5a48b0dac99da45",
       "version_major": 2,
       "version_minor": 0
      },
      "text/plain": [
       "Map:   0%|          | 0/2000 [00:00<?, ? examples/s]"
      ]
     },
     "metadata": {},
     "output_type": "display_data"
    },
    {
     "name": "stderr",
     "output_type": "stream",
     "text": [
      "Some weights of the model checkpoint at emilyalsentzer/Bio_ClinicalBERT were not used when initializing BertForSequenceClassification: ['cls.predictions.transform.LayerNorm.weight', 'cls.predictions.transform.LayerNorm.bias', 'cls.predictions.bias', 'cls.predictions.decoder.weight', 'cls.predictions.transform.dense.weight', 'cls.predictions.transform.dense.bias', 'cls.seq_relationship.bias', 'cls.seq_relationship.weight']\n",
      "- This IS expected if you are initializing BertForSequenceClassification from the checkpoint of a model trained on another task or with another architecture (e.g. initializing a BertForSequenceClassification model from a BertForPreTraining model).\n",
      "- This IS NOT expected if you are initializing BertForSequenceClassification from the checkpoint of a model that you expect to be exactly identical (initializing a BertForSequenceClassification model from a BertForSequenceClassification model).\n",
      "Some weights of BertForSequenceClassification were not initialized from the model checkpoint at emilyalsentzer/Bio_ClinicalBERT and are newly initialized: ['classifier.weight', 'classifier.bias']\n",
      "You should probably TRAIN this model on a down-stream task to be able to use it for predictions and inference.\n",
      "Some weights of the model checkpoint at emilyalsentzer/Bio_ClinicalBERT were not used when initializing BertForSequenceClassification: ['cls.predictions.transform.LayerNorm.weight', 'cls.predictions.transform.LayerNorm.bias', 'cls.predictions.bias', 'cls.predictions.decoder.weight', 'cls.predictions.transform.dense.weight', 'cls.predictions.transform.dense.bias', 'cls.seq_relationship.bias', 'cls.seq_relationship.weight']\n",
      "- This IS expected if you are initializing BertForSequenceClassification from the checkpoint of a model trained on another task or with another architecture (e.g. initializing a BertForSequenceClassification model from a BertForPreTraining model).\n",
      "- This IS NOT expected if you are initializing BertForSequenceClassification from the checkpoint of a model that you expect to be exactly identical (initializing a BertForSequenceClassification model from a BertForSequenceClassification model).\n",
      "Some weights of BertForSequenceClassification were not initialized from the model checkpoint at emilyalsentzer/Bio_ClinicalBERT and are newly initialized: ['classifier.weight', 'classifier.bias']\n",
      "You should probably TRAIN this model on a down-stream task to be able to use it for predictions and inference.\n",
      "/home/kevin/DPhil/Projects/EHR-Indication-Processing/.venv/lib/python3.11/site-packages/transformers/optimization.py:411: FutureWarning: This implementation of AdamW is deprecated and will be removed in a future version. Use the PyTorch implementation torch.optim.AdamW instead, or set `no_deprecation_warning=True` to disable this warning\n",
      "  warnings.warn(\n"
     ]
    },
    {
     "data": {
      "text/html": [
       "\n",
       "    <div>\n",
       "      \n",
       "      <progress value='1600' max='1600' style='width:300px; height:20px; vertical-align: middle;'></progress>\n",
       "      [1600/1600 02:10, Epoch 10/10]\n",
       "    </div>\n",
       "    <table border=\"1\" class=\"dataframe\">\n",
       "  <thead>\n",
       " <tr style=\"text-align: left;\">\n",
       "      <th>Epoch</th>\n",
       "      <th>Training Loss</th>\n",
       "      <th>Validation Loss</th>\n",
       "      <th>F1</th>\n",
       "      <th>Roc Auc</th>\n",
       "      <th>Accuracy</th>\n",
       "    </tr>\n",
       "  </thead>\n",
       "  <tbody>\n",
       "    <tr>\n",
       "      <td>1</td>\n",
       "      <td>No log</td>\n",
       "      <td>0.258414</td>\n",
       "      <td>0.531120</td>\n",
       "      <td>0.858814</td>\n",
       "      <td>0.200000</td>\n",
       "    </tr>\n",
       "    <tr>\n",
       "      <td>2</td>\n",
       "      <td>No log</td>\n",
       "      <td>0.182615</td>\n",
       "      <td>0.770909</td>\n",
       "      <td>0.935371</td>\n",
       "      <td>0.560000</td>\n",
       "    </tr>\n",
       "    <tr>\n",
       "      <td>3</td>\n",
       "      <td>No log</td>\n",
       "      <td>0.139845</td>\n",
       "      <td>0.836555</td>\n",
       "      <td>0.957667</td>\n",
       "      <td>0.671111</td>\n",
       "    </tr>\n",
       "    <tr>\n",
       "      <td>4</td>\n",
       "      <td>0.241300</td>\n",
       "      <td>0.117563</td>\n",
       "      <td>0.856643</td>\n",
       "      <td>0.967603</td>\n",
       "      <td>0.711111</td>\n",
       "    </tr>\n",
       "    <tr>\n",
       "      <td>5</td>\n",
       "      <td>0.241300</td>\n",
       "      <td>0.105801</td>\n",
       "      <td>0.872414</td>\n",
       "      <td>0.969872</td>\n",
       "      <td>0.724444</td>\n",
       "    </tr>\n",
       "    <tr>\n",
       "      <td>6</td>\n",
       "      <td>0.241300</td>\n",
       "      <td>0.094484</td>\n",
       "      <td>0.903553</td>\n",
       "      <td>0.971209</td>\n",
       "      <td>0.795556</td>\n",
       "    </tr>\n",
       "    <tr>\n",
       "      <td>7</td>\n",
       "      <td>0.089800</td>\n",
       "      <td>0.090546</td>\n",
       "      <td>0.912752</td>\n",
       "      <td>0.973657</td>\n",
       "      <td>0.817778</td>\n",
       "    </tr>\n",
       "    <tr>\n",
       "      <td>8</td>\n",
       "      <td>0.089800</td>\n",
       "      <td>0.087551</td>\n",
       "      <td>0.905724</td>\n",
       "      <td>0.974213</td>\n",
       "      <td>0.800000</td>\n",
       "    </tr>\n",
       "    <tr>\n",
       "      <td>9</td>\n",
       "      <td>0.089800</td>\n",
       "      <td>0.085569</td>\n",
       "      <td>0.911223</td>\n",
       "      <td>0.974099</td>\n",
       "      <td>0.822222</td>\n",
       "    </tr>\n",
       "    <tr>\n",
       "      <td>10</td>\n",
       "      <td>0.055400</td>\n",
       "      <td>0.084886</td>\n",
       "      <td>0.913043</td>\n",
       "      <td>0.974118</td>\n",
       "      <td>0.826667</td>\n",
       "    </tr>\n",
       "  </tbody>\n",
       "</table><p>"
      ],
      "text/plain": [
       "<IPython.core.display.HTML object>"
      ]
     },
     "metadata": {},
     "output_type": "display_data"
    },
    {
     "data": {
      "text/html": [],
      "text/plain": [
       "<IPython.core.display.HTML object>"
      ]
     },
     "metadata": {},
     "output_type": "display_data"
    },
    {
     "data": {
      "text/html": [],
      "text/plain": [
       "<IPython.core.display.HTML object>"
      ]
     },
     "metadata": {},
     "output_type": "display_data"
    },
    {
     "name": "stdout",
     "output_type": "stream",
     "text": [
      "Internal Test Set\n",
      "(           Urinary  Respiratory  Abdominal  Neurological  Skin Soft Tissue  \\\n",
      "F1-Score  0.952077     0.974290   0.946695      0.820513          0.892086   \n",
      "ROC AUC   0.964538     0.979746   0.962164      0.847826          0.967129   \n",
      "\n",
      "               Ent  Orthopaedic  Other Specific  No Specific Source  \\\n",
      "F1-Score  0.831461     0.842105        0.797386            0.968889   \n",
      "ROC AUC   0.862489     0.863636        0.845545            0.971181   \n",
      "\n",
      "          Prophylaxis  Uncertainty  Not Informative  \n",
      "F1-Score     0.974766     0.953488         0.640000  \n",
      "ROC AUC      0.977413     0.969621         0.735294  , {'F1-Score': 0.9490702183962851, 'ROC AUC': 0.986270152348556})\n",
      "External Test Set\n",
      "(           Urinary  Respiratory  Abdominal  Neurological  Skin Soft Tissue  \\\n",
      "F1-Score  0.975124     0.989278   0.951965      0.971429          0.946779   \n",
      "ROC AUC   0.980787     0.989699   0.961333      0.972222          0.955930   \n",
      "\n",
      "               Ent  Orthopaedic  Other Specific  No Specific Source  \\\n",
      "F1-Score  0.880000     0.829268        0.695652            0.989231   \n",
      "ROC AUC   0.892857     0.854167        0.818734            0.992023   \n",
      "\n",
      "          Prophylaxis  Uncertainty  Not Informative  \n",
      "F1-Score     0.978843     0.984674         0.444444  \n",
      "ROC AUC      0.982373     0.994416         0.642857  , {'F1-Score': 0.9693920096667071, 'ROC AUC': 0.991299427931913})\n",
      "Training set size: 2000\n",
      "Data set size overview:\n",
      "- Training set: 1700\n",
      "- Evaluation set: 300\n",
      "- Testing Oxford set: 2000\n",
      "- Testing Banbury set: 2000\n",
      "\n"
     ]
    },
    {
     "data": {
      "application/vnd.jupyter.widget-view+json": {
       "model_id": "02447db6959b42f78735bf246445b2de",
       "version_major": 2,
       "version_minor": 0
      },
      "text/plain": [
       "Map:   0%|          | 0/1700 [00:00<?, ? examples/s]"
      ]
     },
     "metadata": {},
     "output_type": "display_data"
    },
    {
     "data": {
      "application/vnd.jupyter.widget-view+json": {
       "model_id": "64a78de9fafc457ea78fc18a27cfe0b7",
       "version_major": 2,
       "version_minor": 0
      },
      "text/plain": [
       "Map:   0%|          | 0/300 [00:00<?, ? examples/s]"
      ]
     },
     "metadata": {},
     "output_type": "display_data"
    },
    {
     "data": {
      "application/vnd.jupyter.widget-view+json": {
       "model_id": "ceae3fbc8a754acfb1fc44c733b5d364",
       "version_major": 2,
       "version_minor": 0
      },
      "text/plain": [
       "Map:   0%|          | 0/2000 [00:00<?, ? examples/s]"
      ]
     },
     "metadata": {},
     "output_type": "display_data"
    },
    {
     "data": {
      "application/vnd.jupyter.widget-view+json": {
       "model_id": "7fe20c5095e0430585e23d6631e67f63",
       "version_major": 2,
       "version_minor": 0
      },
      "text/plain": [
       "Map:   0%|          | 0/2000 [00:00<?, ? examples/s]"
      ]
     },
     "metadata": {},
     "output_type": "display_data"
    },
    {
     "name": "stderr",
     "output_type": "stream",
     "text": [
      "Some weights of the model checkpoint at emilyalsentzer/Bio_ClinicalBERT were not used when initializing BertForSequenceClassification: ['cls.predictions.transform.LayerNorm.weight', 'cls.predictions.transform.LayerNorm.bias', 'cls.predictions.bias', 'cls.predictions.decoder.weight', 'cls.predictions.transform.dense.weight', 'cls.predictions.transform.dense.bias', 'cls.seq_relationship.bias', 'cls.seq_relationship.weight']\n",
      "- This IS expected if you are initializing BertForSequenceClassification from the checkpoint of a model trained on another task or with another architecture (e.g. initializing a BertForSequenceClassification model from a BertForPreTraining model).\n",
      "- This IS NOT expected if you are initializing BertForSequenceClassification from the checkpoint of a model that you expect to be exactly identical (initializing a BertForSequenceClassification model from a BertForSequenceClassification model).\n",
      "Some weights of BertForSequenceClassification were not initialized from the model checkpoint at emilyalsentzer/Bio_ClinicalBERT and are newly initialized: ['classifier.weight', 'classifier.bias']\n",
      "You should probably TRAIN this model on a down-stream task to be able to use it for predictions and inference.\n",
      "Some weights of the model checkpoint at emilyalsentzer/Bio_ClinicalBERT were not used when initializing BertForSequenceClassification: ['cls.predictions.transform.LayerNorm.weight', 'cls.predictions.transform.LayerNorm.bias', 'cls.predictions.bias', 'cls.predictions.decoder.weight', 'cls.predictions.transform.dense.weight', 'cls.predictions.transform.dense.bias', 'cls.seq_relationship.bias', 'cls.seq_relationship.weight']\n",
      "- This IS expected if you are initializing BertForSequenceClassification from the checkpoint of a model trained on another task or with another architecture (e.g. initializing a BertForSequenceClassification model from a BertForPreTraining model).\n",
      "- This IS NOT expected if you are initializing BertForSequenceClassification from the checkpoint of a model that you expect to be exactly identical (initializing a BertForSequenceClassification model from a BertForSequenceClassification model).\n",
      "Some weights of BertForSequenceClassification were not initialized from the model checkpoint at emilyalsentzer/Bio_ClinicalBERT and are newly initialized: ['classifier.weight', 'classifier.bias']\n",
      "You should probably TRAIN this model on a down-stream task to be able to use it for predictions and inference.\n",
      "/home/kevin/DPhil/Projects/EHR-Indication-Processing/.venv/lib/python3.11/site-packages/transformers/optimization.py:411: FutureWarning: This implementation of AdamW is deprecated and will be removed in a future version. Use the PyTorch implementation torch.optim.AdamW instead, or set `no_deprecation_warning=True` to disable this warning\n",
      "  warnings.warn(\n"
     ]
    },
    {
     "data": {
      "text/html": [
       "\n",
       "    <div>\n",
       "      \n",
       "      <progress value='2130' max='2130' style='width:300px; height:20px; vertical-align: middle;'></progress>\n",
       "      [2130/2130 02:52, Epoch 10/10]\n",
       "    </div>\n",
       "    <table border=\"1\" class=\"dataframe\">\n",
       "  <thead>\n",
       " <tr style=\"text-align: left;\">\n",
       "      <th>Epoch</th>\n",
       "      <th>Training Loss</th>\n",
       "      <th>Validation Loss</th>\n",
       "      <th>F1</th>\n",
       "      <th>Roc Auc</th>\n",
       "      <th>Accuracy</th>\n",
       "    </tr>\n",
       "  </thead>\n",
       "  <tbody>\n",
       "    <tr>\n",
       "      <td>1</td>\n",
       "      <td>No log</td>\n",
       "      <td>0.254063</td>\n",
       "      <td>0.508744</td>\n",
       "      <td>0.861392</td>\n",
       "      <td>0.183333</td>\n",
       "    </tr>\n",
       "    <tr>\n",
       "      <td>2</td>\n",
       "      <td>No log</td>\n",
       "      <td>0.170866</td>\n",
       "      <td>0.791612</td>\n",
       "      <td>0.933185</td>\n",
       "      <td>0.600000</td>\n",
       "    </tr>\n",
       "    <tr>\n",
       "      <td>3</td>\n",
       "      <td>0.247700</td>\n",
       "      <td>0.132288</td>\n",
       "      <td>0.832487</td>\n",
       "      <td>0.959801</td>\n",
       "      <td>0.653333</td>\n",
       "    </tr>\n",
       "    <tr>\n",
       "      <td>4</td>\n",
       "      <td>0.247700</td>\n",
       "      <td>0.113254</td>\n",
       "      <td>0.878229</td>\n",
       "      <td>0.970058</td>\n",
       "      <td>0.743333</td>\n",
       "    </tr>\n",
       "    <tr>\n",
       "      <td>5</td>\n",
       "      <td>0.090700</td>\n",
       "      <td>0.102619</td>\n",
       "      <td>0.888889</td>\n",
       "      <td>0.970497</td>\n",
       "      <td>0.796667</td>\n",
       "    </tr>\n",
       "    <tr>\n",
       "      <td>6</td>\n",
       "      <td>0.090700</td>\n",
       "      <td>0.095235</td>\n",
       "      <td>0.893976</td>\n",
       "      <td>0.971389</td>\n",
       "      <td>0.793333</td>\n",
       "    </tr>\n",
       "    <tr>\n",
       "      <td>7</td>\n",
       "      <td>0.090700</td>\n",
       "      <td>0.089250</td>\n",
       "      <td>0.897619</td>\n",
       "      <td>0.973308</td>\n",
       "      <td>0.810000</td>\n",
       "    </tr>\n",
       "    <tr>\n",
       "      <td>8</td>\n",
       "      <td>0.052500</td>\n",
       "      <td>0.086737</td>\n",
       "      <td>0.901542</td>\n",
       "      <td>0.973759</td>\n",
       "      <td>0.823333</td>\n",
       "    </tr>\n",
       "    <tr>\n",
       "      <td>9</td>\n",
       "      <td>0.052500</td>\n",
       "      <td>0.084038</td>\n",
       "      <td>0.907583</td>\n",
       "      <td>0.974937</td>\n",
       "      <td>0.836667</td>\n",
       "    </tr>\n",
       "    <tr>\n",
       "      <td>10</td>\n",
       "      <td>0.038200</td>\n",
       "      <td>0.084111</td>\n",
       "      <td>0.906509</td>\n",
       "      <td>0.974812</td>\n",
       "      <td>0.836667</td>\n",
       "    </tr>\n",
       "  </tbody>\n",
       "</table><p>"
      ],
      "text/plain": [
       "<IPython.core.display.HTML object>"
      ]
     },
     "metadata": {},
     "output_type": "display_data"
    },
    {
     "data": {
      "text/html": [],
      "text/plain": [
       "<IPython.core.display.HTML object>"
      ]
     },
     "metadata": {},
     "output_type": "display_data"
    },
    {
     "data": {
      "text/html": [],
      "text/plain": [
       "<IPython.core.display.HTML object>"
      ]
     },
     "metadata": {},
     "output_type": "display_data"
    },
    {
     "name": "stdout",
     "output_type": "stream",
     "text": [
      "Internal Test Set\n",
      "(           Urinary  Respiratory  Abdominal  Neurological  Skin Soft Tissue  \\\n",
      "F1-Score  0.958730     0.971429   0.957082      0.878049          0.924812   \n",
      "ROC AUC   0.970788     0.976043   0.965391      0.891304          0.966255   \n",
      "\n",
      "               Ent  Orthopaedic  Other Specific  No Specific Source  \\\n",
      "F1-Score  0.932039     0.934579        0.841463            0.977336   \n",
      "ROC AUC   0.969562     0.954031        0.890215            0.979175   \n",
      "\n",
      "          Prophylaxis  Uncertainty  Not Informative  \n",
      "F1-Score     0.982857     0.957020         0.807018  \n",
      "ROC AUC      0.985550     0.977694         0.838235  , {'F1-Score': 0.9633008665711219, 'ROC AUC': 0.9904368895327555})\n",
      "External Test Set\n",
      "(           Urinary  Respiratory  Abdominal  Neurological  Skin Soft Tissue  \\\n",
      "F1-Score  0.972085     0.991453   0.942731           1.0          0.964187   \n",
      "ROC AUC   0.982886     0.992145   0.952858           1.0          0.972147   \n",
      "\n",
      "               Ent  Orthopaedic  Other Specific  No Specific Source  \\\n",
      "F1-Score  0.962963     0.913043        0.869565            0.990783   \n",
      "ROC AUC   0.964286     0.937247        0.899747            0.993561   \n",
      "\n",
      "          Prophylaxis  Uncertainty  Not Informative  \n",
      "F1-Score     0.981664     0.982726         0.813559  \n",
      "ROC AUC      0.984070     0.992485         0.842857  , {'F1-Score': 0.9787359712529948, 'ROC AUC': 0.995165633903095})\n",
      "Training set size: 3000\n",
      "Data set size overview:\n",
      "- Training set: 2550\n",
      "- Evaluation set: 450\n",
      "- Testing Oxford set: 2000\n",
      "- Testing Banbury set: 2000\n",
      "\n"
     ]
    },
    {
     "data": {
      "application/vnd.jupyter.widget-view+json": {
       "model_id": "7273bce4f3f7406898a8b6f0f539a96d",
       "version_major": 2,
       "version_minor": 0
      },
      "text/plain": [
       "Map:   0%|          | 0/2550 [00:00<?, ? examples/s]"
      ]
     },
     "metadata": {},
     "output_type": "display_data"
    },
    {
     "data": {
      "application/vnd.jupyter.widget-view+json": {
       "model_id": "622294d35ef34479b69e87a2a003dd09",
       "version_major": 2,
       "version_minor": 0
      },
      "text/plain": [
       "Map:   0%|          | 0/450 [00:00<?, ? examples/s]"
      ]
     },
     "metadata": {},
     "output_type": "display_data"
    },
    {
     "data": {
      "application/vnd.jupyter.widget-view+json": {
       "model_id": "770b4cabcad94155a3691248665d3b63",
       "version_major": 2,
       "version_minor": 0
      },
      "text/plain": [
       "Map:   0%|          | 0/2000 [00:00<?, ? examples/s]"
      ]
     },
     "metadata": {},
     "output_type": "display_data"
    },
    {
     "data": {
      "application/vnd.jupyter.widget-view+json": {
       "model_id": "5ab12ce6e55243d58e3378ef6ac10782",
       "version_major": 2,
       "version_minor": 0
      },
      "text/plain": [
       "Map:   0%|          | 0/2000 [00:00<?, ? examples/s]"
      ]
     },
     "metadata": {},
     "output_type": "display_data"
    },
    {
     "name": "stderr",
     "output_type": "stream",
     "text": [
      "Some weights of the model checkpoint at emilyalsentzer/Bio_ClinicalBERT were not used when initializing BertForSequenceClassification: ['cls.predictions.transform.LayerNorm.weight', 'cls.predictions.transform.LayerNorm.bias', 'cls.predictions.bias', 'cls.predictions.decoder.weight', 'cls.predictions.transform.dense.weight', 'cls.predictions.transform.dense.bias', 'cls.seq_relationship.bias', 'cls.seq_relationship.weight']\n",
      "- This IS expected if you are initializing BertForSequenceClassification from the checkpoint of a model trained on another task or with another architecture (e.g. initializing a BertForSequenceClassification model from a BertForPreTraining model).\n",
      "- This IS NOT expected if you are initializing BertForSequenceClassification from the checkpoint of a model that you expect to be exactly identical (initializing a BertForSequenceClassification model from a BertForSequenceClassification model).\n",
      "Some weights of BertForSequenceClassification were not initialized from the model checkpoint at emilyalsentzer/Bio_ClinicalBERT and are newly initialized: ['classifier.weight', 'classifier.bias']\n",
      "You should probably TRAIN this model on a down-stream task to be able to use it for predictions and inference.\n",
      "Some weights of the model checkpoint at emilyalsentzer/Bio_ClinicalBERT were not used when initializing BertForSequenceClassification: ['cls.predictions.transform.LayerNorm.weight', 'cls.predictions.transform.LayerNorm.bias', 'cls.predictions.bias', 'cls.predictions.decoder.weight', 'cls.predictions.transform.dense.weight', 'cls.predictions.transform.dense.bias', 'cls.seq_relationship.bias', 'cls.seq_relationship.weight']\n",
      "- This IS expected if you are initializing BertForSequenceClassification from the checkpoint of a model trained on another task or with another architecture (e.g. initializing a BertForSequenceClassification model from a BertForPreTraining model).\n",
      "- This IS NOT expected if you are initializing BertForSequenceClassification from the checkpoint of a model that you expect to be exactly identical (initializing a BertForSequenceClassification model from a BertForSequenceClassification model).\n",
      "Some weights of BertForSequenceClassification were not initialized from the model checkpoint at emilyalsentzer/Bio_ClinicalBERT and are newly initialized: ['classifier.weight', 'classifier.bias']\n",
      "You should probably TRAIN this model on a down-stream task to be able to use it for predictions and inference.\n",
      "/home/kevin/DPhil/Projects/EHR-Indication-Processing/.venv/lib/python3.11/site-packages/transformers/optimization.py:411: FutureWarning: This implementation of AdamW is deprecated and will be removed in a future version. Use the PyTorch implementation torch.optim.AdamW instead, or set `no_deprecation_warning=True` to disable this warning\n",
      "  warnings.warn(\n"
     ]
    },
    {
     "data": {
      "text/html": [
       "\n",
       "    <div>\n",
       "      \n",
       "      <progress value='1595' max='1595' style='width:300px; height:20px; vertical-align: middle;'></progress>\n",
       "      [1595/1595 02:09, Epoch 5/5]\n",
       "    </div>\n",
       "    <table border=\"1\" class=\"dataframe\">\n",
       "  <thead>\n",
       " <tr style=\"text-align: left;\">\n",
       "      <th>Epoch</th>\n",
       "      <th>Training Loss</th>\n",
       "      <th>Validation Loss</th>\n",
       "      <th>F1</th>\n",
       "      <th>Roc Auc</th>\n",
       "      <th>Accuracy</th>\n",
       "    </tr>\n",
       "  </thead>\n",
       "  <tbody>\n",
       "    <tr>\n",
       "      <td>1</td>\n",
       "      <td>No log</td>\n",
       "      <td>0.192830</td>\n",
       "      <td>0.747953</td>\n",
       "      <td>0.936118</td>\n",
       "      <td>0.511111</td>\n",
       "    </tr>\n",
       "    <tr>\n",
       "      <td>2</td>\n",
       "      <td>0.259300</td>\n",
       "      <td>0.124612</td>\n",
       "      <td>0.850299</td>\n",
       "      <td>0.972075</td>\n",
       "      <td>0.697778</td>\n",
       "    </tr>\n",
       "    <tr>\n",
       "      <td>3</td>\n",
       "      <td>0.259300</td>\n",
       "      <td>0.097463</td>\n",
       "      <td>0.904645</td>\n",
       "      <td>0.981281</td>\n",
       "      <td>0.806667</td>\n",
       "    </tr>\n",
       "    <tr>\n",
       "      <td>4</td>\n",
       "      <td>0.114300</td>\n",
       "      <td>0.083758</td>\n",
       "      <td>0.923939</td>\n",
       "      <td>0.985314</td>\n",
       "      <td>0.851111</td>\n",
       "    </tr>\n",
       "    <tr>\n",
       "      <td>5</td>\n",
       "      <td>0.075500</td>\n",
       "      <td>0.080588</td>\n",
       "      <td>0.927142</td>\n",
       "      <td>0.985797</td>\n",
       "      <td>0.857778</td>\n",
       "    </tr>\n",
       "  </tbody>\n",
       "</table><p>"
      ],
      "text/plain": [
       "<IPython.core.display.HTML object>"
      ]
     },
     "metadata": {},
     "output_type": "display_data"
    },
    {
     "data": {
      "text/html": [],
      "text/plain": [
       "<IPython.core.display.HTML object>"
      ]
     },
     "metadata": {},
     "output_type": "display_data"
    },
    {
     "data": {
      "text/html": [],
      "text/plain": [
       "<IPython.core.display.HTML object>"
      ]
     },
     "metadata": {},
     "output_type": "display_data"
    },
    {
     "name": "stdout",
     "output_type": "stream",
     "text": [
      "Internal Test Set\n",
      "(           Urinary  Respiratory  Abdominal  Neurological  Skin Soft Tissue  \\\n",
      "F1-Score  0.961538     0.983827   0.961864      0.878049          0.921348   \n",
      "ROC AUC   0.968207     0.987045   0.973192      0.891304          0.965988   \n",
      "\n",
      "               Ent  Orthopaedic  Other Specific  No Specific Source  \\\n",
      "F1-Score  0.853933     0.923077        0.771242            0.979569   \n",
      "ROC AUC   0.872549     0.936107        0.833658            0.981288   \n",
      "\n",
      "          Prophylaxis  Uncertainty  Not Informative  \n",
      "F1-Score     0.979152      0.96830              0.0  \n",
      "ROC AUC      0.981350      0.98139              0.5  , {'F1-Score': 0.95272568158869, 'ROC AUC': 0.9927920330468551})\n",
      "External Test Set\n",
      "(           Urinary  Respiratory  Abdominal  Neurological  Skin Soft Tissue  \\\n",
      "F1-Score  0.978441     0.992888   0.947826           1.0          0.955307   \n",
      "ROC AUC   0.982722     0.993561   0.961067           1.0          0.961611   \n",
      "\n",
      "               Ent  Orthopaedic  Other Specific  No Specific Source  \\\n",
      "F1-Score  0.962963     0.888889        0.800000            0.989247   \n",
      "ROC AUC   0.964286     0.916414        0.859494            0.992422   \n",
      "\n",
      "          Prophylaxis  Uncertainty  Not Informative  \n",
      "F1-Score     0.980282     0.988462              0.0  \n",
      "ROC AUC      0.983766     0.994990              0.5  , {'F1-Score': 0.96802696863666, 'ROC AUC': 0.9935943656720382})\n",
      "Training set size: 4000\n",
      "Data set size overview:\n",
      "- Training set: 3400\n",
      "- Evaluation set: 600\n",
      "- Testing Oxford set: 2000\n",
      "- Testing Banbury set: 2000\n",
      "\n"
     ]
    },
    {
     "data": {
      "application/vnd.jupyter.widget-view+json": {
       "model_id": "65fc40d06c2d422084ed61c5246bbf0f",
       "version_major": 2,
       "version_minor": 0
      },
      "text/plain": [
       "Map:   0%|          | 0/3400 [00:00<?, ? examples/s]"
      ]
     },
     "metadata": {},
     "output_type": "display_data"
    },
    {
     "data": {
      "application/vnd.jupyter.widget-view+json": {
       "model_id": "d8fb123338f4473ebf0fef4b661cfbdb",
       "version_major": 2,
       "version_minor": 0
      },
      "text/plain": [
       "Map:   0%|          | 0/600 [00:00<?, ? examples/s]"
      ]
     },
     "metadata": {},
     "output_type": "display_data"
    },
    {
     "data": {
      "application/vnd.jupyter.widget-view+json": {
       "model_id": "909fb5fff2364981a99d77d32840a43c",
       "version_major": 2,
       "version_minor": 0
      },
      "text/plain": [
       "Map:   0%|          | 0/2000 [00:00<?, ? examples/s]"
      ]
     },
     "metadata": {},
     "output_type": "display_data"
    },
    {
     "data": {
      "application/vnd.jupyter.widget-view+json": {
       "model_id": "2f8badd0b4a54f62aa3df5a0c67d4157",
       "version_major": 2,
       "version_minor": 0
      },
      "text/plain": [
       "Map:   0%|          | 0/2000 [00:00<?, ? examples/s]"
      ]
     },
     "metadata": {},
     "output_type": "display_data"
    },
    {
     "name": "stderr",
     "output_type": "stream",
     "text": [
      "Some weights of the model checkpoint at emilyalsentzer/Bio_ClinicalBERT were not used when initializing BertForSequenceClassification: ['cls.predictions.transform.LayerNorm.weight', 'cls.predictions.transform.LayerNorm.bias', 'cls.predictions.bias', 'cls.predictions.decoder.weight', 'cls.predictions.transform.dense.weight', 'cls.predictions.transform.dense.bias', 'cls.seq_relationship.bias', 'cls.seq_relationship.weight']\n",
      "- This IS expected if you are initializing BertForSequenceClassification from the checkpoint of a model trained on another task or with another architecture (e.g. initializing a BertForSequenceClassification model from a BertForPreTraining model).\n",
      "- This IS NOT expected if you are initializing BertForSequenceClassification from the checkpoint of a model that you expect to be exactly identical (initializing a BertForSequenceClassification model from a BertForSequenceClassification model).\n",
      "Some weights of BertForSequenceClassification were not initialized from the model checkpoint at emilyalsentzer/Bio_ClinicalBERT and are newly initialized: ['classifier.weight', 'classifier.bias']\n",
      "You should probably TRAIN this model on a down-stream task to be able to use it for predictions and inference.\n",
      "Some weights of the model checkpoint at emilyalsentzer/Bio_ClinicalBERT were not used when initializing BertForSequenceClassification: ['cls.predictions.transform.LayerNorm.weight', 'cls.predictions.transform.LayerNorm.bias', 'cls.predictions.bias', 'cls.predictions.decoder.weight', 'cls.predictions.transform.dense.weight', 'cls.predictions.transform.dense.bias', 'cls.seq_relationship.bias', 'cls.seq_relationship.weight']\n",
      "- This IS expected if you are initializing BertForSequenceClassification from the checkpoint of a model trained on another task or with another architecture (e.g. initializing a BertForSequenceClassification model from a BertForPreTraining model).\n",
      "- This IS NOT expected if you are initializing BertForSequenceClassification from the checkpoint of a model that you expect to be exactly identical (initializing a BertForSequenceClassification model from a BertForSequenceClassification model).\n",
      "Some weights of BertForSequenceClassification were not initialized from the model checkpoint at emilyalsentzer/Bio_ClinicalBERT and are newly initialized: ['classifier.weight', 'classifier.bias']\n",
      "You should probably TRAIN this model on a down-stream task to be able to use it for predictions and inference.\n",
      "/home/kevin/DPhil/Projects/EHR-Indication-Processing/.venv/lib/python3.11/site-packages/transformers/optimization.py:411: FutureWarning: This implementation of AdamW is deprecated and will be removed in a future version. Use the PyTorch implementation torch.optim.AdamW instead, or set `no_deprecation_warning=True` to disable this warning\n",
      "  warnings.warn(\n"
     ]
    },
    {
     "data": {
      "text/html": [
       "\n",
       "    <div>\n",
       "      \n",
       "      <progress value='2125' max='2125' style='width:300px; height:20px; vertical-align: middle;'></progress>\n",
       "      [2125/2125 02:52, Epoch 5/5]\n",
       "    </div>\n",
       "    <table border=\"1\" class=\"dataframe\">\n",
       "  <thead>\n",
       " <tr style=\"text-align: left;\">\n",
       "      <th>Epoch</th>\n",
       "      <th>Training Loss</th>\n",
       "      <th>Validation Loss</th>\n",
       "      <th>F1</th>\n",
       "      <th>Roc Auc</th>\n",
       "      <th>Accuracy</th>\n",
       "    </tr>\n",
       "  </thead>\n",
       "  <tbody>\n",
       "    <tr>\n",
       "      <td>1</td>\n",
       "      <td>No log</td>\n",
       "      <td>0.164557</td>\n",
       "      <td>0.813072</td>\n",
       "      <td>0.939674</td>\n",
       "      <td>0.643333</td>\n",
       "    </tr>\n",
       "    <tr>\n",
       "      <td>2</td>\n",
       "      <td>0.259400</td>\n",
       "      <td>0.108509</td>\n",
       "      <td>0.876847</td>\n",
       "      <td>0.977832</td>\n",
       "      <td>0.755000</td>\n",
       "    </tr>\n",
       "    <tr>\n",
       "      <td>3</td>\n",
       "      <td>0.118000</td>\n",
       "      <td>0.089523</td>\n",
       "      <td>0.898428</td>\n",
       "      <td>0.982073</td>\n",
       "      <td>0.808333</td>\n",
       "    </tr>\n",
       "    <tr>\n",
       "      <td>4</td>\n",
       "      <td>0.075300</td>\n",
       "      <td>0.078014</td>\n",
       "      <td>0.910511</td>\n",
       "      <td>0.984830</td>\n",
       "      <td>0.828333</td>\n",
       "    </tr>\n",
       "    <tr>\n",
       "      <td>5</td>\n",
       "      <td>0.056000</td>\n",
       "      <td>0.074875</td>\n",
       "      <td>0.921986</td>\n",
       "      <td>0.985103</td>\n",
       "      <td>0.855000</td>\n",
       "    </tr>\n",
       "  </tbody>\n",
       "</table><p>"
      ],
      "text/plain": [
       "<IPython.core.display.HTML object>"
      ]
     },
     "metadata": {},
     "output_type": "display_data"
    },
    {
     "data": {
      "text/html": [],
      "text/plain": [
       "<IPython.core.display.HTML object>"
      ]
     },
     "metadata": {},
     "output_type": "display_data"
    },
    {
     "data": {
      "text/html": [],
      "text/plain": [
       "<IPython.core.display.HTML object>"
      ]
     },
     "metadata": {},
     "output_type": "display_data"
    },
    {
     "name": "stdout",
     "output_type": "stream",
     "text": [
      "Internal Test Set\n",
      "(           Urinary  Respiratory  Abdominal  Neurological  Skin Soft Tissue  \\\n",
      "F1-Score  0.977636     0.983784   0.955603      0.883721          0.951311   \n",
      "ROC AUC   0.978125     0.986016   0.970532      0.912791          0.982325   \n",
      "\n",
      "               Ent  Orthopaedic  Other Specific  No Specific Source  \\\n",
      "F1-Score  0.847826     0.943396        0.853503            0.980737   \n",
      "ROC AUC   0.881840     0.954288        0.880159            0.982581   \n",
      "\n",
      "          Prophylaxis  Uncertainty  Not Informative  \n",
      "F1-Score     0.986477     0.971264         0.583333  \n",
      "ROC AUC      0.989101     0.984263         0.705882  , {'F1-Score': 0.9662431367944361, 'ROC AUC': 0.9918999175917319})\n",
      "External Test Set\n",
      "(           Urinary  Respiratory  Abdominal  Neurological  Skin Soft Tissue  \\\n",
      "F1-Score  0.988543     0.989354   0.947826           1.0          0.969529   \n",
      "ROC AUC   0.993902     0.991308   0.961067           1.0          0.972697   \n",
      "\n",
      "               Ent  Orthopaedic  Other Specific  No Specific Source  \\\n",
      "F1-Score  0.962963     0.933333        0.880000            0.989264   \n",
      "ROC AUC   0.964286     0.937500        0.939241            0.992821   \n",
      "\n",
      "          Prophylaxis  Uncertainty  Not Informative  \n",
      "F1-Score     0.978962     0.984615         0.653846  \n",
      "ROC AUC      0.984549     0.992773         0.742857  , {'F1-Score': 0.9782974343562152, 'ROC AUC': 0.9945883908535358})\n"
     ]
    }
   ],
   "source": [
    "round_scores_dict = {}\n",
    "\n",
    "# --- Training loop\n",
    "for training_set_size in training_set_sizes:\n",
    "    print(f\"Training set size: {training_set_size}\")\n",
    "    \n",
    "    # --- Prepare data\n",
    "    # Create a subset of the training data to get the top `training_set_size` rows\n",
    "    train_eval_subset = train_eval_df.head(training_set_size)\n",
    "\n",
    "    # Split into train/eval & create Huggingface datasets\n",
    "    indication_dataset = prepare_datasets(train_eval_subset, test_oxford_df, test_banbury_df)\n",
    "\n",
    "    # Apply preprocessing & set format to PyTorch\n",
    "    encoded_dataset = indication_dataset\\\n",
    "        .map(encode_data, batched=True, remove_columns=indication_dataset['train'].column_names)\n",
    "    \n",
    "    encoded_dataset.set_format(\"torch\")\n",
    "    \n",
    "    # --- Setup trainer & run training\n",
    "    # Set up training arguments\n",
    "    num_train_epochs = min((4000 // training_set_size) * 5, np.Inf)\n",
    "    \n",
    "    training_args = TrainingArguments(\n",
    "        model_name_display,\n",
    "        evaluation_strategy = \"epoch\",\n",
    "        save_strategy = \"no\",\n",
    "        learning_rate=leanring_rate,\n",
    "        per_device_train_batch_size=batch_size,\n",
    "        per_device_eval_batch_size=batch_size,\n",
    "        num_train_epochs=num_train_epochs,\n",
    "        weight_decay=weight_decay,\n",
    "        load_best_model_at_end=False,\n",
    "        metric_for_best_model=metric_name,\n",
    "        seed=42,\n",
    "    )\n",
    "\n",
    "    trainer = Trainer(\n",
    "        model_init=model_init,\n",
    "        args=training_args,\n",
    "        train_dataset=encoded_dataset[\"train\"],\n",
    "        eval_dataset=encoded_dataset[\"eval\"],\n",
    "        tokenizer=tokenizer,\n",
    "        compute_metrics=compute_metrics,\n",
    "    )\n",
    "\n",
    "    trainer.train()\n",
    "\n",
    "    # --- Evaluate on test sets\n",
    "    # Oxford test set\n",
    "    predictions_raw_internal = trainer.predict(encoded_dataset[\"test\"]).predictions\n",
    "    true_labels_internal = encoded_dataset[\"test\"][\"labels\"]\n",
    "    scores_internal = calculate_metrics(predictions_raw_internal, true_labels_internal)\n",
    "\n",
    "    # Banbury test set\n",
    "    predictions_raw_external = trainer.predict(encoded_dataset[\"test_external\"]).predictions\n",
    "    true_labels_external = encoded_dataset[\"test_external\"][\"labels\"]\n",
    "    scores_external = calculate_metrics(predictions_raw_external, true_labels_external)\n",
    "\n",
    "    # --- Print results\n",
    "    print(\"Internal Test Set\")\n",
    "    print(scores_internal)\n",
    "\n",
    "    print(\"External Test Set\")\n",
    "    print(scores_external)\n",
    "\n",
    "\n",
    "    # --- Save results\n",
    "    round_scores_dict[training_set_size] = {\n",
    "        \"Internal\": scores_internal,\n",
    "        \"External\": scores_external,\n",
    "    }\n"
   ]
  },
  {
   "cell_type": "markdown",
   "metadata": {},
   "source": [
    "## Results"
   ]
  },
  {
   "cell_type": "markdown",
   "metadata": {},
   "source": [
    "Pickle results"
   ]
  },
  {
   "cell_type": "code",
   "execution_count": 27,
   "metadata": {},
   "outputs": [],
   "source": [
    "# Pickle the round_scores_dict\n",
    "import pickle\n",
    "\n",
    "with open(export_path / \"round_scores_dict.pkl\", \"wb\") as f:\n",
    "    pickle.dump(round_scores_dict, f)"
   ]
  },
  {
   "cell_type": "code",
   "execution_count": 29,
   "metadata": {},
   "outputs": [
    {
     "name": "stdout",
     "output_type": "stream",
     "text": [
      "{'F1-Score': 0.9036594189631324, 'ROC AUC': 0.9724819155331631}\n"
     ]
    }
   ],
   "source": [
    "from pprint import pprint\n",
    "pprint(round_scores_dict[400][\"Internal\"][1])"
   ]
  },
  {
   "cell_type": "markdown",
   "metadata": {},
   "source": [
    "Plot the performance"
   ]
  },
  {
   "cell_type": "code",
   "execution_count": 30,
   "metadata": {},
   "outputs": [],
   "source": [
    "# Extract the performance from dict\n",
    "internal_scores_f1 = {}\n",
    "internal_score_auc = {}\n",
    "\n",
    "external_scores_f1 = {}\n",
    "external_score_auc = {}\n",
    "\n",
    "for training_set_size in training_set_sizes:\n",
    "    internal_scores_f1[training_set_size] = round_scores_dict[training_set_size][\"Internal\"][1][\"F1-Score\"]\n",
    "    internal_score_auc[training_set_size] = round_scores_dict[training_set_size][\"Internal\"][1][\"ROC AUC\"]\n",
    "\n",
    "    external_scores_f1[training_set_size] = round_scores_dict[training_set_size][\"External\"][1][\"F1-Score\"]\n",
    "    external_score_auc[training_set_size] = round_scores_dict[training_set_size][\"External\"][1][\"ROC AUC\"]\n",
    "\n",
    "# Create one DataFrame\n",
    "metrics_df = pd.DataFrame.from_dict({\n",
    "    \"Internal Test F1-Score\": internal_scores_f1,\n",
    "    \"Internal Test ROC AUC\": internal_score_auc,\n",
    "    \"External Test F1-Score\": external_scores_f1,\n",
    "    \"External Test ROC AUC\": external_score_auc,\n",
    "})\n",
    "\n",
    "metrics_df.index.name = \"Training Set Size\"\n",
    "\n",
    "metrics_df.to_csv(export_path / \"internal_external_f1_auc.csv\", index=False)\n",
    "\n",
    "# Split into internal/external\n",
    "metrics_internal_df = pd.DataFrame.from_dict({\n",
    "    \"Internal Test F1-Score\": internal_scores_f1,\n",
    "    \"Internal Test ROC AUC\": internal_score_auc,\n",
    "})\n",
    "metrics_internal_df.index.name = \"Training Set Size\"\n",
    "\n",
    "metrics_external_df = pd.DataFrame.from_dict({\n",
    "    \"External Test F1-Score\": external_scores_f1,\n",
    "    \"External Test ROC AUC\": external_score_auc,\n",
    "})\n",
    "metrics_external_df.index.name = \"Training Set Size\""
   ]
  },
  {
   "cell_type": "code",
   "execution_count": 32,
   "metadata": {},
   "outputs": [
    {
     "data": {
      "image/png": "[encoded data removed]",
      "text/plain": [
       "<Figure size 640x480 with 1 Axes>"
      ]
     },
     "metadata": {},
     "output_type": "display_data"
    }
   ],
   "source": [
    "fig, ax = plt.subplots()\n",
    "\n",
    "sns.lineplot(data=metrics_internal_df, markers=True, palette=['red', 'red'], ax=ax)\n",
    "sns.lineplot(data=metrics_external_df, markers=True, palette=['blue', 'blue'], ax=ax)\n",
    "\n",
    "plt.savefig(export_path / \"internal_external_f1_auc.png\", dpi=300, bbox_inches='tight')"
   ]
  }
 ],
 "metadata": {
  "accelerator": "GPU",
  "colab": {
   "provenance": []
  },
  "gpuClass": "standard",
  "kernelspec": {
   "display_name": "Python 3",
   "name": "python3"
  },
  "language_info": {
   "codemirror_mode": {
    "name": "ipython",
    "version": 3
   },
   "file_extension": ".py",
   "mimetype": "text/x-python",
   "name": "python",
   "nbconvert_exporter": "python",
   "pygments_lexer": "ipython3",
   "version": "3.11.5"
  },
  "widgets": {
   "application/vnd.jupyter.widget-state+json": {
    "0eb5774a706844f993ae374b1270d2a0": {
     "model_module": "@jupyter-widgets/controls",
     "model_module_version": "1.5.0",
     "model_name": "DescriptionStyleModel",
     "state": {
      "_model_module": "@jupyter-widgets/controls",
      "_model_module_version": "1.5.0",
      "_model_name": "DescriptionStyleModel",
      "_view_count": null,
      "_view_module": "@jupyter-widgets/base",
      "_view_module_version": "1.2.0",
      "_view_name": "StyleView",
      "description_width": ""
     }
    },
    "1a3d327472cb44648991694fc8d0481d": {
     "model_module": "@jupyter-widgets/base",
     "model_module_version": "1.2.0",
     "model_name": "LayoutModel",
     "state": {
      "_model_module": "@jupyter-widgets/base",
      "_model_module_version": "1.2.0",
      "_model_name": "LayoutModel",
      "_view_count": null,
      "_view_module": "@jupyter-widgets/base",
      "_view_module_version": "1.2.0",
      "_view_name": "LayoutView",
      "align_content": null,
      "align_items": null,
      "align_self": null,
      "border": null,
      "bottom": null,
      "display": null,
      "flex": null,
      "flex_flow": null,
      "grid_area": null,
      "grid_auto_columns": null,
      "grid_auto_flow": null,
      "grid_auto_rows": null,
      "grid_column": null,
      "grid_gap": null,
      "grid_row": null,
      "grid_template_areas": null,
      "grid_template_columns": null,
      "grid_template_rows": null,
      "height": null,
      "justify_content": null,
      "justify_items": null,
      "left": null,
      "margin": null,
      "max_height": null,
      "max_width": null,
      "min_height": null,
      "min_width": null,
      "object_fit": null,
      "object_position": null,
      "order": null,
      "overflow": null,
      "overflow_x": null,
      "overflow_y": null,
      "padding": null,
      "right": null,
      "top": null,
      "visibility": null,
      "width": null
     }
    },
    "1fcf08d5ad1d4baeb9c78159cd44c5ce": {
     "model_module": "@jupyter-widgets/base",
     "model_module_version": "1.2.0",
     "model_name": "LayoutModel",
     "state": {
      "_model_module": "@jupyter-widgets/base",
      "_model_module_version": "1.2.0",
      "_model_name": "LayoutModel",
      "_view_count": null,
      "_view_module": "@jupyter-widgets/base",
      "_view_module_version": "1.2.0",
      "_view_name": "LayoutView",
      "align_content": null,
      "align_items": null,
      "align_self": null,
      "border": null,
      "bottom": null,
      "display": null,
      "flex": null,
      "flex_flow": null,
      "grid_area": null,
      "grid_auto_columns": null,
      "grid_auto_flow": null,
      "grid_auto_rows": null,
      "grid_column": null,
      "grid_gap": null,
      "grid_row": null,
      "grid_template_areas": null,
      "grid_template_columns": null,
      "grid_template_rows": null,
      "height": null,
      "justify_content": null,
      "justify_items": null,
      "left": null,
      "margin": null,
      "max_height": null,
      "max_width": null,
      "min_height": null,
      "min_width": null,
      "object_fit": null,
      "object_position": null,
      "order": null,
      "overflow": null,
      "overflow_x": null,
      "overflow_y": null,
      "padding": null,
      "right": null,
      "top": null,
      "visibility": "hidden",
      "width": null
     }
    },
    "2fb56d4f91194def9c995d30b2af01d9": {
     "model_module": "@jupyter-widgets/controls",
     "model_module_version": "1.5.0",
     "model_name": "HTMLModel",
     "state": {
      "_dom_classes": [],
      "_model_module": "@jupyter-widgets/controls",
      "_model_module_version": "1.5.0",
      "_model_name": "HTMLModel",
      "_view_count": null,
      "_view_module": "@jupyter-widgets/controls",
      "_view_module_version": "1.5.0",
      "_view_name": "HTMLView",
      "description": "",
      "description_tooltip": null,
      "layout": "IPY_MODEL_75056710738f432f8bce72980cd14e55",
      "placeholder": "​",
      "style": "IPY_MODEL_e9b99b2b480146ed9781c6d527fdd4a7",
      "value": " 4000/4345 [00:00&lt;00:00, 8473.83 examples/s]"
     }
    },
    "33edb64e041f459e87740b443f03acfc": {
     "model_module": "@jupyter-widgets/controls",
     "model_module_version": "1.5.0",
     "model_name": "DescriptionStyleModel",
     "state": {
      "_model_module": "@jupyter-widgets/controls",
      "_model_module_version": "1.5.0",
      "_model_name": "DescriptionStyleModel",
      "_view_count": null,
      "_view_module": "@jupyter-widgets/base",
      "_view_module_version": "1.2.0",
      "_view_name": "StyleView",
      "description_width": ""
     }
    },
    "36577f7f1bb0466c85129ce70d950620": {
     "model_module": "@jupyter-widgets/base",
     "model_module_version": "1.2.0",
     "model_name": "LayoutModel",
     "state": {
      "_model_module": "@jupyter-widgets/base",
      "_model_module_version": "1.2.0",
      "_model_name": "LayoutModel",
      "_view_count": null,
      "_view_module": "@jupyter-widgets/base",
      "_view_module_version": "1.2.0",
      "_view_name": "LayoutView",
      "align_content": null,
      "align_items": null,
      "align_self": null,
      "border": null,
      "bottom": null,
      "display": null,
      "flex": null,
      "flex_flow": null,
      "grid_area": null,
      "grid_auto_columns": null,
      "grid_auto_flow": null,
      "grid_auto_rows": null,
      "grid_column": null,
      "grid_gap": null,
      "grid_row": null,
      "grid_template_areas": null,
      "grid_template_columns": null,
      "grid_template_rows": null,
      "height": null,
      "justify_content": null,
      "justify_items": null,
      "left": null,
      "margin": null,
      "max_height": null,
      "max_width": null,
      "min_height": null,
      "min_width": null,
      "object_fit": null,
      "object_position": null,
      "order": null,
      "overflow": null,
      "overflow_x": null,
      "overflow_y": null,
      "padding": null,
      "right": null,
      "top": null,
      "visibility": null,
      "width": null
     }
    },
    "481c56afb1374cd28b1129f8d4057205": {
     "model_module": "@jupyter-widgets/base",
     "model_module_version": "1.2.0",
     "model_name": "LayoutModel",
     "state": {
      "_model_module": "@jupyter-widgets/base",
      "_model_module_version": "1.2.0",
      "_model_name": "LayoutModel",
      "_view_count": null,
      "_view_module": "@jupyter-widgets/base",
      "_view_module_version": "1.2.0",
      "_view_name": "LayoutView",
      "align_content": null,
      "align_items": null,
      "align_self": null,
      "border": null,
      "bottom": null,
      "display": null,
      "flex": null,
      "flex_flow": null,
      "grid_area": null,
      "grid_auto_columns": null,
      "grid_auto_flow": null,
      "grid_auto_rows": null,
      "grid_column": null,
      "grid_gap": null,
      "grid_row": null,
      "grid_template_areas": null,
      "grid_template_columns": null,
      "grid_template_rows": null,
      "height": null,
      "justify_content": null,
      "justify_items": null,
      "left": null,
      "margin": null,
      "max_height": null,
      "max_width": null,
      "min_height": null,
      "min_width": null,
      "object_fit": null,
      "object_position": null,
      "order": null,
      "overflow": null,
      "overflow_x": null,
      "overflow_y": null,
      "padding": null,
      "right": null,
      "top": null,
      "visibility": null,
      "width": null
     }
    },
    "4b34e3ab7fa44061b155e88f57b4596a": {
     "model_module": "@jupyter-widgets/controls",
     "model_module_version": "1.5.0",
     "model_name": "HBoxModel",
     "state": {
      "_dom_classes": [],
      "_model_module": "@jupyter-widgets/controls",
      "_model_module_version": "1.5.0",
      "_model_name": "HBoxModel",
      "_view_count": null,
      "_view_module": "@jupyter-widgets/controls",
      "_view_module_version": "1.5.0",
      "_view_name": "HBoxView",
      "box_style": "",
      "children": [
       "IPY_MODEL_5429cd94c8944fd193ccbe0fb96d5f03",
       "IPY_MODEL_fbe622fc5307411ba62ce9149b544d72",
       "IPY_MODEL_f2c1934fd4824b099b266ed26c1ebce1"
      ],
      "layout": "IPY_MODEL_ec6c6109c199437492d367ae489a0a64"
     }
    },
    "5429cd94c8944fd193ccbe0fb96d5f03": {
     "model_module": "@jupyter-widgets/controls",
     "model_module_version": "1.5.0",
     "model_name": "HTMLModel",
     "state": {
      "_dom_classes": [],
      "_model_module": "@jupyter-widgets/controls",
      "_model_module_version": "1.5.0",
      "_model_name": "HTMLModel",
      "_view_count": null,
      "_view_module": "@jupyter-widgets/controls",
      "_view_module_version": "1.5.0",
      "_view_name": "HTMLView",
      "description": "",
      "description_tooltip": null,
      "layout": "IPY_MODEL_c2f8d5545b2049a5a738d680525e39bd",
      "placeholder": "​",
      "style": "IPY_MODEL_33edb64e041f459e87740b443f03acfc",
      "value": "Map:  50%"
     }
    },
    "75056710738f432f8bce72980cd14e55": {
     "model_module": "@jupyter-widgets/base",
     "model_module_version": "1.2.0",
     "model_name": "LayoutModel",
     "state": {
      "_model_module": "@jupyter-widgets/base",
      "_model_module_version": "1.2.0",
      "_model_name": "LayoutModel",
      "_view_count": null,
      "_view_module": "@jupyter-widgets/base",
      "_view_module_version": "1.2.0",
      "_view_name": "LayoutView",
      "align_content": null,
      "align_items": null,
      "align_self": null,
      "border": null,
      "bottom": null,
      "display": null,
      "flex": null,
      "flex_flow": null,
      "grid_area": null,
      "grid_auto_columns": null,
      "grid_auto_flow": null,
      "grid_auto_rows": null,
      "grid_column": null,
      "grid_gap": null,
      "grid_row": null,
      "grid_template_areas": null,
      "grid_template_columns": null,
      "grid_template_rows": null,
      "height": null,
      "justify_content": null,
      "justify_items": null,
      "left": null,
      "margin": null,
      "max_height": null,
      "max_width": null,
      "min_height": null,
      "min_width": null,
      "object_fit": null,
      "object_position": null,
      "order": null,
      "overflow": null,
      "overflow_x": null,
      "overflow_y": null,
      "padding": null,
      "right": null,
      "top": null,
      "visibility": null,
      "width": null
     }
    },
    "7a4ba4a9ec354c17893530ecf9da3308": {
     "model_module": "@jupyter-widgets/controls",
     "model_module_version": "1.5.0",
     "model_name": "HTMLModel",
     "state": {
      "_dom_classes": [],
      "_model_module": "@jupyter-widgets/controls",
      "_model_module_version": "1.5.0",
      "_model_name": "HTMLModel",
      "_view_count": null,
      "_view_module": "@jupyter-widgets/controls",
      "_view_module_version": "1.5.0",
      "_view_name": "HTMLView",
      "description": "",
      "description_tooltip": null,
      "layout": "IPY_MODEL_857f6ba896ad44dfa172b5c6c52dfda0",
      "placeholder": "​",
      "style": "IPY_MODEL_0eb5774a706844f993ae374b1270d2a0",
      "value": " 95382/? [03:12&lt;00:00, 585.44it/s]"
     }
    },
    "7adcf8583fff4e41a072fc219af9ffc8": {
     "model_module": "@jupyter-widgets/controls",
     "model_module_version": "1.5.0",
     "model_name": "FloatProgressModel",
     "state": {
      "_dom_classes": [],
      "_model_module": "@jupyter-widgets/controls",
      "_model_module_version": "1.5.0",
      "_model_name": "FloatProgressModel",
      "_view_count": null,
      "_view_module": "@jupyter-widgets/controls",
      "_view_module_version": "1.5.0",
      "_view_name": "ProgressView",
      "bar_style": "",
      "description": "",
      "description_tooltip": null,
      "layout": "IPY_MODEL_986625fcdf454adb9c98800f043d7777",
      "max": 4345,
      "min": 0,
      "orientation": "horizontal",
      "style": "IPY_MODEL_b481aca6eb0c4ac4924691b6286c52ba",
      "value": 4345
     }
    },
    "804c9f000ce64c78a0005e995d672297": {
     "model_module": "@jupyter-widgets/controls",
     "model_module_version": "1.5.0",
     "model_name": "DescriptionStyleModel",
     "state": {
      "_model_module": "@jupyter-widgets/controls",
      "_model_module_version": "1.5.0",
      "_model_name": "DescriptionStyleModel",
      "_view_count": null,
      "_view_module": "@jupyter-widgets/base",
      "_view_module_version": "1.2.0",
      "_view_name": "StyleView",
      "description_width": ""
     }
    },
    "857f6ba896ad44dfa172b5c6c52dfda0": {
     "model_module": "@jupyter-widgets/base",
     "model_module_version": "1.2.0",
     "model_name": "LayoutModel",
     "state": {
      "_model_module": "@jupyter-widgets/base",
      "_model_module_version": "1.2.0",
      "_model_name": "LayoutModel",
      "_view_count": null,
      "_view_module": "@jupyter-widgets/base",
      "_view_module_version": "1.2.0",
      "_view_name": "LayoutView",
      "align_content": null,
      "align_items": null,
      "align_self": null,
      "border": null,
      "bottom": null,
      "display": null,
      "flex": null,
      "flex_flow": null,
      "grid_area": null,
      "grid_auto_columns": null,
      "grid_auto_flow": null,
      "grid_auto_rows": null,
      "grid_column": null,
      "grid_gap": null,
      "grid_row": null,
      "grid_template_areas": null,
      "grid_template_columns": null,
      "grid_template_rows": null,
      "height": null,
      "justify_content": null,
      "justify_items": null,
      "left": null,
      "margin": null,
      "max_height": null,
      "max_width": null,
      "min_height": null,
      "min_width": null,
      "object_fit": null,
      "object_position": null,
      "order": null,
      "overflow": null,
      "overflow_x": null,
      "overflow_y": null,
      "padding": null,
      "right": null,
      "top": null,
      "visibility": null,
      "width": null
     }
    },
    "96c1e4074a824388b228b2404838232d": {
     "model_module": "@jupyter-widgets/controls",
     "model_module_version": "1.5.0",
     "model_name": "DescriptionStyleModel",
     "state": {
      "_model_module": "@jupyter-widgets/controls",
      "_model_module_version": "1.5.0",
      "_model_name": "DescriptionStyleModel",
      "_view_count": null,
      "_view_module": "@jupyter-widgets/base",
      "_view_module_version": "1.2.0",
      "_view_name": "StyleView",
      "description_width": ""
     }
    },
    "986625fcdf454adb9c98800f043d7777": {
     "model_module": "@jupyter-widgets/base",
     "model_module_version": "1.2.0",
     "model_name": "LayoutModel",
     "state": {
      "_model_module": "@jupyter-widgets/base",
      "_model_module_version": "1.2.0",
      "_model_name": "LayoutModel",
      "_view_count": null,
      "_view_module": "@jupyter-widgets/base",
      "_view_module_version": "1.2.0",
      "_view_name": "LayoutView",
      "align_content": null,
      "align_items": null,
      "align_self": null,
      "border": null,
      "bottom": null,
      "display": null,
      "flex": null,
      "flex_flow": null,
      "grid_area": null,
      "grid_auto_columns": null,
      "grid_auto_flow": null,
      "grid_auto_rows": null,
      "grid_column": null,
      "grid_gap": null,
      "grid_row": null,
      "grid_template_areas": null,
      "grid_template_columns": null,
      "grid_template_rows": null,
      "height": null,
      "justify_content": null,
      "justify_items": null,
      "left": null,
      "margin": null,
      "max_height": null,
      "max_width": null,
      "min_height": null,
      "min_width": null,
      "object_fit": null,
      "object_position": null,
      "order": null,
      "overflow": null,
      "overflow_x": null,
      "overflow_y": null,
      "padding": null,
      "right": null,
      "top": null,
      "visibility": null,
      "width": null
     }
    },
    "9d5e6e163e964060b07f1029fc1a2951": {
     "model_module": "@jupyter-widgets/controls",
     "model_module_version": "1.5.0",
     "model_name": "HBoxModel",
     "state": {
      "_dom_classes": [],
      "_model_module": "@jupyter-widgets/controls",
      "_model_module_version": "1.5.0",
      "_model_name": "HBoxModel",
      "_view_count": null,
      "_view_module": "@jupyter-widgets/controls",
      "_view_module_version": "1.5.0",
      "_view_name": "HBoxView",
      "box_style": "",
      "children": [
       "IPY_MODEL_bb5cad9f0392408ca7a53a65a8c104bf",
       "IPY_MODEL_7adcf8583fff4e41a072fc219af9ffc8",
       "IPY_MODEL_2fb56d4f91194def9c995d30b2af01d9"
      ],
      "layout": "IPY_MODEL_1fcf08d5ad1d4baeb9c78159cd44c5ce"
     }
    },
    "a30afc70b95349928972ab104981529c": {
     "model_module": "@jupyter-widgets/base",
     "model_module_version": "1.2.0",
     "model_name": "LayoutModel",
     "state": {
      "_model_module": "@jupyter-widgets/base",
      "_model_module_version": "1.2.0",
      "_model_name": "LayoutModel",
      "_view_count": null,
      "_view_module": "@jupyter-widgets/base",
      "_view_module_version": "1.2.0",
      "_view_name": "LayoutView",
      "align_content": null,
      "align_items": null,
      "align_self": null,
      "border": null,
      "bottom": null,
      "display": null,
      "flex": null,
      "flex_flow": null,
      "grid_area": null,
      "grid_auto_columns": null,
      "grid_auto_flow": null,
      "grid_auto_rows": null,
      "grid_column": null,
      "grid_gap": null,
      "grid_row": null,
      "grid_template_areas": null,
      "grid_template_columns": null,
      "grid_template_rows": null,
      "height": null,
      "justify_content": null,
      "justify_items": null,
      "left": null,
      "margin": null,
      "max_height": null,
      "max_width": null,
      "min_height": null,
      "min_width": null,
      "object_fit": null,
      "object_position": null,
      "order": null,
      "overflow": null,
      "overflow_x": null,
      "overflow_y": null,
      "padding": null,
      "right": null,
      "top": null,
      "visibility": null,
      "width": null
     }
    },
    "a3d2c07f74e04623a165e0adc4c5a918": {
     "model_module": "@jupyter-widgets/controls",
     "model_module_version": "1.5.0",
     "model_name": "HTMLModel",
     "state": {
      "_dom_classes": [],
      "_model_module": "@jupyter-widgets/controls",
      "_model_module_version": "1.5.0",
      "_model_name": "HTMLModel",
      "_view_count": null,
      "_view_module": "@jupyter-widgets/controls",
      "_view_module_version": "1.5.0",
      "_view_name": "HTMLView",
      "description": "",
      "description_tooltip": null,
      "layout": "IPY_MODEL_a30afc70b95349928972ab104981529c",
      "placeholder": "​",
      "style": "IPY_MODEL_96c1e4074a824388b228b2404838232d",
      "value": ""
     }
    },
    "a97e7073122447a2ad26afd886b07115": {
     "model_module": "@jupyter-widgets/controls",
     "model_module_version": "1.5.0",
     "model_name": "ProgressStyleModel",
     "state": {
      "_model_module": "@jupyter-widgets/controls",
      "_model_module_version": "1.5.0",
      "_model_name": "ProgressStyleModel",
      "_view_count": null,
      "_view_module": "@jupyter-widgets/base",
      "_view_module_version": "1.2.0",
      "_view_name": "StyleView",
      "bar_color": null,
      "description_width": ""
     }
    },
    "a9c4a23c5d9a4b089e49a2b3d81796bd": {
     "model_module": "@jupyter-widgets/base",
     "model_module_version": "1.2.0",
     "model_name": "LayoutModel",
     "state": {
      "_model_module": "@jupyter-widgets/base",
      "_model_module_version": "1.2.0",
      "_model_name": "LayoutModel",
      "_view_count": null,
      "_view_module": "@jupyter-widgets/base",
      "_view_module_version": "1.2.0",
      "_view_name": "LayoutView",
      "align_content": null,
      "align_items": null,
      "align_self": null,
      "border": null,
      "bottom": null,
      "display": null,
      "flex": null,
      "flex_flow": null,
      "grid_area": null,
      "grid_auto_columns": null,
      "grid_auto_flow": null,
      "grid_auto_rows": null,
      "grid_column": null,
      "grid_gap": null,
      "grid_row": null,
      "grid_template_areas": null,
      "grid_template_columns": null,
      "grid_template_rows": null,
      "height": null,
      "justify_content": null,
      "justify_items": null,
      "left": null,
      "margin": null,
      "max_height": null,
      "max_width": null,
      "min_height": null,
      "min_width": null,
      "object_fit": null,
      "object_position": null,
      "order": null,
      "overflow": null,
      "overflow_x": null,
      "overflow_y": null,
      "padding": null,
      "right": null,
      "top": null,
      "visibility": null,
      "width": null
     }
    },
    "abaa515ec4704a0ea8b14ad0aec6e91c": {
     "model_module": "@jupyter-widgets/controls",
     "model_module_version": "1.5.0",
     "model_name": "FloatProgressModel",
     "state": {
      "_dom_classes": [],
      "_model_module": "@jupyter-widgets/controls",
      "_model_module_version": "1.5.0",
      "_model_name": "FloatProgressModel",
      "_view_count": null,
      "_view_module": "@jupyter-widgets/controls",
      "_view_module_version": "1.5.0",
      "_view_name": "ProgressView",
      "bar_style": "success",
      "description": "",
      "description_tooltip": null,
      "layout": "IPY_MODEL_36577f7f1bb0466c85129ce70d950620",
      "max": 11923,
      "min": 0,
      "orientation": "horizontal",
      "style": "IPY_MODEL_a97e7073122447a2ad26afd886b07115",
      "value": 11923
     }
    },
    "b481aca6eb0c4ac4924691b6286c52ba": {
     "model_module": "@jupyter-widgets/controls",
     "model_module_version": "1.5.0",
     "model_name": "ProgressStyleModel",
     "state": {
      "_model_module": "@jupyter-widgets/controls",
      "_model_module_version": "1.5.0",
      "_model_name": "ProgressStyleModel",
      "_view_count": null,
      "_view_module": "@jupyter-widgets/base",
      "_view_module_version": "1.2.0",
      "_view_name": "StyleView",
      "bar_color": null,
      "description_width": ""
     }
    },
    "bb5cad9f0392408ca7a53a65a8c104bf": {
     "model_module": "@jupyter-widgets/controls",
     "model_module_version": "1.5.0",
     "model_name": "HTMLModel",
     "state": {
      "_dom_classes": [],
      "_model_module": "@jupyter-widgets/controls",
      "_model_module_version": "1.5.0",
      "_model_name": "HTMLModel",
      "_view_count": null,
      "_view_module": "@jupyter-widgets/controls",
      "_view_module_version": "1.5.0",
      "_view_name": "HTMLView",
      "description": "",
      "description_tooltip": null,
      "layout": "IPY_MODEL_481c56afb1374cd28b1129f8d4057205",
      "placeholder": "​",
      "style": "IPY_MODEL_804c9f000ce64c78a0005e995d672297",
      "value": "Map:  92%"
     }
    },
    "c2f8d5545b2049a5a738d680525e39bd": {
     "model_module": "@jupyter-widgets/base",
     "model_module_version": "1.2.0",
     "model_name": "LayoutModel",
     "state": {
      "_model_module": "@jupyter-widgets/base",
      "_model_module_version": "1.2.0",
      "_model_name": "LayoutModel",
      "_view_count": null,
      "_view_module": "@jupyter-widgets/base",
      "_view_module_version": "1.2.0",
      "_view_name": "LayoutView",
      "align_content": null,
      "align_items": null,
      "align_self": null,
      "border": null,
      "bottom": null,
      "display": null,
      "flex": null,
      "flex_flow": null,
      "grid_area": null,
      "grid_auto_columns": null,
      "grid_auto_flow": null,
      "grid_auto_rows": null,
      "grid_column": null,
      "grid_gap": null,
      "grid_row": null,
      "grid_template_areas": null,
      "grid_template_columns": null,
      "grid_template_rows": null,
      "height": null,
      "justify_content": null,
      "justify_items": null,
      "left": null,
      "margin": null,
      "max_height": null,
      "max_width": null,
      "min_height": null,
      "min_width": null,
      "object_fit": null,
      "object_position": null,
      "order": null,
      "overflow": null,
      "overflow_x": null,
      "overflow_y": null,
      "padding": null,
      "right": null,
      "top": null,
      "visibility": null,
      "width": null
     }
    },
    "ceaa3af1ab2d419cb777b117db1794d0": {
     "model_module": "@jupyter-widgets/controls",
     "model_module_version": "1.5.0",
     "model_name": "HBoxModel",
     "state": {
      "_dom_classes": [],
      "_model_module": "@jupyter-widgets/controls",
      "_model_module_version": "1.5.0",
      "_model_name": "HBoxModel",
      "_view_count": null,
      "_view_module": "@jupyter-widgets/controls",
      "_view_module_version": "1.5.0",
      "_view_name": "HBoxView",
      "box_style": "",
      "children": [
       "IPY_MODEL_a3d2c07f74e04623a165e0adc4c5a918",
       "IPY_MODEL_abaa515ec4704a0ea8b14ad0aec6e91c",
       "IPY_MODEL_7a4ba4a9ec354c17893530ecf9da3308"
      ],
      "layout": "IPY_MODEL_a9c4a23c5d9a4b089e49a2b3d81796bd"
     }
    },
    "e92136737f9a486d9f55b7a6f2517e59": {
     "model_module": "@jupyter-widgets/controls",
     "model_module_version": "1.5.0",
     "model_name": "ProgressStyleModel",
     "state": {
      "_model_module": "@jupyter-widgets/controls",
      "_model_module_version": "1.5.0",
      "_model_name": "ProgressStyleModel",
      "_view_count": null,
      "_view_module": "@jupyter-widgets/base",
      "_view_module_version": "1.2.0",
      "_view_name": "StyleView",
      "bar_color": null,
      "description_width": ""
     }
    },
    "e9b99b2b480146ed9781c6d527fdd4a7": {
     "model_module": "@jupyter-widgets/controls",
     "model_module_version": "1.5.0",
     "model_name": "DescriptionStyleModel",
     "state": {
      "_model_module": "@jupyter-widgets/controls",
      "_model_module_version": "1.5.0",
      "_model_name": "DescriptionStyleModel",
      "_view_count": null,
      "_view_module": "@jupyter-widgets/base",
      "_view_module_version": "1.2.0",
      "_view_name": "StyleView",
      "description_width": ""
     }
    },
    "ec6c6109c199437492d367ae489a0a64": {
     "model_module": "@jupyter-widgets/base",
     "model_module_version": "1.2.0",
     "model_name": "LayoutModel",
     "state": {
      "_model_module": "@jupyter-widgets/base",
      "_model_module_version": "1.2.0",
      "_model_name": "LayoutModel",
      "_view_count": null,
      "_view_module": "@jupyter-widgets/base",
      "_view_module_version": "1.2.0",
      "_view_name": "LayoutView",
      "align_content": null,
      "align_items": null,
      "align_self": null,
      "border": null,
      "bottom": null,
      "display": null,
      "flex": null,
      "flex_flow": null,
      "grid_area": null,
      "grid_auto_columns": null,
      "grid_auto_flow": null,
      "grid_auto_rows": null,
      "grid_column": null,
      "grid_gap": null,
      "grid_row": null,
      "grid_template_areas": null,
      "grid_template_columns": null,
      "grid_template_rows": null,
      "height": null,
      "justify_content": null,
      "justify_items": null,
      "left": null,
      "margin": null,
      "max_height": null,
      "max_width": null,
      "min_height": null,
      "min_width": null,
      "object_fit": null,
      "object_position": null,
      "order": null,
      "overflow": null,
      "overflow_x": null,
      "overflow_y": null,
      "padding": null,
      "right": null,
      "top": null,
      "visibility": "hidden",
      "width": null
     }
    },
    "f0c79382841645c1a8caa2c194840ea8": {
     "model_module": "@jupyter-widgets/base",
     "model_module_version": "1.2.0",
     "model_name": "LayoutModel",
     "state": {
      "_model_module": "@jupyter-widgets/base",
      "_model_module_version": "1.2.0",
      "_model_name": "LayoutModel",
      "_view_count": null,
      "_view_module": "@jupyter-widgets/base",
      "_view_module_version": "1.2.0",
      "_view_name": "LayoutView",
      "align_content": null,
      "align_items": null,
      "align_self": null,
      "border": null,
      "bottom": null,
      "display": null,
      "flex": null,
      "flex_flow": null,
      "grid_area": null,
      "grid_auto_columns": null,
      "grid_auto_flow": null,
      "grid_auto_rows": null,
      "grid_column": null,
      "grid_gap": null,
      "grid_row": null,
      "grid_template_areas": null,
      "grid_template_columns": null,
      "grid_template_rows": null,
      "height": null,
      "justify_content": null,
      "justify_items": null,
      "left": null,
      "margin": null,
      "max_height": null,
      "max_width": null,
      "min_height": null,
      "min_width": null,
      "object_fit": null,
      "object_position": null,
      "order": null,
      "overflow": null,
      "overflow_x": null,
      "overflow_y": null,
      "padding": null,
      "right": null,
      "top": null,
      "visibility": null,
      "width": null
     }
    },
    "f2c1934fd4824b099b266ed26c1ebce1": {
     "model_module": "@jupyter-widgets/controls",
     "model_module_version": "1.5.0",
     "model_name": "HTMLModel",
     "state": {
      "_dom_classes": [],
      "_model_module": "@jupyter-widgets/controls",
      "_model_module_version": "1.5.0",
      "_model_name": "HTMLModel",
      "_view_count": null,
      "_view_module": "@jupyter-widgets/controls",
      "_view_module_version": "1.5.0",
      "_view_name": "HTMLView",
      "description": "",
      "description_tooltip": null,
      "layout": "IPY_MODEL_1a3d327472cb44648991694fc8d0481d",
      "placeholder": "​",
      "style": "IPY_MODEL_f359df8da4584e25b8abd00dc56ae645",
      "value": " 1000/2000 [00:00&lt;00:00, 8266.72 examples/s]"
     }
    },
    "f359df8da4584e25b8abd00dc56ae645": {
     "model_module": "@jupyter-widgets/controls",
     "model_module_version": "1.5.0",
     "model_name": "DescriptionStyleModel",
     "state": {
      "_model_module": "@jupyter-widgets/controls",
      "_model_module_version": "1.5.0",
      "_model_name": "DescriptionStyleModel",
      "_view_count": null,
      "_view_module": "@jupyter-widgets/base",
      "_view_module_version": "1.2.0",
      "_view_name": "StyleView",
      "description_width": ""
     }
    },
    "fbe622fc5307411ba62ce9149b544d72": {
     "model_module": "@jupyter-widgets/controls",
     "model_module_version": "1.5.0",
     "model_name": "FloatProgressModel",
     "state": {
      "_dom_classes": [],
      "_model_module": "@jupyter-widgets/controls",
      "_model_module_version": "1.5.0",
      "_model_name": "FloatProgressModel",
      "_view_count": null,
      "_view_module": "@jupyter-widgets/controls",
      "_view_module_version": "1.5.0",
      "_view_name": "ProgressView",
      "bar_style": "",
      "description": "",
      "description_tooltip": null,
      "layout": "IPY_MODEL_f0c79382841645c1a8caa2c194840ea8",
      "max": 2000,
      "min": 0,
      "orientation": "horizontal",
      "style": "IPY_MODEL_e92136737f9a486d9f55b7a6f2517e59",
      "value": 2000
     }
    }
   }
  }
 },
 "nbformat": 4,
 "nbformat_minor": 0
}
