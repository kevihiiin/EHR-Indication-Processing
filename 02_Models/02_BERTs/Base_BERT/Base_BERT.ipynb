{
 "cells": [
  {
   "cell_type": "markdown",
   "metadata": {
    "id": "mPAZkFg-3S8X"
   },
   "source": [
    "# Antibiotic Indication Processig - Base BERT\n",
    "\n",
    "Pre-requisites:\n",
    "\n",
    "1. Set Runtime --> Change Runtime type --> GPUs (or TPUs)\n",
    "2. Copy the data file (indications, labeled) into `/content/`\n",
    "3. Set the model type"
   ]
  },
  {
   "cell_type": "markdown",
   "metadata": {
    "id": "Zv4bj9hM3uP8"
   },
   "source": [
    "Install and load libraries"
   ]
  },
  {
   "cell_type": "code",
   "execution_count": 1,
   "metadata": {
    "id": "CAvzfu_F99ik"
   },
   "outputs": [],
   "source": [
    "# --- Check for Google Colab\n",
    "import sys\n",
    "IN_COLAB = 'google.colab' in sys.modules\n",
    "\n",
    "# --- Install packages\n",
    "if IN_COLAB:\n",
    "  %pip install -q transformers transformers[torch] datasets\n",
    "  %pip install -q sacremoses\n",
    "\n",
    "\n",
    "# --- Load libraries\n",
    "# Standard libraries\n",
    "import os\n",
    "\n",
    "# DS libs\n",
    "import datasets\n",
    "import numpy as np\n",
    "import pandas as pd\n",
    "import torch\n",
    "\n",
    "from pathlib import Path\n",
    "from tqdm.notebook import tqdm\n",
    "\n",
    "from datasets import Dataset\n",
    "\n",
    "from transformers import AutoTokenizer, EvalPrediction, pipeline, \\\n",
    "  AutoModelForSequenceClassification, TrainingArguments, Trainer\n",
    "\n",
    "from transformers.pipelines.pt_utils import KeyDataset\n",
    "from sklearn.model_selection import train_test_split\n",
    "from sklearn.metrics import f1_score, roc_auc_score, accuracy_score, average_precision_score"
   ]
  },
  {
   "cell_type": "code",
   "execution_count": 2,
   "metadata": {
    "colab": {
     "base_uri": "https://localhost:8080/"
    },
    "id": "4ulQIuKZZrch",
    "outputId": "8dacbb58-a41e-4486-bda9-e26685fad624"
   },
   "outputs": [
    {
     "name": "stdout",
     "output_type": "stream",
     "text": [
      "Current work directory: /home/kevin/DPhil/Projects/EHR-Indication-Processing/02_Models/02_BERTs/Base_BERT\n"
     ]
    }
   ],
   "source": [
    "# Mounting Google Drive\n",
    "if IN_COLAB:\n",
    "  from google.colab import drive\n",
    "  drive.mount('/content/drive')\n",
    "  print(\"Mounted Google Drive at /content/drive\")\n",
    "else:\n",
    "  print(\"Current work directory:\", os.getcwd())"
   ]
  },
  {
   "cell_type": "code",
   "execution_count": 3,
   "metadata": {
    "colab": {
     "base_uri": "https://localhost:8080/"
    },
    "id": "oz-RdKH-KXyk",
    "outputId": "4f4fdc83-46aa-423a-9d60-11eded51a888"
   },
   "outputs": [
    {
     "name": "stdout",
     "output_type": "stream",
     "text": [
      "Using device: cuda:0\n",
      "Mon Apr 15 22:45:56 2024       \n",
      "+-----------------------------------------------------------------------------------------+\n",
      "| NVIDIA-SMI 550.67                 Driver Version: 550.67         CUDA Version: 12.4     |\n",
      "|-----------------------------------------+------------------------+----------------------+\n",
      "| GPU  Name                 Persistence-M | Bus-Id          Disp.A | Volatile Uncorr. ECC |\n",
      "| Fan  Temp   Perf          Pwr:Usage/Cap |           Memory-Usage | GPU-Util  Compute M. |\n",
      "|                                         |                        |               MIG M. |\n",
      "|=========================================+========================+======================|\n",
      "|   0  Quadro GV100                   Off |   00000000:65:00.0  On |                  Off |\n",
      "| 29%   39C    P2             29W /  250W |    5279MiB /  32768MiB |     26%      Default |\n",
      "|                                         |                        |                  N/A |\n",
      "+-----------------------------------------+------------------------+----------------------+\n",
      "                                                                                         \n",
      "+-----------------------------------------------------------------------------------------+\n",
      "| Processes:                                                                              |\n",
      "|  GPU   GI   CI        PID   Type   Process name                              GPU Memory |\n",
      "|        ID   ID                                                               Usage      |\n",
      "|=========================================================================================|\n",
      "|    0   N/A  N/A       940      G   /usr/lib/Xorg                                 739MiB |\n",
      "|    0   N/A  N/A      1326      G   /usr/bin/kwalletd5                              6MiB |\n",
      "|    0   N/A  N/A      1392      G   /usr/bin/ksmserver                              6MiB |\n",
      "|    0   N/A  N/A      1394      G   /usr/bin/kded5                                  6MiB |\n",
      "|    0   N/A  N/A      1395      G   /usr/bin/kwin_x11                             176MiB |\n",
      "|    0   N/A  N/A      1422      G   /usr/bin/plasmashell                           53MiB |\n",
      "|    0   N/A  N/A      1459      G   ...b/polkit-kde-authentication-agent-1          6MiB |\n",
      "|    0   N/A  N/A      1461      G   /usr/lib/xdg-desktop-portal-kde                 6MiB |\n",
      "|    0   N/A  N/A      1596      G   /usr/bin/msm_kde_notifier                      78MiB |\n",
      "|    0   N/A  N/A      1599      G   /usr/lib/kdeconnectd                            6MiB |\n",
      "|    0   N/A  N/A      1601      G   /usr/bin/yakuake                                6MiB |\n",
      "|    0   N/A  N/A      1622      G   /usr/bin/kaccess                                6MiB |\n",
      "|    0   N/A  N/A      1628      G   /usr/bin/pamac-tray-plasma                      6MiB |\n",
      "|    0   N/A  N/A      1864      G   ...AAAAAAAACAAAAAAAAAA= --shared-files         57MiB |\n",
      "|    0   N/A  N/A      1891      G   ...ures=SpareRendererForSitePerProcess         30MiB |\n",
      "|    0   N/A  N/A     77479      G   /usr/lib/baloorunner                            6MiB |\n",
      "|    0   N/A  N/A     77538      G   ...erProcess --variations-seed-version        466MiB |\n",
      "|    0   N/A  N/A     80104      C   ...ication-Processing/.venv/bin/python       2758MiB |\n",
      "|    0   N/A  N/A     80305      G   /usr/bin/konsole                                6MiB |\n",
      "|    0   N/A  N/A    146193      G   /opt/vivaldi/vivaldi-bin                        6MiB |\n",
      "|    0   N/A  N/A    146242      G   ...71,262144 --variations-seed-version        814MiB |\n",
      "|    0   N/A  N/A    146420      G   ...bin/plasma-browser-integration-host          6MiB |\n",
      "+-----------------------------------------------------------------------------------------+\n"
     ]
    }
   ],
   "source": [
    "if torch.cuda.is_available():  \n",
    "  cuda_device = \"cuda:0\" \n",
    "else:  \n",
    "  cuda_device = \"cpu\" \n",
    "\n",
    "print(f'Using device: {cuda_device}')\n",
    "\n",
    "!nvidia-smi"
   ]
  },
  {
   "cell_type": "markdown",
   "metadata": {
    "id": "uzSDyiBm43Ka"
   },
   "source": [
    "## Specify Parameters"
   ]
  },
  {
   "cell_type": "code",
   "execution_count": 4,
   "metadata": {
    "id": "BxCMaHxu47JY"
   },
   "outputs": [],
   "source": [
    "# --- Model parameters\n",
    "model_selection = \"Base_BERT\"\n",
    "\n",
    "model_dict = {\n",
    "    \"Base_BERT\": \"bert-base-uncased\",\n",
    "    \"Bio_ClinicalBERT\": \"emilyalsentzer/Bio_ClinicalBERT\",\n",
    "    \n",
    "}\n",
    "\n",
    "# --- Paths\n",
    "# Base data path\n",
    "base_data_path = Path(\"../../../00_Data/\")\n",
    "# Dataset Path (training, testing, etc.)\n",
    "dataset_path =  base_data_path / \"publication_ready\"\n",
    "# Export Path (model checkpoints, predictions, etc.)\n",
    "export_path = base_data_path / \"model_output\" / model_selection\n",
    "\n",
    "assert base_data_path.is_dir(),\\\n",
    "  f\"{base_data_path} either doesn't exist or is not a directory.\"\n",
    "export_path.mkdir(exist_ok=True)\n",
    "\n",
    "\n",
    "# --- Misc settings\n",
    "seed = 42\n",
    "# Model names\n",
    "model_name_display = model_selection\n",
    "model_hf_id = model_dict[model_selection]  # Huggingface name/identifier\n",
    "\n",
    "# Saved model name: <model_display_name>_<training_set_size>.hf\n",
    "saved_model_name = f\"{model_name_display}_4000.hf\"\n",
    "\n"
   ]
  },
  {
   "cell_type": "markdown",
   "metadata": {
    "id": "LhTA_cGw4iPj"
   },
   "source": [
    "## Import and check data\n",
    "Import the training, internal and external test sets & check the splits and data"
   ]
  },
  {
   "cell_type": "code",
   "execution_count": 5,
   "metadata": {
    "colab": {
     "base_uri": "https://localhost:8080/"
    },
    "id": "XCTbMT3vAjON",
    "outputId": "08c7669f-f2c0-49ed-ee42-cc519fe71e5f"
   },
   "outputs": [],
   "source": [
    "# Import data --> upload into \"Files\" on the left-hand panel\n",
    "train_eval_df = pd.read_csv(\n",
    "    dataset_path / 'training_oxford_2023-08-23.csv',\n",
    "    dtype={\"Indication\": str},\n",
    "    keep_default_na=False,\n",
    "    na_values=[\"NA\"],\n",
    ")\n",
    "\n",
    "test_oxford_df = pd.read_csv(\n",
    "    dataset_path / 'testing_oxford_2023-08-23.csv',\n",
    "    dtype={\"Indication\": str},\n",
    "    keep_default_na=False,\n",
    "    na_values=[\"NA\"],\n",
    ")\n",
    "\n",
    "test_banbury_df = pd.read_csv(\n",
    "    dataset_path / 'testing_banbury_2023-08-23.csv',\n",
    "    dtype={\"Indication\": str},\n",
    "    keep_default_na=False,\n",
    "    na_values=[\"NA\"],\n",
    ")"
   ]
  },
  {
   "cell_type": "markdown",
   "metadata": {},
   "source": [
    "House keeping:\n",
    "- Split the training data into training & evaluation\n",
    "\n",
    "- Convert the data into a Huggingface dataset\n",
    "\n",
    "- Create some nice labels and label<->ID mappers"
   ]
  },
  {
   "cell_type": "code",
   "execution_count": 6,
   "metadata": {},
   "outputs": [
    {
     "name": "stdout",
     "output_type": "stream",
     "text": [
      "Data set size overview:\n",
      "- Training set: 3400\n",
      "- Evaluation set: 600\n",
      "- Testing Oxford set: 2000\n",
      "- Testing Banbury set: 2000\n",
      "\n"
     ]
    }
   ],
   "source": [
    "# --- Split into train and eval\n",
    "train_df, eval_df = train_test_split(\n",
    "    train_eval_df, \n",
    "    test_size=0.15,\n",
    "    random_state=seed,\n",
    "    shuffle=True)\n",
    "\n",
    "print(\"Data set size overview:\")\n",
    "print(f\"- Training set: {train_df.shape[0]}\")\n",
    "print(f\"- Evaluation set: {eval_df.shape[0]}\")\n",
    "print(f\"- Testing Oxford set: {test_oxford_df.shape[0]}\")\n",
    "print(f\"- Testing Banbury set: {test_banbury_df.shape[0]}\")\n",
    "print()\n",
    "\n",
    "# check dtypes\n",
    "#print(train.dtypes)\n",
    "#print(test.dtypes)\n",
    "\n",
    "# --- Turn into Huggingface datasets\n",
    "indication_data = datasets.DatasetDict({\n",
    "    \"train\": Dataset.from_pandas(train_df, preserve_index=False),\n",
    "    \"eval\": Dataset.from_pandas(eval_df, preserve_index=False),\n",
    "    \"test\": Dataset.from_pandas(test_oxford_df, preserve_index=False),\n",
    "    \"test_external\": Dataset.from_pandas(test_banbury_df, preserve_index=False),\n",
    "})\n",
    "\n",
    "# --- Create some usable labels\n",
    "labels = [label for label in indication_data['train'].features.keys() if label not in ['Indication']]\n",
    "labels_pretty = [\" \".join(word.capitalize() for word in label.split(\"_\")) for label in labels]\n",
    "id2label = {idx:label for idx, label in enumerate(labels)}\n",
    "label2id = {label:idx for idx, label in enumerate(labels)}"
   ]
  },
  {
   "cell_type": "markdown",
   "metadata": {},
   "source": [
    "Calculate class distribution across the sets"
   ]
  },
  {
   "cell_type": "code",
   "execution_count": 7,
   "metadata": {},
   "outputs": [
    {
     "data": {
      "text/html": [
       "<div>\n",
       "<style scoped>\n",
       "    .dataframe tbody tr th:only-of-type {\n",
       "        vertical-align: middle;\n",
       "    }\n",
       "\n",
       "    .dataframe tbody tr th {\n",
       "        vertical-align: top;\n",
       "    }\n",
       "\n",
       "    .dataframe thead th {\n",
       "        text-align: right;\n",
       "    }\n",
       "</style>\n",
       "<table border=\"1\" class=\"dataframe\">\n",
       "  <thead>\n",
       "    <tr style=\"text-align: right;\">\n",
       "      <th></th>\n",
       "      <th>train</th>\n",
       "      <th>eval</th>\n",
       "      <th>test</th>\n",
       "      <th>test_external</th>\n",
       "    </tr>\n",
       "  </thead>\n",
       "  <tbody>\n",
       "    <tr>\n",
       "      <th>urinary</th>\n",
       "      <td>9.088235</td>\n",
       "      <td>7.500000</td>\n",
       "      <td>8.00</td>\n",
       "      <td>15.25</td>\n",
       "    </tr>\n",
       "    <tr>\n",
       "      <th>respiratory</th>\n",
       "      <td>15.000000</td>\n",
       "      <td>13.833333</td>\n",
       "      <td>18.70</td>\n",
       "      <td>35.30</td>\n",
       "    </tr>\n",
       "    <tr>\n",
       "      <th>abdominal</th>\n",
       "      <td>15.411765</td>\n",
       "      <td>13.333333</td>\n",
       "      <td>11.95</td>\n",
       "      <td>5.90</td>\n",
       "    </tr>\n",
       "    <tr>\n",
       "      <th>neurological</th>\n",
       "      <td>3.323529</td>\n",
       "      <td>2.666667</td>\n",
       "      <td>1.15</td>\n",
       "      <td>0.90</td>\n",
       "    </tr>\n",
       "    <tr>\n",
       "      <th>skin_soft_tissue</th>\n",
       "      <td>13.323529</td>\n",
       "      <td>13.500000</td>\n",
       "      <td>6.55</td>\n",
       "      <td>9.25</td>\n",
       "    </tr>\n",
       "    <tr>\n",
       "      <th>ent</th>\n",
       "      <td>3.500000</td>\n",
       "      <td>3.333333</td>\n",
       "      <td>2.55</td>\n",
       "      <td>0.70</td>\n",
       "    </tr>\n",
       "    <tr>\n",
       "      <th>orthopaedic</th>\n",
       "      <td>4.588235</td>\n",
       "      <td>4.333333</td>\n",
       "      <td>2.75</td>\n",
       "      <td>1.20</td>\n",
       "    </tr>\n",
       "    <tr>\n",
       "      <th>other_specific</th>\n",
       "      <td>7.794118</td>\n",
       "      <td>9.833333</td>\n",
       "      <td>4.40</td>\n",
       "      <td>1.25</td>\n",
       "    </tr>\n",
       "    <tr>\n",
       "      <th>no_specific_source</th>\n",
       "      <td>31.411765</td>\n",
       "      <td>34.000000</td>\n",
       "      <td>45.30</td>\n",
       "      <td>32.50</td>\n",
       "    </tr>\n",
       "    <tr>\n",
       "      <th>prophylaxis</th>\n",
       "      <td>21.764706</td>\n",
       "      <td>22.666667</td>\n",
       "      <td>35.20</td>\n",
       "      <td>17.95</td>\n",
       "    </tr>\n",
       "    <tr>\n",
       "      <th>uncertainty</th>\n",
       "      <td>16.382353</td>\n",
       "      <td>16.333333</td>\n",
       "      <td>8.70</td>\n",
       "      <td>12.95</td>\n",
       "    </tr>\n",
       "    <tr>\n",
       "      <th>not_informative</th>\n",
       "      <td>3.117647</td>\n",
       "      <td>2.333333</td>\n",
       "      <td>1.70</td>\n",
       "      <td>1.75</td>\n",
       "    </tr>\n",
       "  </tbody>\n",
       "</table>\n",
       "</div>"
      ],
      "text/plain": [
       "                        train       eval   test  test_external\n",
       "urinary              9.088235   7.500000   8.00          15.25\n",
       "respiratory         15.000000  13.833333  18.70          35.30\n",
       "abdominal           15.411765  13.333333  11.95           5.90\n",
       "neurological         3.323529   2.666667   1.15           0.90\n",
       "skin_soft_tissue    13.323529  13.500000   6.55           9.25\n",
       "ent                  3.500000   3.333333   2.55           0.70\n",
       "orthopaedic          4.588235   4.333333   2.75           1.20\n",
       "other_specific       7.794118   9.833333   4.40           1.25\n",
       "no_specific_source  31.411765  34.000000  45.30          32.50\n",
       "prophylaxis         21.764706  22.666667  35.20          17.95\n",
       "uncertainty         16.382353  16.333333   8.70          12.95\n",
       "not_informative      3.117647   2.333333   1.70           1.75"
      ]
     },
     "execution_count": 7,
     "metadata": {},
     "output_type": "execute_result"
    }
   ],
   "source": [
    "class_distribution_dict = {}\n",
    "\n",
    "for dataset_name, dataset_hf in indication_data.items():\n",
    "   dataset_pd = dataset_hf.to_pandas()[labels]\n",
    "   class_distribution_dict[dataset_name] = dataset_pd.sum() / len(dataset_pd) * 100\n",
    "\n",
    "pd.DataFrame(class_distribution_dict)"
   ]
  },
  {
   "cell_type": "code",
   "execution_count": 8,
   "metadata": {},
   "outputs": [
    {
     "name": "stdout",
     "output_type": "stream",
     "text": [
      "Example datapoint:\n"
     ]
    },
    {
     "data": {
      "text/plain": [
       "{'Indication': '?cellulitis',\n",
       " 'urinary': 0,\n",
       " 'respiratory': 0,\n",
       " 'abdominal': 0,\n",
       " 'neurological': 0,\n",
       " 'skin_soft_tissue': 1,\n",
       " 'ent': 0,\n",
       " 'orthopaedic': 0,\n",
       " 'other_specific': 0,\n",
       " 'no_specific_source': 0,\n",
       " 'prophylaxis': 0,\n",
       " 'uncertainty': 1,\n",
       " 'not_informative': 0}"
      ]
     },
     "execution_count": 8,
     "metadata": {},
     "output_type": "execute_result"
    }
   ],
   "source": [
    "# Example datapoint - Indication and labels\n",
    "print(\"Example datapoint:\")\n",
    "indication_data['train'][0]"
   ]
  },
  {
   "cell_type": "markdown",
   "metadata": {
    "id": "4OUyzdfvRuW5"
   },
   "source": [
    "## Preprocess data\n",
    "Using AutoTokenizer.\n",
    "\n",
    "NB: labels needs to be *floats*, not integers for PyTorch to work."
   ]
  },
  {
   "cell_type": "code",
   "execution_count": 9,
   "metadata": {
    "id": "bHcQtYH0R_jM"
   },
   "outputs": [],
   "source": [
    "tokenizer = AutoTokenizer.from_pretrained(model_hf_id)\n",
    "\n",
    "def encode_data(data):\n",
    "  # take a batch of texts\n",
    "  text = data[\"Indication\"]\n",
    "  # encode them\n",
    "  encoding = tokenizer(text, padding=\"max_length\", truncation=True, max_length=128)\n",
    "  # add labels\n",
    "  labels_batch = {k: data[k] for k in data.keys() if k in labels}\n",
    "  # create numpy array of shape (batch_size, num_labels)\n",
    "  labels_matrix = np.zeros((len(text), len(labels)))\n",
    "  # fill numpy array\n",
    "  for idx, label in enumerate(labels):\n",
    "    labels_matrix[:, idx] = labels_batch[label]\n",
    "\n",
    "  encoding[\"labels\"] = labels_matrix.tolist()\n",
    "  \n",
    "  return encoding"
   ]
  },
  {
   "cell_type": "code",
   "execution_count": 10,
   "metadata": {
    "colab": {
     "base_uri": "https://localhost:8080/",
     "height": 17,
     "referenced_widgets": [
      "9d5e6e163e964060b07f1029fc1a2951",
      "bb5cad9f0392408ca7a53a65a8c104bf",
      "7adcf8583fff4e41a072fc219af9ffc8",
      "2fb56d4f91194def9c995d30b2af01d9",
      "1fcf08d5ad1d4baeb9c78159cd44c5ce",
      "481c56afb1374cd28b1129f8d4057205",
      "804c9f000ce64c78a0005e995d672297",
      "986625fcdf454adb9c98800f043d7777",
      "b481aca6eb0c4ac4924691b6286c52ba",
      "75056710738f432f8bce72980cd14e55",
      "e9b99b2b480146ed9781c6d527fdd4a7",
      "4b34e3ab7fa44061b155e88f57b4596a",
      "5429cd94c8944fd193ccbe0fb96d5f03",
      "fbe622fc5307411ba62ce9149b544d72",
      "f2c1934fd4824b099b266ed26c1ebce1",
      "ec6c6109c199437492d367ae489a0a64",
      "c2f8d5545b2049a5a738d680525e39bd",
      "33edb64e041f459e87740b443f03acfc",
      "f0c79382841645c1a8caa2c194840ea8",
      "e92136737f9a486d9f55b7a6f2517e59",
      "1a3d327472cb44648991694fc8d0481d",
      "f359df8da4584e25b8abd00dc56ae645"
     ]
    },
    "id": "XJPP-aHlSPJD",
    "outputId": "efe70116-cb5e-43f8-ac13-6d1192abe72b"
   },
   "outputs": [
    {
     "data": {
      "application/vnd.jupyter.widget-view+json": {
       "model_id": "b9b5f3a20c694fc2addfb0836a579df2",
       "version_major": 2,
       "version_minor": 0
      },
      "text/plain": [
       "Map:   0%|          | 0/3400 [00:00<?, ? examples/s]"
      ]
     },
     "metadata": {},
     "output_type": "display_data"
    },
    {
     "data": {
      "application/vnd.jupyter.widget-view+json": {
       "model_id": "065fe91c42d843da97f6dafa3950c441",
       "version_major": 2,
       "version_minor": 0
      },
      "text/plain": [
       "Map:   0%|          | 0/600 [00:00<?, ? examples/s]"
      ]
     },
     "metadata": {},
     "output_type": "display_data"
    },
    {
     "data": {
      "application/vnd.jupyter.widget-view+json": {
       "model_id": "bf38f55633e646c082ec9be632aa66d1",
       "version_major": 2,
       "version_minor": 0
      },
      "text/plain": [
       "Map:   0%|          | 0/2000 [00:00<?, ? examples/s]"
      ]
     },
     "metadata": {},
     "output_type": "display_data"
    },
    {
     "data": {
      "application/vnd.jupyter.widget-view+json": {
       "model_id": "341835fea0894909a8303396adcdf517",
       "version_major": 2,
       "version_minor": 0
      },
      "text/plain": [
       "Map:   0%|          | 0/2000 [00:00<?, ? examples/s]"
      ]
     },
     "metadata": {},
     "output_type": "display_data"
    }
   ],
   "source": [
    "encoded_dataset = indication_data.map(encode_data, batched=True, remove_columns=indication_data['train'].column_names)"
   ]
  },
  {
   "cell_type": "code",
   "execution_count": 11,
   "metadata": {
    "colab": {
     "base_uri": "https://localhost:8080/"
    },
    "id": "ZbuVg7tYSmaW",
    "outputId": "8f6e4b1f-2731-4196-d2e0-136882cf274d"
   },
   "outputs": [
    {
     "name": "stdout",
     "output_type": "stream",
     "text": [
      "dict_keys(['input_ids', 'token_type_ids', 'attention_mask', 'labels'])\n"
     ]
    }
   ],
   "source": [
    "example = encoded_dataset['train'][0]\n",
    "print(example.keys())"
   ]
  },
  {
   "cell_type": "code",
   "execution_count": 12,
   "metadata": {
    "colab": {
     "base_uri": "https://localhost:8080/",
     "height": 126
    },
    "id": "dhT9pBIQStLk",
    "outputId": "217ae05d-e53a-4be7-88c6-1be1c19f626c"
   },
   "outputs": [
    {
     "data": {
      "text/plain": [
       "'[CLS]? cellulitis [SEP] [PAD] [PAD] [PAD] [PAD] [PAD] [PAD] [PAD] [PAD] [PAD] [PAD] [PAD] [PAD] [PAD] [PAD] [PAD] [PAD] [PAD] [PAD] [PAD] [PAD] [PAD] [PAD] [PAD] [PAD] [PAD] [PAD] [PAD] [PAD] [PAD] [PAD] [PAD] [PAD] [PAD] [PAD] [PAD] [PAD] [PAD] [PAD] [PAD] [PAD] [PAD] [PAD] [PAD] [PAD] [PAD] [PAD] [PAD] [PAD] [PAD] [PAD] [PAD] [PAD] [PAD] [PAD] [PAD] [PAD] [PAD] [PAD] [PAD] [PAD] [PAD] [PAD] [PAD] [PAD] [PAD] [PAD] [PAD] [PAD] [PAD] [PAD] [PAD] [PAD] [PAD] [PAD] [PAD] [PAD] [PAD] [PAD] [PAD] [PAD] [PAD] [PAD] [PAD] [PAD] [PAD] [PAD] [PAD] [PAD] [PAD] [PAD] [PAD] [PAD] [PAD] [PAD] [PAD] [PAD] [PAD] [PAD] [PAD] [PAD] [PAD] [PAD] [PAD] [PAD] [PAD] [PAD] [PAD] [PAD] [PAD] [PAD] [PAD] [PAD] [PAD] [PAD] [PAD] [PAD] [PAD] [PAD] [PAD] [PAD] [PAD] [PAD]'"
      ]
     },
     "execution_count": 12,
     "metadata": {},
     "output_type": "execute_result"
    }
   ],
   "source": [
    "tokenizer.decode(example['input_ids'])"
   ]
  },
  {
   "cell_type": "code",
   "execution_count": 13,
   "metadata": {
    "colab": {
     "base_uri": "https://localhost:8080/"
    },
    "id": "ay6gI9NMSyqE",
    "outputId": "33dd898e-eaeb-4d6d-f4c3-2881fb475c1e"
   },
   "outputs": [
    {
     "data": {
      "text/plain": [
       "[0.0, 0.0, 0.0, 0.0, 1.0, 0.0, 0.0, 0.0, 0.0, 0.0, 1.0, 0.0]"
      ]
     },
     "execution_count": 13,
     "metadata": {},
     "output_type": "execute_result"
    }
   ],
   "source": [
    "example['labels']"
   ]
  },
  {
   "cell_type": "code",
   "execution_count": 14,
   "metadata": {
    "colab": {
     "base_uri": "https://localhost:8080/"
    },
    "id": "qU0BlhN9S9SM",
    "outputId": "fb359919-c340-4b19-c46e-e23ef6688e35"
   },
   "outputs": [
    {
     "data": {
      "text/plain": [
       "['skin_soft_tissue', 'uncertainty']"
      ]
     },
     "execution_count": 14,
     "metadata": {},
     "output_type": "execute_result"
    }
   ],
   "source": [
    "[id2label[idx] for idx, label in enumerate(example['labels']) if label == 1.0]"
   ]
  },
  {
   "cell_type": "code",
   "execution_count": 15,
   "metadata": {
    "id": "REHSJVDmS_p-"
   },
   "outputs": [],
   "source": [
    "# Format dataset for PyTorch compatibility \n",
    "encoded_dataset.set_format(\"torch\")"
   ]
  },
  {
   "cell_type": "markdown",
   "metadata": {
    "id": "JRRI0SbPTNTN"
   },
   "source": [
    "## Define model\n",
    "We load a pre-trained model from the Hugginface portal/hub and fintetune it for our task."
   ]
  },
  {
   "cell_type": "code",
   "execution_count": 16,
   "metadata": {
    "colab": {
     "base_uri": "https://localhost:8080/"
    },
    "id": "Ldb33ylpTjHw",
    "outputId": "0ece4cb5-afcd-4185-8b4b-a5bdc6a47cef"
   },
   "outputs": [
    {
     "name": "stderr",
     "output_type": "stream",
     "text": [
      "Some weights of BertForSequenceClassification were not initialized from the model checkpoint at bert-base-uncased and are newly initialized: ['classifier.bias', 'classifier.weight']\n",
      "You should probably TRAIN this model on a down-stream task to be able to use it for predictions and inference.\n"
     ]
    }
   ],
   "source": [
    "model = AutoModelForSequenceClassification.from_pretrained(model_hf_id, \n",
    "                                                           problem_type=\"multi_label_classification\", \n",
    "                                                           num_labels=len(labels),\n",
    "                                                           id2label=id2label,\n",
    "                                                           label2id=label2id)"
   ]
  },
  {
   "cell_type": "markdown",
   "metadata": {},
   "source": [
    "Set hyperparameters"
   ]
  },
  {
   "cell_type": "code",
   "execution_count": 17,
   "metadata": {
    "id": "aMI_lbjSTwqO"
   },
   "outputs": [],
   "source": [
    "# --- Training arguments\n",
    "batch_size = 8\n",
    "metric_name = \"f1\"\n",
    "leanring_rate = 2e-5\n",
    "num_train_epochs = 5\n",
    "weight_decay=0.01"
   ]
  },
  {
   "cell_type": "markdown",
   "metadata": {},
   "source": [
    "Set training arguments (for Hugging face trainer API) "
   ]
  },
  {
   "cell_type": "code",
   "execution_count": 18,
   "metadata": {
    "id": "2BkIPaeeTzU4"
   },
   "outputs": [
    {
     "name": "stderr",
     "output_type": "stream",
     "text": [
      "huggingface/tokenizers: The current process just got forked, after parallelism has already been used. Disabling parallelism to avoid deadlocks...\n",
      "To disable this warning, you can either:\n",
      "\t- Avoid using `tokenizers` before the fork if possible\n",
      "\t- Explicitly set the environment variable TOKENIZERS_PARALLELISM=(true | false)\n",
      "huggingface/tokenizers: The current process just got forked, after parallelism has already been used. Disabling parallelism to avoid deadlocks...\n",
      "To disable this warning, you can either:\n",
      "\t- Avoid using `tokenizers` before the fork if possible\n",
      "\t- Explicitly set the environment variable TOKENIZERS_PARALLELISM=(true | false)\n"
     ]
    }
   ],
   "source": [
    "# Set up training arguments\n",
    "args = TrainingArguments(\n",
    "    output_dir=str(export_path/\"training_output\"),\n",
    "    evaluation_strategy = \"epoch\",\n",
    "    save_strategy = \"epoch\",\n",
    "    learning_rate=leanring_rate,\n",
    "    per_device_train_batch_size=batch_size,\n",
    "    per_device_eval_batch_size=batch_size,\n",
    "    num_train_epochs=num_train_epochs,\n",
    "    weight_decay=weight_decay,\n",
    "    load_best_model_at_end=True,\n",
    "    metric_for_best_model=metric_name,\n",
    "    seed=seed,\n",
    ")"
   ]
  },
  {
   "cell_type": "markdown",
   "metadata": {},
   "source": [
    "Define multi label metrics"
   ]
  },
  {
   "cell_type": "code",
   "execution_count": 19,
   "metadata": {
    "id": "JQXliDKTT2TY"
   },
   "outputs": [],
   "source": [
    "# Source: https://jesusleal.io/2021/04/21/Longformer-multilabel-classification/\n",
    "def multi_label_metrics(predictions, labels, threshold=0.5):\n",
    "    # First, apply sigmoid on predictions which are of shape (batch_size, num_labels)\n",
    "    sigmoid = torch.nn.Sigmoid()\n",
    "    probs = sigmoid(torch.Tensor(predictions))\n",
    "    # Next, use threshold to turn them into integer predictions\n",
    "    y_pred = np.zeros(probs.shape)\n",
    "    y_pred[np.where(probs >= threshold)] = 1\n",
    "    # Finally, compute metrics\n",
    "    y_true = labels\n",
    "    f1_micro_average = f1_score(y_true=y_true, y_pred=y_pred, average='weighted')\n",
    "    roc_auc = roc_auc_score(y_true, probs, average = 'weighted')\n",
    "    accuracy = accuracy_score(y_true, y_pred)\n",
    "    # Return as dictionary\n",
    "    metrics = {'f1': f1_micro_average,\n",
    "               'roc_auc': roc_auc,\n",
    "               'accuracy': accuracy}\n",
    "    return metrics\n",
    "\n",
    "def compute_metrics(p: EvalPrediction):\n",
    "    preds = p.predictions[0] if isinstance(p.predictions, \n",
    "            tuple) else p.predictions\n",
    "    result = multi_label_metrics(\n",
    "        predictions=preds, \n",
    "        labels=p.label_ids)\n",
    "    return result"
   ]
  },
  {
   "cell_type": "markdown",
   "metadata": {},
   "source": [
    "Define training and eval set & start the training"
   ]
  },
  {
   "cell_type": "code",
   "execution_count": 20,
   "metadata": {
    "id": "tIsobiENT_di"
   },
   "outputs": [
    {
     "name": "stderr",
     "output_type": "stream",
     "text": [
      "/home/kevin/DPhil/Projects/EHR-Indication-Processing/.venv/lib/python3.11/site-packages/accelerate/accelerator.py:436: FutureWarning: Passing the following arguments to `Accelerator` is deprecated and will be removed in version 1.0 of Accelerate: dict_keys(['dispatch_batches', 'split_batches', 'even_batches', 'use_seedable_sampler']). Please pass an `accelerate.DataLoaderConfiguration` instead: \n",
      "dataloader_config = DataLoaderConfiguration(dispatch_batches=None, split_batches=False, even_batches=True, use_seedable_sampler=True)\n",
      "  warnings.warn(\n"
     ]
    },
    {
     "data": {
      "application/vnd.jupyter.widget-view+json": {
       "model_id": "e4c1ded2178f4d79b1192f7bea368619",
       "version_major": 2,
       "version_minor": 0
      },
      "text/plain": [
       "  0%|          | 0/2125 [00:00<?, ?it/s]"
      ]
     },
     "metadata": {},
     "output_type": "display_data"
    },
    {
     "data": {
      "application/vnd.jupyter.widget-view+json": {
       "model_id": "c4fe7b51896f4359ad62c8b8714b3e5e",
       "version_major": 2,
       "version_minor": 0
      },
      "text/plain": [
       "  0%|          | 0/75 [00:00<?, ?it/s]"
      ]
     },
     "metadata": {},
     "output_type": "display_data"
    },
    {
     "name": "stdout",
     "output_type": "stream",
     "text": [
      "{'eval_loss': 0.21803532540798187, 'eval_f1': 0.5645470513198687, 'eval_roc_auc': 0.8846822053118208, 'eval_accuracy': 0.35, 'eval_runtime': 1.8953, 'eval_samples_per_second': 316.571, 'eval_steps_per_second': 39.571, 'epoch': 1.0}\n",
      "{'loss': 0.2979, 'grad_norm': 0.8947088718414307, 'learning_rate': 1.5294117647058822e-05, 'epoch': 1.18}\n"
     ]
    },
    {
     "data": {
      "application/vnd.jupyter.widget-view+json": {
       "model_id": "ffaeeb5e1fe848d5a759fb29246b1b4c",
       "version_major": 2,
       "version_minor": 0
      },
      "text/plain": [
       "  0%|          | 0/75 [00:00<?, ?it/s]"
      ]
     },
     "metadata": {},
     "output_type": "display_data"
    },
    {
     "name": "stdout",
     "output_type": "stream",
     "text": [
      "{'eval_loss': 0.15345533192157745, 'eval_f1': 0.7413122226554436, 'eval_roc_auc': 0.9374411300447603, 'eval_accuracy': 0.6266666666666667, 'eval_runtime': 1.6688, 'eval_samples_per_second': 359.541, 'eval_steps_per_second': 44.943, 'epoch': 2.0}\n",
      "{'loss': 0.1642, 'grad_norm': 1.5687649250030518, 'learning_rate': 1.0588235294117648e-05, 'epoch': 2.35}\n"
     ]
    },
    {
     "data": {
      "application/vnd.jupyter.widget-view+json": {
       "model_id": "d6a6d17bfbda4950b3cca5ce10696c10",
       "version_major": 2,
       "version_minor": 0
      },
      "text/plain": [
       "  0%|          | 0/75 [00:00<?, ?it/s]"
      ]
     },
     "metadata": {},
     "output_type": "display_data"
    },
    {
     "name": "stdout",
     "output_type": "stream",
     "text": [
      "{'eval_loss': 0.11803614348173141, 'eval_f1': 0.7760932266576731, 'eval_roc_auc': 0.9628237646951947, 'eval_accuracy': 0.6666666666666666, 'eval_runtime': 1.6935, 'eval_samples_per_second': 354.298, 'eval_steps_per_second': 44.287, 'epoch': 3.0}\n",
      "{'loss': 0.1065, 'grad_norm': 3.4459903240203857, 'learning_rate': 5.882352941176471e-06, 'epoch': 3.53}\n"
     ]
    },
    {
     "data": {
      "application/vnd.jupyter.widget-view+json": {
       "model_id": "047ca6ddb5a14c38b2daf1dd1a388e4e",
       "version_major": 2,
       "version_minor": 0
      },
      "text/plain": [
       "  0%|          | 0/75 [00:00<?, ?it/s]"
      ]
     },
     "metadata": {},
     "output_type": "display_data"
    },
    {
     "name": "stdout",
     "output_type": "stream",
     "text": [
      "{'eval_loss': 0.10612314194440842, 'eval_f1': 0.8320611337729067, 'eval_roc_auc': 0.9682819913102609, 'eval_accuracy': 0.7166666666666667, 'eval_runtime': 1.9161, 'eval_samples_per_second': 313.13, 'eval_steps_per_second': 39.141, 'epoch': 4.0}\n",
      "{'loss': 0.0861, 'grad_norm': 1.1769434213638306, 'learning_rate': 1.1764705882352942e-06, 'epoch': 4.71}\n"
     ]
    },
    {
     "data": {
      "application/vnd.jupyter.widget-view+json": {
       "model_id": "8891b457ce674ae98eb5c56f1578eb6b",
       "version_major": 2,
       "version_minor": 0
      },
      "text/plain": [
       "  0%|          | 0/75 [00:00<?, ?it/s]"
      ]
     },
     "metadata": {},
     "output_type": "display_data"
    },
    {
     "name": "stdout",
     "output_type": "stream",
     "text": [
      "{'eval_loss': 0.10176999121904373, 'eval_f1': 0.8582596792134712, 'eval_roc_auc': 0.9685859963641356, 'eval_accuracy': 0.75, 'eval_runtime': 1.8991, 'eval_samples_per_second': 315.942, 'eval_steps_per_second': 39.493, 'epoch': 5.0}\n",
      "{'train_runtime': 195.2962, 'train_samples_per_second': 87.047, 'train_steps_per_second': 10.881, 'train_loss': 0.1585790723912856, 'epoch': 5.0}\n"
     ]
    },
    {
     "data": {
      "text/plain": [
       "TrainOutput(global_step=2125, training_loss=0.1585790723912856, metrics={'train_runtime': 195.2962, 'train_samples_per_second': 87.047, 'train_steps_per_second': 10.881, 'train_loss': 0.1585790723912856, 'epoch': 5.0})"
      ]
     },
     "execution_count": 20,
     "metadata": {},
     "output_type": "execute_result"
    }
   ],
   "source": [
    "# Setup trainer & run training\n",
    "trainer = Trainer(\n",
    "    model,\n",
    "    args,\n",
    "    train_dataset=encoded_dataset[\"train\"],\n",
    "    eval_dataset=encoded_dataset[\"eval\"],\n",
    "    tokenizer=tokenizer,\n",
    "    compute_metrics=compute_metrics,\n",
    ")\n",
    "\n",
    "trainer.train()"
   ]
  },
  {
   "cell_type": "markdown",
   "metadata": {},
   "source": [
    "Evaluate on eval set and get all metrics"
   ]
  },
  {
   "cell_type": "code",
   "execution_count": 21,
   "metadata": {
    "colab": {
     "base_uri": "https://localhost:8080/",
     "height": 181
    },
    "id": "AnB67PSvURni",
    "outputId": "760653c5-dec4-4980-9954-db349de11ae1"
   },
   "outputs": [
    {
     "data": {
      "application/vnd.jupyter.widget-view+json": {
       "model_id": "ae34547caf1d4237a172324f34c56d67",
       "version_major": 2,
       "version_minor": 0
      },
      "text/plain": [
       "  0%|          | 0/75 [00:00<?, ?it/s]"
      ]
     },
     "metadata": {},
     "output_type": "display_data"
    },
    {
     "data": {
      "text/plain": [
       "{'eval_loss': 0.10176999121904373,\n",
       " 'eval_f1': 0.8582596792134712,\n",
       " 'eval_roc_auc': 0.9685859963641356,\n",
       " 'eval_accuracy': 0.75,\n",
       " 'eval_runtime': 1.945,\n",
       " 'eval_samples_per_second': 308.491,\n",
       " 'eval_steps_per_second': 38.561,\n",
       " 'epoch': 5.0}"
      ]
     },
     "execution_count": 21,
     "metadata": {},
     "output_type": "execute_result"
    }
   ],
   "source": [
    "# Evaluate on training set\n",
    "trainer.evaluate()"
   ]
  },
  {
   "cell_type": "markdown",
   "metadata": {},
   "source": [
    "Save the weights"
   ]
  },
  {
   "cell_type": "code",
   "execution_count": 22,
   "metadata": {
    "id": "95gOE5cb9Lun"
   },
   "outputs": [],
   "source": [
    "trainer.save_model(export_path/saved_model_name)"
   ]
  },
  {
   "cell_type": "markdown",
   "metadata": {
    "id": "GKeGJZcg9AKc"
   },
   "source": [
    "## Evaluate the model on test sets\n",
    "\n",
    "Fetch predictions on the test set & calculate metrics"
   ]
  },
  {
   "cell_type": "code",
   "execution_count": 23,
   "metadata": {},
   "outputs": [],
   "source": [
    "# Inference function\n",
    "def run_inference(trainer, input_data, threshold=0.5):\n",
    "    predictions_raw = trainer.predict(input_data).predictions\n",
    "\n",
    "    # Apply sigmoid function & binarise\n",
    "    sigmoid = torch.nn.Sigmoid()\n",
    "    predictions_probs = sigmoid(torch.Tensor(predictions_raw))\n",
    "    predictions_binarised = (predictions_probs > threshold) * 1\n",
    "\n",
    "    return(predictions_probs, predictions_binarised)\n",
    "\n",
    "\n",
    "# Metrics function\n",
    "def calculate_metrics(y_true, predictions_probs,\n",
    "                      predictions_binarised,\n",
    "                      labels, \n",
    "                      result_precision=2, \n",
    "                      averaging_method = \"weighted\",\n",
    "    ):\n",
    "    # Calculate per class metrics\n",
    "    scores_per_class = {}\n",
    "    scores_per_class[\"F1-Score\"] = f1_score(y_true=y_true, y_pred=predictions_binarised, average=None)\n",
    "    scores_per_class[\"ROC AUC\"] = roc_auc_score(y_true=y_true, y_score=predictions_probs, average=None)\n",
    "    scores_per_class[\"PR AUC\"] = average_precision_score(y_true=y_true, y_score=predictions_probs, average=None)\n",
    "\n",
    "    scores_per_class = pd.DataFrame.from_dict(scores_per_class,orient='index', columns=labels)\n",
    "    \n",
    "    # Calculate average metrics\n",
    "    scores_average = {}\n",
    "    scores_average[\"F1-Score\"] = f1_score(y_true=y_true, y_pred=predictions_binarised, average=averaging_method)\n",
    "    scores_average[\"ROC AUC\"] = roc_auc_score(y_true=y_true, y_score=predictions_probs, average=averaging_method)\n",
    "    scores_average[\"PR AUC\"] = average_precision_score(y_true=y_true, y_score=predictions_probs, average=averaging_method)\n",
    "\n",
    "    # Format into printable string\n",
    "    metrics_string = \"\"\n",
    "    for score_name, avg_score_value in scores_average.items():\n",
    "        avg_score = avg_score_value.round(result_precision)\n",
    "        min_sore = scores_per_class.loc[score_name].min().round(result_precision)\n",
    "        max_score = scores_per_class.loc[score_name].max().round(result_precision) \n",
    "        metrics_string += f\"{score_name}: {avg_score} ({min_sore}-{max_score})\\n\"\n",
    "    \n",
    "    return scores_per_class, scores_average, metrics_string"
   ]
  },
  {
   "cell_type": "markdown",
   "metadata": {},
   "source": [
    "Internal & External test set\n",
    "- Run infererrence on the internal and external test sets\n",
    "- Calculate per class and average metrics\n",
    "- Print string in this format per metric `<average>(<worst performing class> - <highest scoring class>)`"
   ]
  },
  {
   "cell_type": "code",
   "execution_count": 24,
   "metadata": {
    "colab": {
     "base_uri": "https://localhost:8080/",
     "height": 17
    },
    "id": "FZlwmxxTWEOm",
    "outputId": "39f5f1a2-475d-4e70-f18d-1e2f9648626c"
   },
   "outputs": [
    {
     "name": "stdout",
     "output_type": "stream",
     "text": [
      "Test set: Oxford\n"
     ]
    },
    {
     "data": {
      "application/vnd.jupyter.widget-view+json": {
       "model_id": "72826b61df384da4ba843a8549cf61ff",
       "version_major": 2,
       "version_minor": 0
      },
      "text/plain": [
       "  0%|          | 0/250 [00:00<?, ?it/s]"
      ]
     },
     "metadata": {},
     "output_type": "display_data"
    },
    {
     "name": "stdout",
     "output_type": "stream",
     "text": [
      "          urinary  respiratory  abdominal  neurological  skin_soft_tissue  \\\n",
      "F1-Score     0.97         0.98       0.94          0.23              0.94   \n",
      "ROC AUC      0.98         1.00       0.98          0.97              0.99   \n",
      "PR AUC       0.98         0.99       0.97          0.69              0.95   \n",
      "\n",
      "           ent  orthopaedic  other_specific  no_specific_source  prophylaxis  \\\n",
      "F1-Score  0.27         0.59            0.63                0.98         0.98   \n",
      "ROC AUC   0.96         0.99            0.91                0.99         0.99   \n",
      "PR AUC    0.85         0.94            0.77                0.99         0.99   \n",
      "\n",
      "          uncertainty  not_informative  \n",
      "F1-Score         0.95             0.67  \n",
      "ROC AUC          1.00             0.98  \n",
      "PR AUC           0.97             0.92  \n",
      "F1-Score: 0.93 (0.23-0.98)\n",
      "ROC AUC: 0.99 (0.91-1.0)\n",
      "PR AUC: 0.97 (0.69-0.99)\n",
      "\n",
      "Test set: Banbury\n"
     ]
    },
    {
     "data": {
      "application/vnd.jupyter.widget-view+json": {
       "model_id": "4878799106c94d0a90b9be2e643cc22c",
       "version_major": 2,
       "version_minor": 0
      },
      "text/plain": [
       "  0%|          | 0/250 [00:00<?, ?it/s]"
      ]
     },
     "metadata": {},
     "output_type": "display_data"
    },
    {
     "name": "stdout",
     "output_type": "stream",
     "text": [
      "          urinary  respiratory  abdominal  neurological  skin_soft_tissue  \\\n",
      "F1-Score     0.99         0.99       0.92          0.76              0.96   \n",
      "ROC AUC      1.00         1.00       0.98          1.00              0.99   \n",
      "PR AUC       1.00         1.00       0.96          1.00              0.98   \n",
      "\n",
      "           ent  orthopaedic  other_specific  no_specific_source  prophylaxis  \\\n",
      "F1-Score  0.73         0.63            0.65                0.98         0.98   \n",
      "ROC AUC   0.99         1.00            0.95                1.00         0.99   \n",
      "PR AUC    0.90         0.88            0.75                0.98         0.99   \n",
      "\n",
      "          uncertainty  not_informative  \n",
      "F1-Score         0.99             0.79  \n",
      "ROC AUC          1.00             0.97  \n",
      "PR AUC           0.99             0.91  \n",
      "F1-Score: 0.97 (0.63-0.99)\n",
      "ROC AUC: 0.99 (0.95-1.0)\n",
      "PR AUC: 0.98 (0.75-1.0)\n",
      "\n"
     ]
    }
   ],
   "source": [
    "pred_threshold = 0.5\n",
    "\n",
    "test_set_names = {\n",
    "    \"Oxford\": \"test\",\n",
    "    \"Banbury\": \"test_external\"\n",
    "}\n",
    "\n",
    "for test_location, test_name in test_set_names.items():\n",
    "    print(\"Test set:\", test_location)\n",
    "\n",
    "    # Run inference on test set\n",
    "    predictions_probs, predictions_binarised = \\\n",
    "        run_inference(trainer, encoded_dataset[test_name], threshold=pred_threshold)\n",
    "\n",
    "    # Get true labels\n",
    "    y_test_true = encoded_dataset[test_name][\"labels\"]\n",
    "\n",
    "    # Calculate metrics\n",
    "    scores_per_class, scores_average, metrics_string = \\\n",
    "        calculate_metrics(y_test_true, predictions_probs, predictions_binarised, labels, averaging_method=\"weighted\")\n",
    "    \n",
    "    # Print metrics\n",
    "    pd.set_option('display.precision', 2)\n",
    "    print(scores_per_class)\n",
    "    print(metrics_string)\n",
    "\n",
    "    # Save predictions for further analysis\n",
    "    predictions_binarised_df = pd.DataFrame(predictions_binarised, columns=labels)\n",
    "    predictions_binarised_df.to_csv(export_path/f\"predictions_{model_selection}_{test_location}.csv\", index=False)\n",
    "\n",
    "    predictions_probs_df = pd.DataFrame(predictions_probs, columns=labels)\n",
    "    predictions_probs_df.to_csv(export_path/f\"predictions_proba_{model_selection}_{test_location}.csv\", index=False)\n"
   ]
  }
 ],
 "metadata": {
  "accelerator": "GPU",
  "colab": {
   "provenance": []
  },
  "gpuClass": "standard",
  "kernelspec": {
   "display_name": "Python 3",
   "name": "python3"
  },
  "language_info": {
   "codemirror_mode": {
    "name": "ipython",
    "version": 3
   },
   "file_extension": ".py",
   "mimetype": "text/x-python",
   "name": "python",
   "nbconvert_exporter": "python",
   "pygments_lexer": "ipython3",
   "version": "3.11.8"
  },
  "widgets": {
   "application/vnd.jupyter.widget-state+json": {
    "0eb5774a706844f993ae374b1270d2a0": {
     "model_module": "@jupyter-widgets/controls",
     "model_module_version": "1.5.0",
     "model_name": "DescriptionStyleModel",
     "state": {
      "_model_module": "@jupyter-widgets/controls",
      "_model_module_version": "1.5.0",
      "_model_name": "DescriptionStyleModel",
      "_view_count": null,
      "_view_module": "@jupyter-widgets/base",
      "_view_module_version": "1.2.0",
      "_view_name": "StyleView",
      "description_width": ""
     }
    },
    "1a3d327472cb44648991694fc8d0481d": {
     "model_module": "@jupyter-widgets/base",
     "model_module_version": "1.2.0",
     "model_name": "LayoutModel",
     "state": {
      "_model_module": "@jupyter-widgets/base",
      "_model_module_version": "1.2.0",
      "_model_name": "LayoutModel",
      "_view_count": null,
      "_view_module": "@jupyter-widgets/base",
      "_view_module_version": "1.2.0",
      "_view_name": "LayoutView",
      "align_content": null,
      "align_items": null,
      "align_self": null,
      "border": null,
      "bottom": null,
      "display": null,
      "flex": null,
      "flex_flow": null,
      "grid_area": null,
      "grid_auto_columns": null,
      "grid_auto_flow": null,
      "grid_auto_rows": null,
      "grid_column": null,
      "grid_gap": null,
      "grid_row": null,
      "grid_template_areas": null,
      "grid_template_columns": null,
      "grid_template_rows": null,
      "height": null,
      "justify_content": null,
      "justify_items": null,
      "left": null,
      "margin": null,
      "max_height": null,
      "max_width": null,
      "min_height": null,
      "min_width": null,
      "object_fit": null,
      "object_position": null,
      "order": null,
      "overflow": null,
      "overflow_x": null,
      "overflow_y": null,
      "padding": null,
      "right": null,
      "top": null,
      "visibility": null,
      "width": null
     }
    },
    "1fcf08d5ad1d4baeb9c78159cd44c5ce": {
     "model_module": "@jupyter-widgets/base",
     "model_module_version": "1.2.0",
     "model_name": "LayoutModel",
     "state": {
      "_model_module": "@jupyter-widgets/base",
      "_model_module_version": "1.2.0",
      "_model_name": "LayoutModel",
      "_view_count": null,
      "_view_module": "@jupyter-widgets/base",
      "_view_module_version": "1.2.0",
      "_view_name": "LayoutView",
      "align_content": null,
      "align_items": null,
      "align_self": null,
      "border": null,
      "bottom": null,
      "display": null,
      "flex": null,
      "flex_flow": null,
      "grid_area": null,
      "grid_auto_columns": null,
      "grid_auto_flow": null,
      "grid_auto_rows": null,
      "grid_column": null,
      "grid_gap": null,
      "grid_row": null,
      "grid_template_areas": null,
      "grid_template_columns": null,
      "grid_template_rows": null,
      "height": null,
      "justify_content": null,
      "justify_items": null,
      "left": null,
      "margin": null,
      "max_height": null,
      "max_width": null,
      "min_height": null,
      "min_width": null,
      "object_fit": null,
      "object_position": null,
      "order": null,
      "overflow": null,
      "overflow_x": null,
      "overflow_y": null,
      "padding": null,
      "right": null,
      "top": null,
      "visibility": "hidden",
      "width": null
     }
    },
    "2fb56d4f91194def9c995d30b2af01d9": {
     "model_module": "@jupyter-widgets/controls",
     "model_module_version": "1.5.0",
     "model_name": "HTMLModel",
     "state": {
      "_dom_classes": [],
      "_model_module": "@jupyter-widgets/controls",
      "_model_module_version": "1.5.0",
      "_model_name": "HTMLModel",
      "_view_count": null,
      "_view_module": "@jupyter-widgets/controls",
      "_view_module_version": "1.5.0",
      "_view_name": "HTMLView",
      "description": "",
      "description_tooltip": null,
      "layout": "IPY_MODEL_75056710738f432f8bce72980cd14e55",
      "placeholder": "​",
      "style": "IPY_MODEL_e9b99b2b480146ed9781c6d527fdd4a7",
      "value": " 4000/4345 [00:00&lt;00:00, 8473.83 examples/s]"
     }
    },
    "33edb64e041f459e87740b443f03acfc": {
     "model_module": "@jupyter-widgets/controls",
     "model_module_version": "1.5.0",
     "model_name": "DescriptionStyleModel",
     "state": {
      "_model_module": "@jupyter-widgets/controls",
      "_model_module_version": "1.5.0",
      "_model_name": "DescriptionStyleModel",
      "_view_count": null,
      "_view_module": "@jupyter-widgets/base",
      "_view_module_version": "1.2.0",
      "_view_name": "StyleView",
      "description_width": ""
     }
    },
    "36577f7f1bb0466c85129ce70d950620": {
     "model_module": "@jupyter-widgets/base",
     "model_module_version": "1.2.0",
     "model_name": "LayoutModel",
     "state": {
      "_model_module": "@jupyter-widgets/base",
      "_model_module_version": "1.2.0",
      "_model_name": "LayoutModel",
      "_view_count": null,
      "_view_module": "@jupyter-widgets/base",
      "_view_module_version": "1.2.0",
      "_view_name": "LayoutView",
      "align_content": null,
      "align_items": null,
      "align_self": null,
      "border": null,
      "bottom": null,
      "display": null,
      "flex": null,
      "flex_flow": null,
      "grid_area": null,
      "grid_auto_columns": null,
      "grid_auto_flow": null,
      "grid_auto_rows": null,
      "grid_column": null,
      "grid_gap": null,
      "grid_row": null,
      "grid_template_areas": null,
      "grid_template_columns": null,
      "grid_template_rows": null,
      "height": null,
      "justify_content": null,
      "justify_items": null,
      "left": null,
      "margin": null,
      "max_height": null,
      "max_width": null,
      "min_height": null,
      "min_width": null,
      "object_fit": null,
      "object_position": null,
      "order": null,
      "overflow": null,
      "overflow_x": null,
      "overflow_y": null,
      "padding": null,
      "right": null,
      "top": null,
      "visibility": null,
      "width": null
     }
    },
    "481c56afb1374cd28b1129f8d4057205": {
     "model_module": "@jupyter-widgets/base",
     "model_module_version": "1.2.0",
     "model_name": "LayoutModel",
     "state": {
      "_model_module": "@jupyter-widgets/base",
      "_model_module_version": "1.2.0",
      "_model_name": "LayoutModel",
      "_view_count": null,
      "_view_module": "@jupyter-widgets/base",
      "_view_module_version": "1.2.0",
      "_view_name": "LayoutView",
      "align_content": null,
      "align_items": null,
      "align_self": null,
      "border": null,
      "bottom": null,
      "display": null,
      "flex": null,
      "flex_flow": null,
      "grid_area": null,
      "grid_auto_columns": null,
      "grid_auto_flow": null,
      "grid_auto_rows": null,
      "grid_column": null,
      "grid_gap": null,
      "grid_row": null,
      "grid_template_areas": null,
      "grid_template_columns": null,
      "grid_template_rows": null,
      "height": null,
      "justify_content": null,
      "justify_items": null,
      "left": null,
      "margin": null,
      "max_height": null,
      "max_width": null,
      "min_height": null,
      "min_width": null,
      "object_fit": null,
      "object_position": null,
      "order": null,
      "overflow": null,
      "overflow_x": null,
      "overflow_y": null,
      "padding": null,
      "right": null,
      "top": null,
      "visibility": null,
      "width": null
     }
    },
    "4b34e3ab7fa44061b155e88f57b4596a": {
     "model_module": "@jupyter-widgets/controls",
     "model_module_version": "1.5.0",
     "model_name": "HBoxModel",
     "state": {
      "_dom_classes": [],
      "_model_module": "@jupyter-widgets/controls",
      "_model_module_version": "1.5.0",
      "_model_name": "HBoxModel",
      "_view_count": null,
      "_view_module": "@jupyter-widgets/controls",
      "_view_module_version": "1.5.0",
      "_view_name": "HBoxView",
      "box_style": "",
      "children": [
       "IPY_MODEL_5429cd94c8944fd193ccbe0fb96d5f03",
       "IPY_MODEL_fbe622fc5307411ba62ce9149b544d72",
       "IPY_MODEL_f2c1934fd4824b099b266ed26c1ebce1"
      ],
      "layout": "IPY_MODEL_ec6c6109c199437492d367ae489a0a64"
     }
    },
    "5429cd94c8944fd193ccbe0fb96d5f03": {
     "model_module": "@jupyter-widgets/controls",
     "model_module_version": "1.5.0",
     "model_name": "HTMLModel",
     "state": {
      "_dom_classes": [],
      "_model_module": "@jupyter-widgets/controls",
      "_model_module_version": "1.5.0",
      "_model_name": "HTMLModel",
      "_view_count": null,
      "_view_module": "@jupyter-widgets/controls",
      "_view_module_version": "1.5.0",
      "_view_name": "HTMLView",
      "description": "",
      "description_tooltip": null,
      "layout": "IPY_MODEL_c2f8d5545b2049a5a738d680525e39bd",
      "placeholder": "​",
      "style": "IPY_MODEL_33edb64e041f459e87740b443f03acfc",
      "value": "Map:  50%"
     }
    },
    "75056710738f432f8bce72980cd14e55": {
     "model_module": "@jupyter-widgets/base",
     "model_module_version": "1.2.0",
     "model_name": "LayoutModel",
     "state": {
      "_model_module": "@jupyter-widgets/base",
      "_model_module_version": "1.2.0",
      "_model_name": "LayoutModel",
      "_view_count": null,
      "_view_module": "@jupyter-widgets/base",
      "_view_module_version": "1.2.0",
      "_view_name": "LayoutView",
      "align_content": null,
      "align_items": null,
      "align_self": null,
      "border": null,
      "bottom": null,
      "display": null,
      "flex": null,
      "flex_flow": null,
      "grid_area": null,
      "grid_auto_columns": null,
      "grid_auto_flow": null,
      "grid_auto_rows": null,
      "grid_column": null,
      "grid_gap": null,
      "grid_row": null,
      "grid_template_areas": null,
      "grid_template_columns": null,
      "grid_template_rows": null,
      "height": null,
      "justify_content": null,
      "justify_items": null,
      "left": null,
      "margin": null,
      "max_height": null,
      "max_width": null,
      "min_height": null,
      "min_width": null,
      "object_fit": null,
      "object_position": null,
      "order": null,
      "overflow": null,
      "overflow_x": null,
      "overflow_y": null,
      "padding": null,
      "right": null,
      "top": null,
      "visibility": null,
      "width": null
     }
    },
    "7a4ba4a9ec354c17893530ecf9da3308": {
     "model_module": "@jupyter-widgets/controls",
     "model_module_version": "1.5.0",
     "model_name": "HTMLModel",
     "state": {
      "_dom_classes": [],
      "_model_module": "@jupyter-widgets/controls",
      "_model_module_version": "1.5.0",
      "_model_name": "HTMLModel",
      "_view_count": null,
      "_view_module": "@jupyter-widgets/controls",
      "_view_module_version": "1.5.0",
      "_view_name": "HTMLView",
      "description": "",
      "description_tooltip": null,
      "layout": "IPY_MODEL_857f6ba896ad44dfa172b5c6c52dfda0",
      "placeholder": "​",
      "style": "IPY_MODEL_0eb5774a706844f993ae374b1270d2a0",
      "value": " 95382/? [03:12&lt;00:00, 585.44it/s]"
     }
    },
    "7adcf8583fff4e41a072fc219af9ffc8": {
     "model_module": "@jupyter-widgets/controls",
     "model_module_version": "1.5.0",
     "model_name": "FloatProgressModel",
     "state": {
      "_dom_classes": [],
      "_model_module": "@jupyter-widgets/controls",
      "_model_module_version": "1.5.0",
      "_model_name": "FloatProgressModel",
      "_view_count": null,
      "_view_module": "@jupyter-widgets/controls",
      "_view_module_version": "1.5.0",
      "_view_name": "ProgressView",
      "bar_style": "",
      "description": "",
      "description_tooltip": null,
      "layout": "IPY_MODEL_986625fcdf454adb9c98800f043d7777",
      "max": 4345,
      "min": 0,
      "orientation": "horizontal",
      "style": "IPY_MODEL_b481aca6eb0c4ac4924691b6286c52ba",
      "value": 4345
     }
    },
    "804c9f000ce64c78a0005e995d672297": {
     "model_module": "@jupyter-widgets/controls",
     "model_module_version": "1.5.0",
     "model_name": "DescriptionStyleModel",
     "state": {
      "_model_module": "@jupyter-widgets/controls",
      "_model_module_version": "1.5.0",
      "_model_name": "DescriptionStyleModel",
      "_view_count": null,
      "_view_module": "@jupyter-widgets/base",
      "_view_module_version": "1.2.0",
      "_view_name": "StyleView",
      "description_width": ""
     }
    },
    "857f6ba896ad44dfa172b5c6c52dfda0": {
     "model_module": "@jupyter-widgets/base",
     "model_module_version": "1.2.0",
     "model_name": "LayoutModel",
     "state": {
      "_model_module": "@jupyter-widgets/base",
      "_model_module_version": "1.2.0",
      "_model_name": "LayoutModel",
      "_view_count": null,
      "_view_module": "@jupyter-widgets/base",
      "_view_module_version": "1.2.0",
      "_view_name": "LayoutView",
      "align_content": null,
      "align_items": null,
      "align_self": null,
      "border": null,
      "bottom": null,
      "display": null,
      "flex": null,
      "flex_flow": null,
      "grid_area": null,
      "grid_auto_columns": null,
      "grid_auto_flow": null,
      "grid_auto_rows": null,
      "grid_column": null,
      "grid_gap": null,
      "grid_row": null,
      "grid_template_areas": null,
      "grid_template_columns": null,
      "grid_template_rows": null,
      "height": null,
      "justify_content": null,
      "justify_items": null,
      "left": null,
      "margin": null,
      "max_height": null,
      "max_width": null,
      "min_height": null,
      "min_width": null,
      "object_fit": null,
      "object_position": null,
      "order": null,
      "overflow": null,
      "overflow_x": null,
      "overflow_y": null,
      "padding": null,
      "right": null,
      "top": null,
      "visibility": null,
      "width": null
     }
    },
    "96c1e4074a824388b228b2404838232d": {
     "model_module": "@jupyter-widgets/controls",
     "model_module_version": "1.5.0",
     "model_name": "DescriptionStyleModel",
     "state": {
      "_model_module": "@jupyter-widgets/controls",
      "_model_module_version": "1.5.0",
      "_model_name": "DescriptionStyleModel",
      "_view_count": null,
      "_view_module": "@jupyter-widgets/base",
      "_view_module_version": "1.2.0",
      "_view_name": "StyleView",
      "description_width": ""
     }
    },
    "986625fcdf454adb9c98800f043d7777": {
     "model_module": "@jupyter-widgets/base",
     "model_module_version": "1.2.0",
     "model_name": "LayoutModel",
     "state": {
      "_model_module": "@jupyter-widgets/base",
      "_model_module_version": "1.2.0",
      "_model_name": "LayoutModel",
      "_view_count": null,
      "_view_module": "@jupyter-widgets/base",
      "_view_module_version": "1.2.0",
      "_view_name": "LayoutView",
      "align_content": null,
      "align_items": null,
      "align_self": null,
      "border": null,
      "bottom": null,
      "display": null,
      "flex": null,
      "flex_flow": null,
      "grid_area": null,
      "grid_auto_columns": null,
      "grid_auto_flow": null,
      "grid_auto_rows": null,
      "grid_column": null,
      "grid_gap": null,
      "grid_row": null,
      "grid_template_areas": null,
      "grid_template_columns": null,
      "grid_template_rows": null,
      "height": null,
      "justify_content": null,
      "justify_items": null,
      "left": null,
      "margin": null,
      "max_height": null,
      "max_width": null,
      "min_height": null,
      "min_width": null,
      "object_fit": null,
      "object_position": null,
      "order": null,
      "overflow": null,
      "overflow_x": null,
      "overflow_y": null,
      "padding": null,
      "right": null,
      "top": null,
      "visibility": null,
      "width": null
     }
    },
    "9d5e6e163e964060b07f1029fc1a2951": {
     "model_module": "@jupyter-widgets/controls",
     "model_module_version": "1.5.0",
     "model_name": "HBoxModel",
     "state": {
      "_dom_classes": [],
      "_model_module": "@jupyter-widgets/controls",
      "_model_module_version": "1.5.0",
      "_model_name": "HBoxModel",
      "_view_count": null,
      "_view_module": "@jupyter-widgets/controls",
      "_view_module_version": "1.5.0",
      "_view_name": "HBoxView",
      "box_style": "",
      "children": [
       "IPY_MODEL_bb5cad9f0392408ca7a53a65a8c104bf",
       "IPY_MODEL_7adcf8583fff4e41a072fc219af9ffc8",
       "IPY_MODEL_2fb56d4f91194def9c995d30b2af01d9"
      ],
      "layout": "IPY_MODEL_1fcf08d5ad1d4baeb9c78159cd44c5ce"
     }
    },
    "a30afc70b95349928972ab104981529c": {
     "model_module": "@jupyter-widgets/base",
     "model_module_version": "1.2.0",
     "model_name": "LayoutModel",
     "state": {
      "_model_module": "@jupyter-widgets/base",
      "_model_module_version": "1.2.0",
      "_model_name": "LayoutModel",
      "_view_count": null,
      "_view_module": "@jupyter-widgets/base",
      "_view_module_version": "1.2.0",
      "_view_name": "LayoutView",
      "align_content": null,
      "align_items": null,
      "align_self": null,
      "border": null,
      "bottom": null,
      "display": null,
      "flex": null,
      "flex_flow": null,
      "grid_area": null,
      "grid_auto_columns": null,
      "grid_auto_flow": null,
      "grid_auto_rows": null,
      "grid_column": null,
      "grid_gap": null,
      "grid_row": null,
      "grid_template_areas": null,
      "grid_template_columns": null,
      "grid_template_rows": null,
      "height": null,
      "justify_content": null,
      "justify_items": null,
      "left": null,
      "margin": null,
      "max_height": null,
      "max_width": null,
      "min_height": null,
      "min_width": null,
      "object_fit": null,
      "object_position": null,
      "order": null,
      "overflow": null,
      "overflow_x": null,
      "overflow_y": null,
      "padding": null,
      "right": null,
      "top": null,
      "visibility": null,
      "width": null
     }
    },
    "a3d2c07f74e04623a165e0adc4c5a918": {
     "model_module": "@jupyter-widgets/controls",
     "model_module_version": "1.5.0",
     "model_name": "HTMLModel",
     "state": {
      "_dom_classes": [],
      "_model_module": "@jupyter-widgets/controls",
      "_model_module_version": "1.5.0",
      "_model_name": "HTMLModel",
      "_view_count": null,
      "_view_module": "@jupyter-widgets/controls",
      "_view_module_version": "1.5.0",
      "_view_name": "HTMLView",
      "description": "",
      "description_tooltip": null,
      "layout": "IPY_MODEL_a30afc70b95349928972ab104981529c",
      "placeholder": "​",
      "style": "IPY_MODEL_96c1e4074a824388b228b2404838232d",
      "value": ""
     }
    },
    "a97e7073122447a2ad26afd886b07115": {
     "model_module": "@jupyter-widgets/controls",
     "model_module_version": "1.5.0",
     "model_name": "ProgressStyleModel",
     "state": {
      "_model_module": "@jupyter-widgets/controls",
      "_model_module_version": "1.5.0",
      "_model_name": "ProgressStyleModel",
      "_view_count": null,
      "_view_module": "@jupyter-widgets/base",
      "_view_module_version": "1.2.0",
      "_view_name": "StyleView",
      "bar_color": null,
      "description_width": ""
     }
    },
    "a9c4a23c5d9a4b089e49a2b3d81796bd": {
     "model_module": "@jupyter-widgets/base",
     "model_module_version": "1.2.0",
     "model_name": "LayoutModel",
     "state": {
      "_model_module": "@jupyter-widgets/base",
      "_model_module_version": "1.2.0",
      "_model_name": "LayoutModel",
      "_view_count": null,
      "_view_module": "@jupyter-widgets/base",
      "_view_module_version": "1.2.0",
      "_view_name": "LayoutView",
      "align_content": null,
      "align_items": null,
      "align_self": null,
      "border": null,
      "bottom": null,
      "display": null,
      "flex": null,
      "flex_flow": null,
      "grid_area": null,
      "grid_auto_columns": null,
      "grid_auto_flow": null,
      "grid_auto_rows": null,
      "grid_column": null,
      "grid_gap": null,
      "grid_row": null,
      "grid_template_areas": null,
      "grid_template_columns": null,
      "grid_template_rows": null,
      "height": null,
      "justify_content": null,
      "justify_items": null,
      "left": null,
      "margin": null,
      "max_height": null,
      "max_width": null,
      "min_height": null,
      "min_width": null,
      "object_fit": null,
      "object_position": null,
      "order": null,
      "overflow": null,
      "overflow_x": null,
      "overflow_y": null,
      "padding": null,
      "right": null,
      "top": null,
      "visibility": null,
      "width": null
     }
    },
    "abaa515ec4704a0ea8b14ad0aec6e91c": {
     "model_module": "@jupyter-widgets/controls",
     "model_module_version": "1.5.0",
     "model_name": "FloatProgressModel",
     "state": {
      "_dom_classes": [],
      "_model_module": "@jupyter-widgets/controls",
      "_model_module_version": "1.5.0",
      "_model_name": "FloatProgressModel",
      "_view_count": null,
      "_view_module": "@jupyter-widgets/controls",
      "_view_module_version": "1.5.0",
      "_view_name": "ProgressView",
      "bar_style": "success",
      "description": "",
      "description_tooltip": null,
      "layout": "IPY_MODEL_36577f7f1bb0466c85129ce70d950620",
      "max": 11923,
      "min": 0,
      "orientation": "horizontal",
      "style": "IPY_MODEL_a97e7073122447a2ad26afd886b07115",
      "value": 11923
     }
    },
    "b481aca6eb0c4ac4924691b6286c52ba": {
     "model_module": "@jupyter-widgets/controls",
     "model_module_version": "1.5.0",
     "model_name": "ProgressStyleModel",
     "state": {
      "_model_module": "@jupyter-widgets/controls",
      "_model_module_version": "1.5.0",
      "_model_name": "ProgressStyleModel",
      "_view_count": null,
      "_view_module": "@jupyter-widgets/base",
      "_view_module_version": "1.2.0",
      "_view_name": "StyleView",
      "bar_color": null,
      "description_width": ""
     }
    },
    "bb5cad9f0392408ca7a53a65a8c104bf": {
     "model_module": "@jupyter-widgets/controls",
     "model_module_version": "1.5.0",
     "model_name": "HTMLModel",
     "state": {
      "_dom_classes": [],
      "_model_module": "@jupyter-widgets/controls",
      "_model_module_version": "1.5.0",
      "_model_name": "HTMLModel",
      "_view_count": null,
      "_view_module": "@jupyter-widgets/controls",
      "_view_module_version": "1.5.0",
      "_view_name": "HTMLView",
      "description": "",
      "description_tooltip": null,
      "layout": "IPY_MODEL_481c56afb1374cd28b1129f8d4057205",
      "placeholder": "​",
      "style": "IPY_MODEL_804c9f000ce64c78a0005e995d672297",
      "value": "Map:  92%"
     }
    },
    "c2f8d5545b2049a5a738d680525e39bd": {
     "model_module": "@jupyter-widgets/base",
     "model_module_version": "1.2.0",
     "model_name": "LayoutModel",
     "state": {
      "_model_module": "@jupyter-widgets/base",
      "_model_module_version": "1.2.0",
      "_model_name": "LayoutModel",
      "_view_count": null,
      "_view_module": "@jupyter-widgets/base",
      "_view_module_version": "1.2.0",
      "_view_name": "LayoutView",
      "align_content": null,
      "align_items": null,
      "align_self": null,
      "border": null,
      "bottom": null,
      "display": null,
      "flex": null,
      "flex_flow": null,
      "grid_area": null,
      "grid_auto_columns": null,
      "grid_auto_flow": null,
      "grid_auto_rows": null,
      "grid_column": null,
      "grid_gap": null,
      "grid_row": null,
      "grid_template_areas": null,
      "grid_template_columns": null,
      "grid_template_rows": null,
      "height": null,
      "justify_content": null,
      "justify_items": null,
      "left": null,
      "margin": null,
      "max_height": null,
      "max_width": null,
      "min_height": null,
      "min_width": null,
      "object_fit": null,
      "object_position": null,
      "order": null,
      "overflow": null,
      "overflow_x": null,
      "overflow_y": null,
      "padding": null,
      "right": null,
      "top": null,
      "visibility": null,
      "width": null
     }
    },
    "ceaa3af1ab2d419cb777b117db1794d0": {
     "model_module": "@jupyter-widgets/controls",
     "model_module_version": "1.5.0",
     "model_name": "HBoxModel",
     "state": {
      "_dom_classes": [],
      "_model_module": "@jupyter-widgets/controls",
      "_model_module_version": "1.5.0",
      "_model_name": "HBoxModel",
      "_view_count": null,
      "_view_module": "@jupyter-widgets/controls",
      "_view_module_version": "1.5.0",
      "_view_name": "HBoxView",
      "box_style": "",
      "children": [
       "IPY_MODEL_a3d2c07f74e04623a165e0adc4c5a918",
       "IPY_MODEL_abaa515ec4704a0ea8b14ad0aec6e91c",
       "IPY_MODEL_7a4ba4a9ec354c17893530ecf9da3308"
      ],
      "layout": "IPY_MODEL_a9c4a23c5d9a4b089e49a2b3d81796bd"
     }
    },
    "e92136737f9a486d9f55b7a6f2517e59": {
     "model_module": "@jupyter-widgets/controls",
     "model_module_version": "1.5.0",
     "model_name": "ProgressStyleModel",
     "state": {
      "_model_module": "@jupyter-widgets/controls",
      "_model_module_version": "1.5.0",
      "_model_name": "ProgressStyleModel",
      "_view_count": null,
      "_view_module": "@jupyter-widgets/base",
      "_view_module_version": "1.2.0",
      "_view_name": "StyleView",
      "bar_color": null,
      "description_width": ""
     }
    },
    "e9b99b2b480146ed9781c6d527fdd4a7": {
     "model_module": "@jupyter-widgets/controls",
     "model_module_version": "1.5.0",
     "model_name": "DescriptionStyleModel",
     "state": {
      "_model_module": "@jupyter-widgets/controls",
      "_model_module_version": "1.5.0",
      "_model_name": "DescriptionStyleModel",
      "_view_count": null,
      "_view_module": "@jupyter-widgets/base",
      "_view_module_version": "1.2.0",
      "_view_name": "StyleView",
      "description_width": ""
     }
    },
    "ec6c6109c199437492d367ae489a0a64": {
     "model_module": "@jupyter-widgets/base",
     "model_module_version": "1.2.0",
     "model_name": "LayoutModel",
     "state": {
      "_model_module": "@jupyter-widgets/base",
      "_model_module_version": "1.2.0",
      "_model_name": "LayoutModel",
      "_view_count": null,
      "_view_module": "@jupyter-widgets/base",
      "_view_module_version": "1.2.0",
      "_view_name": "LayoutView",
      "align_content": null,
      "align_items": null,
      "align_self": null,
      "border": null,
      "bottom": null,
      "display": null,
      "flex": null,
      "flex_flow": null,
      "grid_area": null,
      "grid_auto_columns": null,
      "grid_auto_flow": null,
      "grid_auto_rows": null,
      "grid_column": null,
      "grid_gap": null,
      "grid_row": null,
      "grid_template_areas": null,
      "grid_template_columns": null,
      "grid_template_rows": null,
      "height": null,
      "justify_content": null,
      "justify_items": null,
      "left": null,
      "margin": null,
      "max_height": null,
      "max_width": null,
      "min_height": null,
      "min_width": null,
      "object_fit": null,
      "object_position": null,
      "order": null,
      "overflow": null,
      "overflow_x": null,
      "overflow_y": null,
      "padding": null,
      "right": null,
      "top": null,
      "visibility": "hidden",
      "width": null
     }
    },
    "f0c79382841645c1a8caa2c194840ea8": {
     "model_module": "@jupyter-widgets/base",
     "model_module_version": "1.2.0",
     "model_name": "LayoutModel",
     "state": {
      "_model_module": "@jupyter-widgets/base",
      "_model_module_version": "1.2.0",
      "_model_name": "LayoutModel",
      "_view_count": null,
      "_view_module": "@jupyter-widgets/base",
      "_view_module_version": "1.2.0",
      "_view_name": "LayoutView",
      "align_content": null,
      "align_items": null,
      "align_self": null,
      "border": null,
      "bottom": null,
      "display": null,
      "flex": null,
      "flex_flow": null,
      "grid_area": null,
      "grid_auto_columns": null,
      "grid_auto_flow": null,
      "grid_auto_rows": null,
      "grid_column": null,
      "grid_gap": null,
      "grid_row": null,
      "grid_template_areas": null,
      "grid_template_columns": null,
      "grid_template_rows": null,
      "height": null,
      "justify_content": null,
      "justify_items": null,
      "left": null,
      "margin": null,
      "max_height": null,
      "max_width": null,
      "min_height": null,
      "min_width": null,
      "object_fit": null,
      "object_position": null,
      "order": null,
      "overflow": null,
      "overflow_x": null,
      "overflow_y": null,
      "padding": null,
      "right": null,
      "top": null,
      "visibility": null,
      "width": null
     }
    },
    "f2c1934fd4824b099b266ed26c1ebce1": {
     "model_module": "@jupyter-widgets/controls",
     "model_module_version": "1.5.0",
     "model_name": "HTMLModel",
     "state": {
      "_dom_classes": [],
      "_model_module": "@jupyter-widgets/controls",
      "_model_module_version": "1.5.0",
      "_model_name": "HTMLModel",
      "_view_count": null,
      "_view_module": "@jupyter-widgets/controls",
      "_view_module_version": "1.5.0",
      "_view_name": "HTMLView",
      "description": "",
      "description_tooltip": null,
      "layout": "IPY_MODEL_1a3d327472cb44648991694fc8d0481d",
      "placeholder": "​",
      "style": "IPY_MODEL_f359df8da4584e25b8abd00dc56ae645",
      "value": " 1000/2000 [00:00&lt;00:00, 8266.72 examples/s]"
     }
    },
    "f359df8da4584e25b8abd00dc56ae645": {
     "model_module": "@jupyter-widgets/controls",
     "model_module_version": "1.5.0",
     "model_name": "DescriptionStyleModel",
     "state": {
      "_model_module": "@jupyter-widgets/controls",
      "_model_module_version": "1.5.0",
      "_model_name": "DescriptionStyleModel",
      "_view_count": null,
      "_view_module": "@jupyter-widgets/base",
      "_view_module_version": "1.2.0",
      "_view_name": "StyleView",
      "description_width": ""
     }
    },
    "fbe622fc5307411ba62ce9149b544d72": {
     "model_module": "@jupyter-widgets/controls",
     "model_module_version": "1.5.0",
     "model_name": "FloatProgressModel",
     "state": {
      "_dom_classes": [],
      "_model_module": "@jupyter-widgets/controls",
      "_model_module_version": "1.5.0",
      "_model_name": "FloatProgressModel",
      "_view_count": null,
      "_view_module": "@jupyter-widgets/controls",
      "_view_module_version": "1.5.0",
      "_view_name": "ProgressView",
      "bar_style": "",
      "description": "",
      "description_tooltip": null,
      "layout": "IPY_MODEL_f0c79382841645c1a8caa2c194840ea8",
      "max": 2000,
      "min": 0,
      "orientation": "horizontal",
      "style": "IPY_MODEL_e92136737f9a486d9f55b7a6f2517e59",
      "value": 2000
     }
    }
   }
  }
 },
 "nbformat": 4,
 "nbformat_minor": 0
}
