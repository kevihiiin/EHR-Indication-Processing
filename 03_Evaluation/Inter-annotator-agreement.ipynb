{
 "cells": [
  {
   "attachments": {},
   "cell_type": "markdown",
   "metadata": {},
   "source": [
    "# Inter-annotator Agreement Scores\n",
    "1. Preprocess labeled data.\n",
    "    1. Collapse labels\n",
    "    2. Rename labels\n",
    "    3. Convert rows with no labels to \"not infection\"\n",
    "    4. Fill NAs\n",
    "\n",
    "2. Match to the actual test sets\n",
    "3. Calculate the Cohen-Kappa score"
   ]
  },
  {
   "attachments": {},
   "cell_type": "markdown",
   "metadata": {},
   "source": [
    "## Import Libraries and Data"
   ]
  },
  {
   "cell_type": "code",
   "execution_count": 1,
   "metadata": {},
   "outputs": [
    {
     "name": "stdout",
     "output_type": "stream",
     "text": [
      "/Users/kyuan/DPhil/Projects/EHR-Indication-Processing/03_Evaluation\n"
     ]
    }
   ],
   "source": [
    "# Import libraries\n",
    "import os\n",
    "import pandas as pd\n",
    "import numpy as np\n",
    "\n",
    "from pathlib import Path\n",
    "from collections import defaultdict\n",
    "\n",
    "# Show current working directory\n",
    "print(os.getcwd())"
   ]
  },
  {
   "cell_type": "markdown",
   "metadata": {},
   "source": [
    "Specify paths and other runtime options"
   ]
  },
  {
   "cell_type": "code",
   "execution_count": 2,
   "metadata": {},
   "outputs": [],
   "source": [
    "# --- Set Paths\n",
    "# Set base data path\n",
    "base_data_path = Path(\"../00_Data\")\n",
    "\n",
    "assert base_data_path.is_dir(),\\\n",
    "  f\"{base_data_path} either doesn't exist or is not a directory.\"\n",
    "\n",
    "# Set output data path\n",
    "output_path = base_data_path/\"publication_ready\"/\"evaluation\"\n",
    "output_path.mkdir(exist_ok=True)\n",
    "\n",
    "# Data Sets path\n",
    "data_sets_path = base_data_path/\"data_sets\"\n",
    "\n",
    "# Raw data path\n",
    "raw_labels_path = base_data_path/\"raw_labels\""
   ]
  },
  {
   "cell_type": "markdown",
   "metadata": {},
   "source": [
    "Read the raw reviewer data"
   ]
  },
  {
   "cell_type": "code",
   "execution_count": 3,
   "metadata": {},
   "outputs": [
    {
     "name": "stdout",
     "output_type": "stream",
     "text": [
      "Reading consensus labels:\n",
      "---\n",
      "For reviewer:  Reviewer_A\n",
      "indication_labels_v2-Reviewer_A\n",
      "indication_labels_v3-Reviewer_A\n",
      "indication_labels_v4.1-Reviewer_A\n",
      "indication_labels_v4.2-Reviewer_A\n",
      "---\n",
      "For reviewer:  Reviewer_B\n",
      "indication_labels_v2-Reviewer_B\n",
      "indication_labels_v3-Reviewer_B\n",
      "indication_labels_v4.1-Reviewer_B\n",
      "indication_labels_v4.2-Reviewer_B\n",
      "---\n",
      "Summary:\n",
      "{'Reviewer_A': (5648, 15), 'Reviewer_B': (5648, 15)}\n"
     ]
    }
   ],
   "source": [
    "# --- Import data\n",
    "# Read all label CSV files starting with \"indication_labels_*.csv\"\n",
    "reviewer_labels_raw = {\n",
    "    \"Reviewer_A\": None,\n",
    "    \"Reviewer_B\": None,\n",
    "}\n",
    "\n",
    "print(\"Reading consensus labels:\")\n",
    "for reviewer in reviewer_labels_raw.keys():\n",
    "    print(\"---\")\n",
    "    print(\"For reviewer: \", reviewer)\n",
    "\n",
    "    raw_label_list = []\n",
    "\n",
    "    for file in sorted(raw_labels_path.glob(f\"indication_labels_v*-{reviewer}.csv\")):\n",
    "        print(file.stem)\n",
    "        raw_label_list.append(pd.read_csv(\n",
    "          file,\n",
    "          dtype=str,\n",
    "          keep_default_na=False,\n",
    "          na_values=[\"NA\"],\n",
    "        ))\n",
    "    \n",
    "    # Concatenate all the dataframes\n",
    "    reviewer_labels_raw[reviewer] = pd.concat(raw_label_list, ignore_index=True)\n",
    "\n",
    "print(\"---\")\n",
    "print(\"Summary:\")\n",
    "print({key: value.shape for key, value in reviewer_labels_raw.items()})"
   ]
  },
  {
   "cell_type": "code",
   "execution_count": 4,
   "metadata": {},
   "outputs": [
    {
     "name": "stdout",
     "output_type": "stream",
     "text": [
      "Reading unlabelled data:\n",
      "Train_Set_4000\n",
      "Test_Set_2000\n",
      "Test_Set_2000\n"
     ]
    }
   ],
   "source": [
    "# Read the Unlabelled Data\n",
    "unlabelled_data_dict = {\n",
    "  \"training\": data_sets_path/'Oxford/Train_Set_4000.csv',\n",
    "  \"test_oxford\": data_sets_path/'Oxford/Test_Set_2000.csv',\n",
    "  \"test_banbury\": data_sets_path/'Banbury/Test_Set_2000.csv',\n",
    "}\n",
    "\n",
    "unlabelled_data = {}\n",
    "\n",
    "print(\"Reading unlabelled data:\")\n",
    "for key, value in unlabelled_data_dict.items():\n",
    "    print(value.stem)\n",
    "    unlabelled_data[key] = pd.read_csv(\n",
    "      value,\n",
    "      dtype={\"Indication\": str},\n",
    "      keep_default_na=False,\n",
    "      na_values=None,\n",
    "    )"
   ]
  },
  {
   "attachments": {},
   "cell_type": "markdown",
   "metadata": {},
   "source": [
    "## Pre-Process the Datasets\n",
    "Unify the labels, collapse some categories, convert to the same datatype.\n",
    "\n",
    "Then apply labels to our data sets"
   ]
  },
  {
   "attachments": {},
   "cell_type": "markdown",
   "metadata": {},
   "source": [
    "### Unify labels"
   ]
  },
  {
   "attachments": {},
   "cell_type": "markdown",
   "metadata": {},
   "source": [
    "Define function to collapse labels & perform some cleaning steps"
   ]
  },
  {
   "cell_type": "code",
   "execution_count": 5,
   "metadata": {},
   "outputs": [],
   "source": [
    "def collapse_labels(input_df: pd.DataFrame) -> pd.DataFrame:\n",
    "    # -- Convert all columns to integer except for \"Indication\"\n",
    "    input_df = input_df.replace(r'^\\s*$', np.nan, regex=True)\n",
    "    input_df = input_df.astype({col: 'Int64' for col in input_df.columns if col != \"Indication\"})\n",
    "\n",
    "    # -- Collapse [\"prophylaxis\", \"procedural\"] into \"prophylaxis\", and\n",
    "    # [\"immunosuppression\", \"viral\"] into \"not_infection\"\n",
    "    input_df[\"prophylaxis\"] = input_df[[\"prophylaxis\", \"procedural\"]].any(axis=1) * 1\n",
    "    input_df[\"not_informative\"] = input_df[['viral']].any(axis=1) * 1\n",
    "\n",
    "    # Drop the collapsed columns\n",
    "    labels_to_drop = ['procedural', 'viral']\n",
    "    input_df = input_df.drop(columns = labels_to_drop)\n",
    "\n",
    "    # -- Clean column names & columns\n",
    "    # Rename \"other\" column to \"other_specific\"\n",
    "    input_df = input_df.rename(columns={\"other\": \"other_specific\"})\n",
    "\n",
    "    # Drop \"immunosuppression\" column\n",
    "    input_df = input_df.drop(columns = ['immunosuppression'])\n",
    "\n",
    "    # -- Convert all entries with no specified indication to \"not_informative\"\n",
    "    # Get mask of rows with no label\n",
    "    df_mask = ~input_df.drop(columns=[\"Indication\", \"uncertainty\"]).any(axis=1)\n",
    "    # Apply binary or to \"not_informative\" column and mask\n",
    "    input_df[\"not_informative\"] = input_df[\"not_informative\"] | (df_mask * 1)\n",
    "\n",
    "    print(\"Number of entries with no label converted to 'not_informative':\",\n",
    "        df_mask.sum())\n",
    "    print(\"Added \\\"not_informative\\\" indications:\\n\", input_df[df_mask].Indication)\n",
    "    \n",
    "    # -- Unify Data Types\n",
    "    # Fill NaN and empty strings with 0\n",
    "    input_df = input_df.fillna(0)  \n",
    "\n",
    "    # Convert numbers to integers\n",
    "    input_num_cols = input_df.select_dtypes(np.number)\n",
    "    input_df[input_num_cols.columns] = input_num_cols.astype('Int64')\n",
    "\n",
    "    # -- Make distinct. Keep last occurence\n",
    "    input_df = input_df.drop_duplicates(subset=[\"Indication\"], keep=\"last\")\n",
    "\n",
    "    return input_df"
   ]
  },
  {
   "attachments": {},
   "cell_type": "markdown",
   "metadata": {},
   "source": [
    "Convert the training data and collapse labels."
   ]
  },
  {
   "cell_type": "code",
   "execution_count": 6,
   "metadata": {},
   "outputs": [
    {
     "name": "stdout",
     "output_type": "stream",
     "text": [
      "---\n",
      "Reviewer:  Reviewer_A\n",
      "Number of entries with no label converted to 'not_informative': 2\n",
      "Added \"not_informative\" indications:\n",
      " 2414                   n/a\n",
      "5419    ?hap- pen allergic\n",
      "Name: Indication, dtype: object\n",
      "\n",
      "\n",
      "Final shape:\n",
      "(5615, 13)\n",
      "---\n",
      "Reviewer:  Reviewer_B\n",
      "Number of entries with no label converted to 'not_informative': 8\n",
      "Added \"not_informative\" indications:\n",
      " 1                               ?\n",
      "690                           bro\n",
      "1109                         cons\n",
      "1319            e. cloacae in csf\n",
      "1435               esbl urosepsis\n",
      "2092    intrabdominal collections\n",
      "2414                          n/a\n",
      "3396               sepsis ? focus\n",
      "Name: Indication, dtype: object\n",
      "\n",
      "\n",
      "Final shape:\n",
      "(5615, 13)\n"
     ]
    }
   ],
   "source": [
    "# Collapse columns\n",
    "reviewer_labels = {}\n",
    "\n",
    "for reviewer, raw_label_df in reviewer_labels_raw.items():\n",
    "    print(\"---\")\n",
    "    print(\"Reviewer: \", reviewer)\n",
    "    reviewer_labels[reviewer] = collapse_labels(raw_label_df)\n",
    "    print(\"\\n\")\n",
    "\n",
    "    # Show final shape\n",
    "    print(\"Final shape:\")\n",
    "    print(reviewer_labels[reviewer].shape)"
   ]
  },
  {
   "attachments": {},
   "cell_type": "markdown",
   "metadata": {},
   "source": [
    "### Subscript data \n",
    "Convert back to the sizes for `Oxford Training`, `Oxford Test` and `Banbury Test`"
   ]
  },
  {
   "cell_type": "code",
   "execution_count": 7,
   "metadata": {},
   "outputs": [],
   "source": [
    "def join_to_original(original_df: pd.DataFrame, label_df: pd.DataFrame) -> pd.DataFrame:\n",
    "    # Join input_df with original_df\n",
    "    joined_df = original_df[[\"Indication\"]].\\\n",
    "        join(\n",
    "            label_df.set_index(\"Indication\"),\n",
    "            on=\"Indication\", \n",
    "            how=\"left\",\n",
    "            validate=\"many_to_one\")\n",
    "\n",
    "    # Verify that we don't have any missing entries\n",
    "    missing_rows = joined_df[joined_df.isna().any(axis=1)]\n",
    "    print(\"Rows with NA values:\")\n",
    "    print(missing_rows.Indication)\n",
    "\n",
    "    assert missing_rows.shape[0] == 0, \"There are unlabelled entries in the training data.\"\n",
    "\n",
    "    return joined_df"
   ]
  },
  {
   "cell_type": "markdown",
   "metadata": {},
   "source": [
    "#### Training"
   ]
  },
  {
   "attachments": {},
   "cell_type": "markdown",
   "metadata": {},
   "source": [
    "Join back with the original data, keep only the \"Indication\" column"
   ]
  },
  {
   "cell_type": "code",
   "execution_count": 8,
   "metadata": {},
   "outputs": [
    {
     "name": "stdout",
     "output_type": "stream",
     "text": [
      "Rows with NA values:\n",
      "Series([], Name: Indication, dtype: object)\n",
      "Rows with NA values:\n",
      "Series([], Name: Indication, dtype: object)\n"
     ]
    }
   ],
   "source": [
    "# Join test_unlabeled_df with complete_labels\n",
    "oxford_training = {reviewer: join_to_original(unlabelled_data[\"training\"], reviewer_labels[reviewer]) for reviewer in reviewer_labels.keys()}"
   ]
  },
  {
   "cell_type": "markdown",
   "metadata": {},
   "source": [
    "#### Test\n",
    "Join back with the original test data, keep only a subset of the columns neede to identify the prescription.\n",
    "\n",
    "For publication strip the identifiable data & only keep the indication"
   ]
  },
  {
   "cell_type": "code",
   "execution_count": 9,
   "metadata": {},
   "outputs": [
    {
     "name": "stdout",
     "output_type": "stream",
     "text": [
      "Rows with NA values:\n",
      "Series([], Name: Indication, dtype: object)\n",
      "Rows with NA values:\n",
      "Series([], Name: Indication, dtype: object)\n",
      "Rows with NA values:\n",
      "Series([], Name: Indication, dtype: object)\n",
      "Rows with NA values:\n",
      "Series([], Name: Indication, dtype: object)\n"
     ]
    }
   ],
   "source": [
    "oxford_test = {reviewer: join_to_original(unlabelled_data[\"test_oxford\"], reviewer_labels[reviewer]) for reviewer in reviewer_labels.keys()}\n",
    "\n",
    "banbury_test = {reviewer: join_to_original(unlabelled_data[\"test_banbury\"], reviewer_labels[reviewer]) for reviewer in reviewer_labels.keys()}"
   ]
  },
  {
   "cell_type": "markdown",
   "metadata": {},
   "source": [
    "## Calculate Kappa Score"
   ]
  },
  {
   "cell_type": "markdown",
   "metadata": {},
   "source": [
    "Calculate the per class Cohen Kappa Score and an averaged version"
   ]
  },
  {
   "cell_type": "code",
   "execution_count": 15,
   "metadata": {},
   "outputs": [],
   "source": [
    "# Calculate the Cohen's Kappa Score between the two reviewers for each class and an average\n",
    "from sklearn.metrics import cohen_kappa_score\n",
    "\n",
    "def calculate_kappa_score(reviewer1_df: pd.DataFrame, reviewer2_df: pd.DataFrame) -> pd.DataFrame:\n",
    "    # Calculate Cohen's Kappa Score\n",
    "    kappa_scores = {}\n",
    "\n",
    "    for col in reviewer1_df.columns[1:]:\n",
    "        kappa_scores[col] = cohen_kappa_score(reviewer1_df[col], reviewer2_df[col])\n",
    "\n",
    "    # Average Kappa Score\n",
    "    kappa_scores[\"Average\"] = sum(kappa_scores.values()) / len(kappa_scores)\n",
    "\n",
    "    return pd.DataFrame(kappa_scores, index=[\"Kappa Score\"])\n",
    "\n",
    "# Format the data to two decimal places\n",
    "pd.options.display.float_format = \"{:.2f}\".format"
   ]
  },
  {
   "cell_type": "markdown",
   "metadata": {},
   "source": [
    "Oxford Training"
   ]
  },
  {
   "cell_type": "code",
   "execution_count": 23,
   "metadata": {},
   "outputs": [
    {
     "name": "stdout",
     "output_type": "stream",
     "text": [
      "Oxford Training Data:\n"
     ]
    },
    {
     "data": {
      "text/html": [
       "<div>\n",
       "<style scoped>\n",
       "    .dataframe tbody tr th:only-of-type {\n",
       "        vertical-align: middle;\n",
       "    }\n",
       "\n",
       "    .dataframe tbody tr th {\n",
       "        vertical-align: top;\n",
       "    }\n",
       "\n",
       "    .dataframe thead th {\n",
       "        text-align: right;\n",
       "    }\n",
       "</style>\n",
       "<table border=\"1\" class=\"dataframe\">\n",
       "  <thead>\n",
       "    <tr style=\"text-align: right;\">\n",
       "      <th></th>\n",
       "      <th>urinary</th>\n",
       "      <th>respiratory</th>\n",
       "      <th>abdominal</th>\n",
       "      <th>neurological</th>\n",
       "      <th>skin_soft_tissue</th>\n",
       "      <th>ent</th>\n",
       "      <th>orthopaedic</th>\n",
       "      <th>other_specific</th>\n",
       "      <th>no_specific_source</th>\n",
       "      <th>prophylaxis</th>\n",
       "      <th>uncertainty</th>\n",
       "      <th>not_informative</th>\n",
       "      <th>Average</th>\n",
       "    </tr>\n",
       "  </thead>\n",
       "  <tbody>\n",
       "    <tr>\n",
       "      <th>Kappa Score</th>\n",
       "      <td>0.90</td>\n",
       "      <td>0.88</td>\n",
       "      <td>0.83</td>\n",
       "      <td>0.91</td>\n",
       "      <td>0.84</td>\n",
       "      <td>0.59</td>\n",
       "      <td>0.74</td>\n",
       "      <td>0.55</td>\n",
       "      <td>0.76</td>\n",
       "      <td>0.81</td>\n",
       "      <td>0.96</td>\n",
       "      <td>0.80</td>\n",
       "      <td>0.80</td>\n",
       "    </tr>\n",
       "  </tbody>\n",
       "</table>\n",
       "</div>"
      ],
      "text/plain": [
       "             urinary  respiratory  abdominal  neurological  skin_soft_tissue  \\\n",
       "Kappa Score     0.90         0.88       0.83          0.91              0.84   \n",
       "\n",
       "             ent  orthopaedic  other_specific  no_specific_source  \\\n",
       "Kappa Score 0.59         0.74            0.55                0.76   \n",
       "\n",
       "             prophylaxis  uncertainty  not_informative  Average  \n",
       "Kappa Score         0.81         0.96             0.80     0.80  "
      ]
     },
     "execution_count": 23,
     "metadata": {},
     "output_type": "execute_result"
    }
   ],
   "source": [
    "# Oxford Training Data\n",
    "print(\"Oxford Training Data:\")\n",
    "calculate_kappa_score(oxford_training[\"Reviewer_A\"], oxford_training[\"Reviewer_B\"])"
   ]
  },
  {
   "cell_type": "markdown",
   "metadata": {},
   "source": [
    "Oxford Test"
   ]
  },
  {
   "cell_type": "code",
   "execution_count": 24,
   "metadata": {},
   "outputs": [
    {
     "name": "stdout",
     "output_type": "stream",
     "text": [
      "Oxford Test Data:\n"
     ]
    },
    {
     "data": {
      "text/html": [
       "<div>\n",
       "<style scoped>\n",
       "    .dataframe tbody tr th:only-of-type {\n",
       "        vertical-align: middle;\n",
       "    }\n",
       "\n",
       "    .dataframe tbody tr th {\n",
       "        vertical-align: top;\n",
       "    }\n",
       "\n",
       "    .dataframe thead th {\n",
       "        text-align: right;\n",
       "    }\n",
       "</style>\n",
       "<table border=\"1\" class=\"dataframe\">\n",
       "  <thead>\n",
       "    <tr style=\"text-align: right;\">\n",
       "      <th></th>\n",
       "      <th>urinary</th>\n",
       "      <th>respiratory</th>\n",
       "      <th>abdominal</th>\n",
       "      <th>neurological</th>\n",
       "      <th>skin_soft_tissue</th>\n",
       "      <th>ent</th>\n",
       "      <th>orthopaedic</th>\n",
       "      <th>other_specific</th>\n",
       "      <th>no_specific_source</th>\n",
       "      <th>prophylaxis</th>\n",
       "      <th>uncertainty</th>\n",
       "      <th>not_informative</th>\n",
       "      <th>Average</th>\n",
       "    </tr>\n",
       "  </thead>\n",
       "  <tbody>\n",
       "    <tr>\n",
       "      <th>Kappa Score</th>\n",
       "      <td>0.95</td>\n",
       "      <td>0.93</td>\n",
       "      <td>0.88</td>\n",
       "      <td>0.81</td>\n",
       "      <td>0.84</td>\n",
       "      <td>0.73</td>\n",
       "      <td>0.75</td>\n",
       "      <td>0.43</td>\n",
       "      <td>0.86</td>\n",
       "      <td>0.93</td>\n",
       "      <td>0.80</td>\n",
       "      <td>0.81</td>\n",
       "      <td>0.81</td>\n",
       "    </tr>\n",
       "  </tbody>\n",
       "</table>\n",
       "</div>"
      ],
      "text/plain": [
       "             urinary  respiratory  abdominal  neurological  skin_soft_tissue  \\\n",
       "Kappa Score     0.95         0.93       0.88          0.81              0.84   \n",
       "\n",
       "             ent  orthopaedic  other_specific  no_specific_source  \\\n",
       "Kappa Score 0.73         0.75            0.43                0.86   \n",
       "\n",
       "             prophylaxis  uncertainty  not_informative  Average  \n",
       "Kappa Score         0.93         0.80             0.81     0.81  "
      ]
     },
     "execution_count": 24,
     "metadata": {},
     "output_type": "execute_result"
    }
   ],
   "source": [
    "# Oxford Test Data\n",
    "print(\"Oxford Test Data:\")\n",
    "calculate_kappa_score(oxford_test[\"Reviewer_A\"], oxford_test[\"Reviewer_B\"])"
   ]
  },
  {
   "cell_type": "markdown",
   "metadata": {},
   "source": [
    "Banbury Test"
   ]
  },
  {
   "cell_type": "code",
   "execution_count": 25,
   "metadata": {},
   "outputs": [
    {
     "name": "stdout",
     "output_type": "stream",
     "text": [
      "Banbury Test Data:\n"
     ]
    },
    {
     "data": {
      "text/html": [
       "<div>\n",
       "<style scoped>\n",
       "    .dataframe tbody tr th:only-of-type {\n",
       "        vertical-align: middle;\n",
       "    }\n",
       "\n",
       "    .dataframe tbody tr th {\n",
       "        vertical-align: top;\n",
       "    }\n",
       "\n",
       "    .dataframe thead th {\n",
       "        text-align: right;\n",
       "    }\n",
       "</style>\n",
       "<table border=\"1\" class=\"dataframe\">\n",
       "  <thead>\n",
       "    <tr style=\"text-align: right;\">\n",
       "      <th></th>\n",
       "      <th>urinary</th>\n",
       "      <th>respiratory</th>\n",
       "      <th>abdominal</th>\n",
       "      <th>neurological</th>\n",
       "      <th>skin_soft_tissue</th>\n",
       "      <th>ent</th>\n",
       "      <th>orthopaedic</th>\n",
       "      <th>other_specific</th>\n",
       "      <th>no_specific_source</th>\n",
       "      <th>prophylaxis</th>\n",
       "      <th>uncertainty</th>\n",
       "      <th>not_informative</th>\n",
       "      <th>Average</th>\n",
       "    </tr>\n",
       "  </thead>\n",
       "  <tbody>\n",
       "    <tr>\n",
       "      <th>Kappa Score</th>\n",
       "      <td>0.96</td>\n",
       "      <td>0.98</td>\n",
       "      <td>0.85</td>\n",
       "      <td>0.92</td>\n",
       "      <td>0.95</td>\n",
       "      <td>0.66</td>\n",
       "      <td>0.94</td>\n",
       "      <td>0.45</td>\n",
       "      <td>0.93</td>\n",
       "      <td>0.94</td>\n",
       "      <td>0.93</td>\n",
       "      <td>0.90</td>\n",
       "      <td>0.87</td>\n",
       "    </tr>\n",
       "  </tbody>\n",
       "</table>\n",
       "</div>"
      ],
      "text/plain": [
       "             urinary  respiratory  abdominal  neurological  skin_soft_tissue  \\\n",
       "Kappa Score     0.96         0.98       0.85          0.92              0.95   \n",
       "\n",
       "             ent  orthopaedic  other_specific  no_specific_source  \\\n",
       "Kappa Score 0.66         0.94            0.45                0.93   \n",
       "\n",
       "             prophylaxis  uncertainty  not_informative  Average  \n",
       "Kappa Score         0.94         0.93             0.90     0.87  "
      ]
     },
     "execution_count": 25,
     "metadata": {},
     "output_type": "execute_result"
    }
   ],
   "source": [
    "# Banbury Test Data\n",
    "print(\"Banbury Test Data:\")\n",
    "calculate_kappa_score(banbury_test[\"Reviewer_A\"], banbury_test[\"Reviewer_B\"])"
   ]
  }
 ],
 "metadata": {
  "kernelspec": {
   "display_name": ".venv",
   "language": "python",
   "name": "python3"
  },
  "language_info": {
   "codemirror_mode": {
    "name": "ipython",
    "version": 3
   },
   "file_extension": ".py",
   "mimetype": "text/x-python",
   "name": "python",
   "nbconvert_exporter": "python",
   "pygments_lexer": "ipython3",
   "version": "3.12.5"
  },
  "orig_nbformat": 4
 },
 "nbformat": 4,
 "nbformat_minor": 2
}
